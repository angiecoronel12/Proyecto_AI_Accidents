{
  "nbformat": 4,
  "nbformat_minor": 0,
  "metadata": {
    "colab": {
      "name": "01_Accident_Severity_Prediction.ipynb",
      "provenance": [],
      "collapsed_sections": [],
      "include_colab_link": true
    },
    "kernelspec": {
      "name": "python3",
      "display_name": "Python 3"
    },
    "language_info": {
      "name": "python"
    }
  },
  "cells": [
    {
      "cell_type": "markdown",
      "metadata": {
        "id": "view-in-github",
        "colab_type": "text"
      },
      "source": [
        "<a href=\"https://colab.research.google.com/github/angiecoronel12/Proyecto_AI_Accidents/blob/main/01_Accident_Severity_Prediction.ipynb\" target=\"_parent\"><img src=\"https://colab.research.google.com/assets/colab-badge.svg\" alt=\"Open In Colab\"/></a>"
      ]
    },
    {
      "cell_type": "markdown",
      "source": [
        "# ENTREGA 2 DEL PROYECTO IA\n",
        "\n",
        "PREDICCIÓN DE LA SEVERIDAD DE UN ACCIDENTE DE TRÁNSITO EN FUNCIÓN DEL TIPO DE VEHÍCULO\n",
        "\n",
        "Presentado por: \n",
        "\n",
        "LIZETH GIRALDO VELEZ\n",
        "CC:1001237603\n",
        "\n",
        "ANGIE LISETH CORONEL YELA \n",
        "CC: 108533329\n"
      ],
      "metadata": {
        "id": "3crE1i3sWahw"
      }
    },
    {
      "cell_type": "markdown",
      "source": [
        "## 1. EXPLORACIÓN DE LOS DATOS "
      ],
      "metadata": {
        "id": "UMI5jIIIWvTQ"
      }
    },
    {
      "cell_type": "markdown",
      "source": [
        "### 1.1 Carga de los datos desde Kaggle"
      ],
      "metadata": {
        "id": "PBDAQ961W4RO"
      }
    },
    {
      "cell_type": "code",
      "execution_count": null,
      "metadata": {
        "id": "BPZhO7D2lQ-9"
      },
      "outputs": [],
      "source": [
        " !pip install -q kaggle"
      ]
    },
    {
      "cell_type": "code",
      "source": [
        "from google.colab import files"
      ],
      "metadata": {
        "id": "kc2rRhAllUDD"
      },
      "execution_count": null,
      "outputs": []
    },
    {
      "cell_type": "code",
      "source": [
        "files.upload()"
      ],
      "metadata": {
        "colab": {
          "resources": {
            "http://localhost:8080/nbextensions/google.colab/files.js": {
              "data": "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",
              "ok": true,
              "headers": [
                [
                  "content-type",
                  "application/javascript"
                ]
              ],
              "status": 200,
              "status_text": ""
            }
          },
          "base_uri": "https://localhost:8080/",
          "height": 91
        },
        "id": "dqyPvXKulXBL",
        "outputId": "098da9e6-8424-410a-a33f-6e326f4751c8"
      },
      "execution_count": null,
      "outputs": [
        {
          "output_type": "display_data",
          "data": {
            "text/plain": [
              "<IPython.core.display.HTML object>"
            ],
            "text/html": [
              "\n",
              "     <input type=\"file\" id=\"files-9125aa5c-82fc-4ef3-9b8c-217428679b51\" name=\"files[]\" multiple disabled\n",
              "        style=\"border:none\" />\n",
              "     <output id=\"result-9125aa5c-82fc-4ef3-9b8c-217428679b51\">\n",
              "      Upload widget is only available when the cell has been executed in the\n",
              "      current browser session. Please rerun this cell to enable.\n",
              "      </output>\n",
              "      <script src=\"/nbextensions/google.colab/files.js\"></script> "
            ]
          },
          "metadata": {}
        },
        {
          "output_type": "stream",
          "name": "stdout",
          "text": [
            "Saving kaggle.json to kaggle.json\n"
          ]
        },
        {
          "output_type": "execute_result",
          "data": {
            "text/plain": [
              "{'kaggle.json': b'{\"username\":\"lizethgiraldovelez\",\"key\":\"6229669b0ff403256c82a8cd6c8ebf5a\"}'}"
            ]
          },
          "metadata": {},
          "execution_count": 5
        }
      ]
    },
    {
      "cell_type": "code",
      "source": [
        "!mkdir ~/.kaggle\n",
        "!cp kaggle.json ~/.kaggle/\n",
        "!chmod 600 ~/.kaggle/kaggle.json"
      ],
      "metadata": {
        "id": "G26FyJ8qlYry"
      },
      "execution_count": null,
      "outputs": []
    },
    {
      "cell_type": "code",
      "source": [
        "!kaggle datasets download -d benoit72/uk-accidents-10-years-history-with-many-variables"
      ],
      "metadata": {
        "colab": {
          "base_uri": "https://localhost:8080/"
        },
        "id": "M71eEtcelZmt",
        "outputId": "f47dc459-6440-4345-fe20-ff7e4cea326d"
      },
      "execution_count": null,
      "outputs": [
        {
          "output_type": "stream",
          "name": "stdout",
          "text": [
            "Downloading uk-accidents-10-years-history-with-many-variables.zip to /content\n",
            " 94% 97.0M/103M [00:00<00:00, 129MB/s]\n",
            "100% 103M/103M [00:00<00:00, 125MB/s] \n"
          ]
        }
      ]
    },
    {
      "cell_type": "code",
      "source": [
        "!unzip uk-accidents-10-years-history-with-many-variables;"
      ],
      "metadata": {
        "colab": {
          "base_uri": "https://localhost:8080/"
        },
        "id": "GHezAmN5mWCm",
        "outputId": "009a3409-3b03-48b6-a09e-0f706f698397"
      },
      "execution_count": null,
      "outputs": [
        {
          "output_type": "stream",
          "name": "stdout",
          "text": [
            "Archive:  uk-accidents-10-years-history-with-many-variables.zip\n",
            "  inflating: Accidents0514.csv       \n",
            "  inflating: Casualties0514.csv      \n",
            "  inflating: Road-Accident-Safety-Data-Guide.xls  \n",
            "  inflating: Vehicles0514.csv        \n"
          ]
        }
      ]
    },
    {
      "cell_type": "code",
      "source": [
        "# Se importan las librerias necesarias para este trabajo \n",
        "import pandas as pd\n",
        "import numpy as np\n",
        "import matplotlib.pyplot as plt\n",
        "import seaborn as sns\n",
        "from sklearn.linear_model import LinearRegression\n",
        "from sklearn.tree import DecisionTreeRegressor\n",
        "from sklearn.ensemble import RandomForestRegressor\n",
        "from sklearn.model_selection import cross_validate, ShuffleSplit\n",
        "from sklearn.model_selection import train_test_split\n",
        "from sklearn.model_selection import GridSearchCV"
      ],
      "metadata": {
        "id": "Sn-w6Sz6tgTE"
      },
      "execution_count": null,
      "outputs": []
    },
    {
      "cell_type": "markdown",
      "source": [
        "### 1.2 Lectura y primer análisis de los Dataset"
      ],
      "metadata": {
        "id": "7oCPd7M4s0cz"
      }
    },
    {
      "cell_type": "code",
      "source": [
        "#Cargar los datos\n",
        "df_accidents = pd.read_csv(\"Accidents0514.csv\")\n",
        "df_accidents = df_accidents.copy()\n",
        "\n",
        "df_vehicles = pd.read_csv(\"Vehicles0514.csv\")\n",
        "df_vehicles = df_vehicles.copy()\n",
        "\n",
        "df_victims = pd.read_csv(\"Casualties0514.csv\")\n",
        "df_victims = df_victims.copy()"
      ],
      "metadata": {
        "id": "zDaKo9__spXx"
      },
      "execution_count": null,
      "outputs": []
    },
    {
      "cell_type": "code",
      "source": [
        "df_accidents"
      ],
      "metadata": {
        "id": "yA_-hTDquiXG",
        "colab": {
          "base_uri": "https://localhost:8080/",
          "height": 505
        },
        "outputId": "2ad94e8d-706b-4088-a5a5-eaeaad5fcf2c"
      },
      "execution_count": null,
      "outputs": [
        {
          "output_type": "execute_result",
          "data": {
            "text/plain": [
              "        Accident_Index  Location_Easting_OSGR  Location_Northing_OSGR  \\\n",
              "0        200501BS00001               525680.0                178240.0   \n",
              "1        200501BS00002               524170.0                181650.0   \n",
              "2        200501BS00003               524520.0                182240.0   \n",
              "3        200501BS00004               526900.0                177530.0   \n",
              "4        200501BS00005               528060.0                179040.0   \n",
              "...                ...                    ...                     ...   \n",
              "1640592  2014984136414               310037.0                597647.0   \n",
              "1640593  2014984137514               321509.0                574063.0   \n",
              "1640594  2014984137714               321337.0                566365.0   \n",
              "1640595  2014984138414               323869.0                566853.0   \n",
              "1640596  2014984139614               314072.0                579971.0   \n",
              "\n",
              "         Longitude   Latitude  Police_Force  Accident_Severity  \\\n",
              "0        -0.191170  51.489096             1                  2   \n",
              "1        -0.211708  51.520075             1                  3   \n",
              "2        -0.206458  51.525301             1                  3   \n",
              "3        -0.173862  51.482442             1                  3   \n",
              "4        -0.156618  51.495752             1                  3   \n",
              "...            ...        ...           ...                ...   \n",
              "1640592  -3.417278  55.264773            98                  2   \n",
              "1640593  -3.230255  55.054855            98                  3   \n",
              "1640594  -3.230826  54.985668            98                  3   \n",
              "1640595  -3.191397  54.990446            98                  2   \n",
              "1640596  -3.348426  55.106700            98                  3   \n",
              "\n",
              "         Number_of_Vehicles  Number_of_Casualties        Date  ...  \\\n",
              "0                         1                     1  04/01/2005  ...   \n",
              "1                         1                     1  05/01/2005  ...   \n",
              "2                         2                     1  06/01/2005  ...   \n",
              "3                         1                     1  07/01/2005  ...   \n",
              "4                         1                     1  10/01/2005  ...   \n",
              "...                     ...                   ...         ...  ...   \n",
              "1640592                   2                     1  07/12/2014  ...   \n",
              "1640593                   2                     2  11/12/2014  ...   \n",
              "1640594                   1                     1  09/12/2014  ...   \n",
              "1640595                   3                     2  17/12/2014  ...   \n",
              "1640596                   2                     2  24/12/2014  ...   \n",
              "\n",
              "         Pedestrian_Crossing-Human_Control  \\\n",
              "0                                        0   \n",
              "1                                        0   \n",
              "2                                        0   \n",
              "3                                        0   \n",
              "4                                        0   \n",
              "...                                    ...   \n",
              "1640592                                  0   \n",
              "1640593                                  0   \n",
              "1640594                                  0   \n",
              "1640595                                  0   \n",
              "1640596                                  0   \n",
              "\n",
              "        Pedestrian_Crossing-Physical_Facilities  Light_Conditions  \\\n",
              "0                                             1                 1   \n",
              "1                                             5                 4   \n",
              "2                                             0                 4   \n",
              "3                                             0                 1   \n",
              "4                                             0                 7   \n",
              "...                                         ...               ...   \n",
              "1640592                                       0                 6   \n",
              "1640593                                       0                 6   \n",
              "1640594                                       0                 4   \n",
              "1640595                                       0                 6   \n",
              "1640596                                       0                 1   \n",
              "\n",
              "        Weather_Conditions  Road_Surface_Conditions  \\\n",
              "0                        2                        2   \n",
              "1                        1                        1   \n",
              "2                        1                        1   \n",
              "3                        1                        1   \n",
              "4                        1                        2   \n",
              "...                    ...                      ...   \n",
              "1640592                  3                        3   \n",
              "1640593                  1                        3   \n",
              "1640594                  1                        4   \n",
              "1640595                  2                        2   \n",
              "1640596                  1                        2   \n",
              "\n",
              "         Special_Conditions_at_Site  Carriageway_Hazards  Urban_or_Rural_Area  \\\n",
              "0                                 0                    0                    1   \n",
              "1                                 0                    0                    1   \n",
              "2                                 0                    0                    1   \n",
              "3                                 0                    0                    1   \n",
              "4                                 0                    0                    1   \n",
              "...                             ...                  ...                  ...   \n",
              "1640592                           0                    0                    2   \n",
              "1640593                           0                    0                    2   \n",
              "1640594                           0                    0                    2   \n",
              "1640595                           0                    0                    2   \n",
              "1640596                           0                    0                    2   \n",
              "\n",
              "         Did_Police_Officer_Attend_Scene_of_Accident  \\\n",
              "0                                                  1   \n",
              "1                                                  1   \n",
              "2                                                  1   \n",
              "3                                                  1   \n",
              "4                                                  1   \n",
              "...                                              ...   \n",
              "1640592                                            1   \n",
              "1640593                                            1   \n",
              "1640594                                            1   \n",
              "1640595                                            1   \n",
              "1640596                                            1   \n",
              "\n",
              "         LSOA_of_Accident_Location  \n",
              "0                        E01002849  \n",
              "1                        E01002909  \n",
              "2                        E01002857  \n",
              "3                        E01002840  \n",
              "4                        E01002863  \n",
              "...                            ...  \n",
              "1640592                        NaN  \n",
              "1640593                        NaN  \n",
              "1640594                        NaN  \n",
              "1640595                        NaN  \n",
              "1640596                        NaN  \n",
              "\n",
              "[1640597 rows x 32 columns]"
            ],
            "text/html": [
              "\n",
              "  <div id=\"df-1a6ec3cd-a7c4-4c2a-b3b1-a3e0c27cea76\">\n",
              "    <div class=\"colab-df-container\">\n",
              "      <div>\n",
              "<style scoped>\n",
              "    .dataframe tbody tr th:only-of-type {\n",
              "        vertical-align: middle;\n",
              "    }\n",
              "\n",
              "    .dataframe tbody tr th {\n",
              "        vertical-align: top;\n",
              "    }\n",
              "\n",
              "    .dataframe thead th {\n",
              "        text-align: right;\n",
              "    }\n",
              "</style>\n",
              "<table border=\"1\" class=\"dataframe\">\n",
              "  <thead>\n",
              "    <tr style=\"text-align: right;\">\n",
              "      <th></th>\n",
              "      <th>Accident_Index</th>\n",
              "      <th>Location_Easting_OSGR</th>\n",
              "      <th>Location_Northing_OSGR</th>\n",
              "      <th>Longitude</th>\n",
              "      <th>Latitude</th>\n",
              "      <th>Police_Force</th>\n",
              "      <th>Accident_Severity</th>\n",
              "      <th>Number_of_Vehicles</th>\n",
              "      <th>Number_of_Casualties</th>\n",
              "      <th>Date</th>\n",
              "      <th>...</th>\n",
              "      <th>Pedestrian_Crossing-Human_Control</th>\n",
              "      <th>Pedestrian_Crossing-Physical_Facilities</th>\n",
              "      <th>Light_Conditions</th>\n",
              "      <th>Weather_Conditions</th>\n",
              "      <th>Road_Surface_Conditions</th>\n",
              "      <th>Special_Conditions_at_Site</th>\n",
              "      <th>Carriageway_Hazards</th>\n",
              "      <th>Urban_or_Rural_Area</th>\n",
              "      <th>Did_Police_Officer_Attend_Scene_of_Accident</th>\n",
              "      <th>LSOA_of_Accident_Location</th>\n",
              "    </tr>\n",
              "  </thead>\n",
              "  <tbody>\n",
              "    <tr>\n",
              "      <th>0</th>\n",
              "      <td>200501BS00001</td>\n",
              "      <td>525680.0</td>\n",
              "      <td>178240.0</td>\n",
              "      <td>-0.191170</td>\n",
              "      <td>51.489096</td>\n",
              "      <td>1</td>\n",
              "      <td>2</td>\n",
              "      <td>1</td>\n",
              "      <td>1</td>\n",
              "      <td>04/01/2005</td>\n",
              "      <td>...</td>\n",
              "      <td>0</td>\n",
              "      <td>1</td>\n",
              "      <td>1</td>\n",
              "      <td>2</td>\n",
              "      <td>2</td>\n",
              "      <td>0</td>\n",
              "      <td>0</td>\n",
              "      <td>1</td>\n",
              "      <td>1</td>\n",
              "      <td>E01002849</td>\n",
              "    </tr>\n",
              "    <tr>\n",
              "      <th>1</th>\n",
              "      <td>200501BS00002</td>\n",
              "      <td>524170.0</td>\n",
              "      <td>181650.0</td>\n",
              "      <td>-0.211708</td>\n",
              "      <td>51.520075</td>\n",
              "      <td>1</td>\n",
              "      <td>3</td>\n",
              "      <td>1</td>\n",
              "      <td>1</td>\n",
              "      <td>05/01/2005</td>\n",
              "      <td>...</td>\n",
              "      <td>0</td>\n",
              "      <td>5</td>\n",
              "      <td>4</td>\n",
              "      <td>1</td>\n",
              "      <td>1</td>\n",
              "      <td>0</td>\n",
              "      <td>0</td>\n",
              "      <td>1</td>\n",
              "      <td>1</td>\n",
              "      <td>E01002909</td>\n",
              "    </tr>\n",
              "    <tr>\n",
              "      <th>2</th>\n",
              "      <td>200501BS00003</td>\n",
              "      <td>524520.0</td>\n",
              "      <td>182240.0</td>\n",
              "      <td>-0.206458</td>\n",
              "      <td>51.525301</td>\n",
              "      <td>1</td>\n",
              "      <td>3</td>\n",
              "      <td>2</td>\n",
              "      <td>1</td>\n",
              "      <td>06/01/2005</td>\n",
              "      <td>...</td>\n",
              "      <td>0</td>\n",
              "      <td>0</td>\n",
              "      <td>4</td>\n",
              "      <td>1</td>\n",
              "      <td>1</td>\n",
              "      <td>0</td>\n",
              "      <td>0</td>\n",
              "      <td>1</td>\n",
              "      <td>1</td>\n",
              "      <td>E01002857</td>\n",
              "    </tr>\n",
              "    <tr>\n",
              "      <th>3</th>\n",
              "      <td>200501BS00004</td>\n",
              "      <td>526900.0</td>\n",
              "      <td>177530.0</td>\n",
              "      <td>-0.173862</td>\n",
              "      <td>51.482442</td>\n",
              "      <td>1</td>\n",
              "      <td>3</td>\n",
              "      <td>1</td>\n",
              "      <td>1</td>\n",
              "      <td>07/01/2005</td>\n",
              "      <td>...</td>\n",
              "      <td>0</td>\n",
              "      <td>0</td>\n",
              "      <td>1</td>\n",
              "      <td>1</td>\n",
              "      <td>1</td>\n",
              "      <td>0</td>\n",
              "      <td>0</td>\n",
              "      <td>1</td>\n",
              "      <td>1</td>\n",
              "      <td>E01002840</td>\n",
              "    </tr>\n",
              "    <tr>\n",
              "      <th>4</th>\n",
              "      <td>200501BS00005</td>\n",
              "      <td>528060.0</td>\n",
              "      <td>179040.0</td>\n",
              "      <td>-0.156618</td>\n",
              "      <td>51.495752</td>\n",
              "      <td>1</td>\n",
              "      <td>3</td>\n",
              "      <td>1</td>\n",
              "      <td>1</td>\n",
              "      <td>10/01/2005</td>\n",
              "      <td>...</td>\n",
              "      <td>0</td>\n",
              "      <td>0</td>\n",
              "      <td>7</td>\n",
              "      <td>1</td>\n",
              "      <td>2</td>\n",
              "      <td>0</td>\n",
              "      <td>0</td>\n",
              "      <td>1</td>\n",
              "      <td>1</td>\n",
              "      <td>E01002863</td>\n",
              "    </tr>\n",
              "    <tr>\n",
              "      <th>...</th>\n",
              "      <td>...</td>\n",
              "      <td>...</td>\n",
              "      <td>...</td>\n",
              "      <td>...</td>\n",
              "      <td>...</td>\n",
              "      <td>...</td>\n",
              "      <td>...</td>\n",
              "      <td>...</td>\n",
              "      <td>...</td>\n",
              "      <td>...</td>\n",
              "      <td>...</td>\n",
              "      <td>...</td>\n",
              "      <td>...</td>\n",
              "      <td>...</td>\n",
              "      <td>...</td>\n",
              "      <td>...</td>\n",
              "      <td>...</td>\n",
              "      <td>...</td>\n",
              "      <td>...</td>\n",
              "      <td>...</td>\n",
              "      <td>...</td>\n",
              "    </tr>\n",
              "    <tr>\n",
              "      <th>1640592</th>\n",
              "      <td>2014984136414</td>\n",
              "      <td>310037.0</td>\n",
              "      <td>597647.0</td>\n",
              "      <td>-3.417278</td>\n",
              "      <td>55.264773</td>\n",
              "      <td>98</td>\n",
              "      <td>2</td>\n",
              "      <td>2</td>\n",
              "      <td>1</td>\n",
              "      <td>07/12/2014</td>\n",
              "      <td>...</td>\n",
              "      <td>0</td>\n",
              "      <td>0</td>\n",
              "      <td>6</td>\n",
              "      <td>3</td>\n",
              "      <td>3</td>\n",
              "      <td>0</td>\n",
              "      <td>0</td>\n",
              "      <td>2</td>\n",
              "      <td>1</td>\n",
              "      <td>NaN</td>\n",
              "    </tr>\n",
              "    <tr>\n",
              "      <th>1640593</th>\n",
              "      <td>2014984137514</td>\n",
              "      <td>321509.0</td>\n",
              "      <td>574063.0</td>\n",
              "      <td>-3.230255</td>\n",
              "      <td>55.054855</td>\n",
              "      <td>98</td>\n",
              "      <td>3</td>\n",
              "      <td>2</td>\n",
              "      <td>2</td>\n",
              "      <td>11/12/2014</td>\n",
              "      <td>...</td>\n",
              "      <td>0</td>\n",
              "      <td>0</td>\n",
              "      <td>6</td>\n",
              "      <td>1</td>\n",
              "      <td>3</td>\n",
              "      <td>0</td>\n",
              "      <td>0</td>\n",
              "      <td>2</td>\n",
              "      <td>1</td>\n",
              "      <td>NaN</td>\n",
              "    </tr>\n",
              "    <tr>\n",
              "      <th>1640594</th>\n",
              "      <td>2014984137714</td>\n",
              "      <td>321337.0</td>\n",
              "      <td>566365.0</td>\n",
              "      <td>-3.230826</td>\n",
              "      <td>54.985668</td>\n",
              "      <td>98</td>\n",
              "      <td>3</td>\n",
              "      <td>1</td>\n",
              "      <td>1</td>\n",
              "      <td>09/12/2014</td>\n",
              "      <td>...</td>\n",
              "      <td>0</td>\n",
              "      <td>0</td>\n",
              "      <td>4</td>\n",
              "      <td>1</td>\n",
              "      <td>4</td>\n",
              "      <td>0</td>\n",
              "      <td>0</td>\n",
              "      <td>2</td>\n",
              "      <td>1</td>\n",
              "      <td>NaN</td>\n",
              "    </tr>\n",
              "    <tr>\n",
              "      <th>1640595</th>\n",
              "      <td>2014984138414</td>\n",
              "      <td>323869.0</td>\n",
              "      <td>566853.0</td>\n",
              "      <td>-3.191397</td>\n",
              "      <td>54.990446</td>\n",
              "      <td>98</td>\n",
              "      <td>2</td>\n",
              "      <td>3</td>\n",
              "      <td>2</td>\n",
              "      <td>17/12/2014</td>\n",
              "      <td>...</td>\n",
              "      <td>0</td>\n",
              "      <td>0</td>\n",
              "      <td>6</td>\n",
              "      <td>2</td>\n",
              "      <td>2</td>\n",
              "      <td>0</td>\n",
              "      <td>0</td>\n",
              "      <td>2</td>\n",
              "      <td>1</td>\n",
              "      <td>NaN</td>\n",
              "    </tr>\n",
              "    <tr>\n",
              "      <th>1640596</th>\n",
              "      <td>2014984139614</td>\n",
              "      <td>314072.0</td>\n",
              "      <td>579971.0</td>\n",
              "      <td>-3.348426</td>\n",
              "      <td>55.106700</td>\n",
              "      <td>98</td>\n",
              "      <td>3</td>\n",
              "      <td>2</td>\n",
              "      <td>2</td>\n",
              "      <td>24/12/2014</td>\n",
              "      <td>...</td>\n",
              "      <td>0</td>\n",
              "      <td>0</td>\n",
              "      <td>1</td>\n",
              "      <td>1</td>\n",
              "      <td>2</td>\n",
              "      <td>0</td>\n",
              "      <td>0</td>\n",
              "      <td>2</td>\n",
              "      <td>1</td>\n",
              "      <td>NaN</td>\n",
              "    </tr>\n",
              "  </tbody>\n",
              "</table>\n",
              "<p>1640597 rows × 32 columns</p>\n",
              "</div>\n",
              "      <button class=\"colab-df-convert\" onclick=\"convertToInteractive('df-1a6ec3cd-a7c4-4c2a-b3b1-a3e0c27cea76')\"\n",
              "              title=\"Convert this dataframe to an interactive table.\"\n",
              "              style=\"display:none;\">\n",
              "        \n",
              "  <svg xmlns=\"http://www.w3.org/2000/svg\" height=\"24px\"viewBox=\"0 0 24 24\"\n",
              "       width=\"24px\">\n",
              "    <path d=\"M0 0h24v24H0V0z\" fill=\"none\"/>\n",
              "    <path d=\"M18.56 5.44l.94 2.06.94-2.06 2.06-.94-2.06-.94-.94-2.06-.94 2.06-2.06.94zm-11 1L8.5 8.5l.94-2.06 2.06-.94-2.06-.94L8.5 2.5l-.94 2.06-2.06.94zm10 10l.94 2.06.94-2.06 2.06-.94-2.06-.94-.94-2.06-.94 2.06-2.06.94z\"/><path d=\"M17.41 7.96l-1.37-1.37c-.4-.4-.92-.59-1.43-.59-.52 0-1.04.2-1.43.59L10.3 9.45l-7.72 7.72c-.78.78-.78 2.05 0 2.83L4 21.41c.39.39.9.59 1.41.59.51 0 1.02-.2 1.41-.59l7.78-7.78 2.81-2.81c.8-.78.8-2.07 0-2.86zM5.41 20L4 18.59l7.72-7.72 1.47 1.35L5.41 20z\"/>\n",
              "  </svg>\n",
              "      </button>\n",
              "      \n",
              "  <style>\n",
              "    .colab-df-container {\n",
              "      display:flex;\n",
              "      flex-wrap:wrap;\n",
              "      gap: 12px;\n",
              "    }\n",
              "\n",
              "    .colab-df-convert {\n",
              "      background-color: #E8F0FE;\n",
              "      border: none;\n",
              "      border-radius: 50%;\n",
              "      cursor: pointer;\n",
              "      display: none;\n",
              "      fill: #1967D2;\n",
              "      height: 32px;\n",
              "      padding: 0 0 0 0;\n",
              "      width: 32px;\n",
              "    }\n",
              "\n",
              "    .colab-df-convert:hover {\n",
              "      background-color: #E2EBFA;\n",
              "      box-shadow: 0px 1px 2px rgba(60, 64, 67, 0.3), 0px 1px 3px 1px rgba(60, 64, 67, 0.15);\n",
              "      fill: #174EA6;\n",
              "    }\n",
              "\n",
              "    [theme=dark] .colab-df-convert {\n",
              "      background-color: #3B4455;\n",
              "      fill: #D2E3FC;\n",
              "    }\n",
              "\n",
              "    [theme=dark] .colab-df-convert:hover {\n",
              "      background-color: #434B5C;\n",
              "      box-shadow: 0px 1px 3px 1px rgba(0, 0, 0, 0.15);\n",
              "      filter: drop-shadow(0px 1px 2px rgba(0, 0, 0, 0.3));\n",
              "      fill: #FFFFFF;\n",
              "    }\n",
              "  </style>\n",
              "\n",
              "      <script>\n",
              "        const buttonEl =\n",
              "          document.querySelector('#df-1a6ec3cd-a7c4-4c2a-b3b1-a3e0c27cea76 button.colab-df-convert');\n",
              "        buttonEl.style.display =\n",
              "          google.colab.kernel.accessAllowed ? 'block' : 'none';\n",
              "\n",
              "        async function convertToInteractive(key) {\n",
              "          const element = document.querySelector('#df-1a6ec3cd-a7c4-4c2a-b3b1-a3e0c27cea76');\n",
              "          const dataTable =\n",
              "            await google.colab.kernel.invokeFunction('convertToInteractive',\n",
              "                                                     [key], {});\n",
              "          if (!dataTable) return;\n",
              "\n",
              "          const docLinkHtml = 'Like what you see? Visit the ' +\n",
              "            '<a target=\"_blank\" href=https://colab.research.google.com/notebooks/data_table.ipynb>data table notebook</a>'\n",
              "            + ' to learn more about interactive tables.';\n",
              "          element.innerHTML = '';\n",
              "          dataTable['output_type'] = 'display_data';\n",
              "          await google.colab.output.renderOutput(dataTable, element);\n",
              "          const docLink = document.createElement('div');\n",
              "          docLink.innerHTML = docLinkHtml;\n",
              "          element.appendChild(docLink);\n",
              "        }\n",
              "      </script>\n",
              "    </div>\n",
              "  </div>\n",
              "  "
            ]
          },
          "metadata": {},
          "execution_count": 11
        }
      ]
    },
    {
      "cell_type": "code",
      "source": [
        "df_vehicles"
      ],
      "metadata": {
        "id": "TSUPHti7ukpx",
        "colab": {
          "base_uri": "https://localhost:8080/",
          "height": 505
        },
        "outputId": "b75c15a0-b9b5-46ec-aebc-5b08b823e4a6"
      },
      "execution_count": null,
      "outputs": [
        {
          "output_type": "execute_result",
          "data": {
            "text/plain": [
              "        Accident_Index  Vehicle_Reference  Vehicle_Type  \\\n",
              "0        200501BS00001                  1             9   \n",
              "1        200501BS00002                  1            11   \n",
              "2        200501BS00003                  1            11   \n",
              "3        200501BS00003                  2             9   \n",
              "4        200501BS00004                  1             9   \n",
              "...                ...                ...           ...   \n",
              "3004420  2014984138414                  1             9   \n",
              "3004421  2014984138414                  2            19   \n",
              "3004422  2014984138414                  3             9   \n",
              "3004423  2014984139614                  1            11   \n",
              "3004424  2014984139614                  2             9   \n",
              "\n",
              "         Towing_and_Articulation  Vehicle_Manoeuvre  \\\n",
              "0                              0                 18   \n",
              "1                              0                  4   \n",
              "2                              0                 17   \n",
              "3                              0                  2   \n",
              "4                              0                 18   \n",
              "...                          ...                ...   \n",
              "3004420                        0                  5   \n",
              "3004421                        0                 18   \n",
              "3004422                        0                 18   \n",
              "3004423                        0                  9   \n",
              "3004424                        0                 18   \n",
              "\n",
              "         Vehicle_Location-Restricted_Lane  Junction_Location  \\\n",
              "0                                       0                  0   \n",
              "1                                       0                  3   \n",
              "2                                       0                  0   \n",
              "3                                       0                  0   \n",
              "4                                       0                  0   \n",
              "...                                   ...                ...   \n",
              "3004420                                 0                  6   \n",
              "3004421                                 0                  1   \n",
              "3004422                                 0                  2   \n",
              "3004423                                 0                  8   \n",
              "3004424                                 0                  1   \n",
              "\n",
              "         Skidding_and_Overturning  Hit_Object_in_Carriageway  \\\n",
              "0                               0                          0   \n",
              "1                               0                          0   \n",
              "2                               0                          4   \n",
              "3                               0                          0   \n",
              "4                               0                          0   \n",
              "...                           ...                        ...   \n",
              "3004420                         0                          0   \n",
              "3004421                         1                          4   \n",
              "3004422                         1                          4   \n",
              "3004423                         0                          0   \n",
              "3004424                         0                          0   \n",
              "\n",
              "         Vehicle_Leaving_Carriageway  ...  Was_Vehicle_Left_Hand_Drive?  \\\n",
              "0                                  0  ...                             1   \n",
              "1                                  0  ...                             1   \n",
              "2                                  0  ...                             1   \n",
              "3                                  0  ...                             1   \n",
              "4                                  0  ...                             1   \n",
              "...                              ...  ...                           ...   \n",
              "3004420                            0  ...                             1   \n",
              "3004421                            7  ...                             1   \n",
              "3004422                            1  ...                             1   \n",
              "3004423                            0  ...                             1   \n",
              "3004424                            0  ...                             1   \n",
              "\n",
              "         Journey_Purpose_of_Driver  Sex_of_Driver  Age_of_Driver  \\\n",
              "0                               15              2             74   \n",
              "1                                1              1             42   \n",
              "2                                1              1             35   \n",
              "3                               15              1             62   \n",
              "4                               15              2             49   \n",
              "...                            ...            ...            ...   \n",
              "3004420                          2              1             27   \n",
              "3004421                          2              1             44   \n",
              "3004422                          6              1             73   \n",
              "3004423                          1              1             40   \n",
              "3004424                          6              1             79   \n",
              "\n",
              "         Age_Band_of_Driver  Engine_Capacity_(CC)  Propulsion_Code  \\\n",
              "0                        10                    -1               -1   \n",
              "1                         7                  8268                2   \n",
              "2                         6                  8300                2   \n",
              "3                         9                  1762                1   \n",
              "4                         8                  1769                1   \n",
              "...                     ...                   ...              ...   \n",
              "3004420                   6                  1781                1   \n",
              "3004421                   7                  1686                2   \n",
              "3004422                  10                  2143                2   \n",
              "3004423                   7                  4500                2   \n",
              "3004424                  11                  1398                2   \n",
              "\n",
              "         Age_of_Vehicle  Driver_IMD_Decile  Driver_Home_Area_Type  \n",
              "0                    -1                  7                      1  \n",
              "1                     3                 -1                     -1  \n",
              "2                     5                  2                      1  \n",
              "3                     6                  1                      1  \n",
              "4                     4                  2                      1  \n",
              "...                 ...                ...                    ...  \n",
              "3004420              12                  6                      1  \n",
              "3004421               4                  1                      1  \n",
              "3004422              -1                  8                      3  \n",
              "3004423               4                 -1                      3  \n",
              "3004424              11                 -1                      3  \n",
              "\n",
              "[3004425 rows x 22 columns]"
            ],
            "text/html": [
              "\n",
              "  <div id=\"df-28630393-6274-42fc-9929-a12353e94654\">\n",
              "    <div class=\"colab-df-container\">\n",
              "      <div>\n",
              "<style scoped>\n",
              "    .dataframe tbody tr th:only-of-type {\n",
              "        vertical-align: middle;\n",
              "    }\n",
              "\n",
              "    .dataframe tbody tr th {\n",
              "        vertical-align: top;\n",
              "    }\n",
              "\n",
              "    .dataframe thead th {\n",
              "        text-align: right;\n",
              "    }\n",
              "</style>\n",
              "<table border=\"1\" class=\"dataframe\">\n",
              "  <thead>\n",
              "    <tr style=\"text-align: right;\">\n",
              "      <th></th>\n",
              "      <th>Accident_Index</th>\n",
              "      <th>Vehicle_Reference</th>\n",
              "      <th>Vehicle_Type</th>\n",
              "      <th>Towing_and_Articulation</th>\n",
              "      <th>Vehicle_Manoeuvre</th>\n",
              "      <th>Vehicle_Location-Restricted_Lane</th>\n",
              "      <th>Junction_Location</th>\n",
              "      <th>Skidding_and_Overturning</th>\n",
              "      <th>Hit_Object_in_Carriageway</th>\n",
              "      <th>Vehicle_Leaving_Carriageway</th>\n",
              "      <th>...</th>\n",
              "      <th>Was_Vehicle_Left_Hand_Drive?</th>\n",
              "      <th>Journey_Purpose_of_Driver</th>\n",
              "      <th>Sex_of_Driver</th>\n",
              "      <th>Age_of_Driver</th>\n",
              "      <th>Age_Band_of_Driver</th>\n",
              "      <th>Engine_Capacity_(CC)</th>\n",
              "      <th>Propulsion_Code</th>\n",
              "      <th>Age_of_Vehicle</th>\n",
              "      <th>Driver_IMD_Decile</th>\n",
              "      <th>Driver_Home_Area_Type</th>\n",
              "    </tr>\n",
              "  </thead>\n",
              "  <tbody>\n",
              "    <tr>\n",
              "      <th>0</th>\n",
              "      <td>200501BS00001</td>\n",
              "      <td>1</td>\n",
              "      <td>9</td>\n",
              "      <td>0</td>\n",
              "      <td>18</td>\n",
              "      <td>0</td>\n",
              "      <td>0</td>\n",
              "      <td>0</td>\n",
              "      <td>0</td>\n",
              "      <td>0</td>\n",
              "      <td>...</td>\n",
              "      <td>1</td>\n",
              "      <td>15</td>\n",
              "      <td>2</td>\n",
              "      <td>74</td>\n",
              "      <td>10</td>\n",
              "      <td>-1</td>\n",
              "      <td>-1</td>\n",
              "      <td>-1</td>\n",
              "      <td>7</td>\n",
              "      <td>1</td>\n",
              "    </tr>\n",
              "    <tr>\n",
              "      <th>1</th>\n",
              "      <td>200501BS00002</td>\n",
              "      <td>1</td>\n",
              "      <td>11</td>\n",
              "      <td>0</td>\n",
              "      <td>4</td>\n",
              "      <td>0</td>\n",
              "      <td>3</td>\n",
              "      <td>0</td>\n",
              "      <td>0</td>\n",
              "      <td>0</td>\n",
              "      <td>...</td>\n",
              "      <td>1</td>\n",
              "      <td>1</td>\n",
              "      <td>1</td>\n",
              "      <td>42</td>\n",
              "      <td>7</td>\n",
              "      <td>8268</td>\n",
              "      <td>2</td>\n",
              "      <td>3</td>\n",
              "      <td>-1</td>\n",
              "      <td>-1</td>\n",
              "    </tr>\n",
              "    <tr>\n",
              "      <th>2</th>\n",
              "      <td>200501BS00003</td>\n",
              "      <td>1</td>\n",
              "      <td>11</td>\n",
              "      <td>0</td>\n",
              "      <td>17</td>\n",
              "      <td>0</td>\n",
              "      <td>0</td>\n",
              "      <td>0</td>\n",
              "      <td>4</td>\n",
              "      <td>0</td>\n",
              "      <td>...</td>\n",
              "      <td>1</td>\n",
              "      <td>1</td>\n",
              "      <td>1</td>\n",
              "      <td>35</td>\n",
              "      <td>6</td>\n",
              "      <td>8300</td>\n",
              "      <td>2</td>\n",
              "      <td>5</td>\n",
              "      <td>2</td>\n",
              "      <td>1</td>\n",
              "    </tr>\n",
              "    <tr>\n",
              "      <th>3</th>\n",
              "      <td>200501BS00003</td>\n",
              "      <td>2</td>\n",
              "      <td>9</td>\n",
              "      <td>0</td>\n",
              "      <td>2</td>\n",
              "      <td>0</td>\n",
              "      <td>0</td>\n",
              "      <td>0</td>\n",
              "      <td>0</td>\n",
              "      <td>0</td>\n",
              "      <td>...</td>\n",
              "      <td>1</td>\n",
              "      <td>15</td>\n",
              "      <td>1</td>\n",
              "      <td>62</td>\n",
              "      <td>9</td>\n",
              "      <td>1762</td>\n",
              "      <td>1</td>\n",
              "      <td>6</td>\n",
              "      <td>1</td>\n",
              "      <td>1</td>\n",
              "    </tr>\n",
              "    <tr>\n",
              "      <th>4</th>\n",
              "      <td>200501BS00004</td>\n",
              "      <td>1</td>\n",
              "      <td>9</td>\n",
              "      <td>0</td>\n",
              "      <td>18</td>\n",
              "      <td>0</td>\n",
              "      <td>0</td>\n",
              "      <td>0</td>\n",
              "      <td>0</td>\n",
              "      <td>0</td>\n",
              "      <td>...</td>\n",
              "      <td>1</td>\n",
              "      <td>15</td>\n",
              "      <td>2</td>\n",
              "      <td>49</td>\n",
              "      <td>8</td>\n",
              "      <td>1769</td>\n",
              "      <td>1</td>\n",
              "      <td>4</td>\n",
              "      <td>2</td>\n",
              "      <td>1</td>\n",
              "    </tr>\n",
              "    <tr>\n",
              "      <th>...</th>\n",
              "      <td>...</td>\n",
              "      <td>...</td>\n",
              "      <td>...</td>\n",
              "      <td>...</td>\n",
              "      <td>...</td>\n",
              "      <td>...</td>\n",
              "      <td>...</td>\n",
              "      <td>...</td>\n",
              "      <td>...</td>\n",
              "      <td>...</td>\n",
              "      <td>...</td>\n",
              "      <td>...</td>\n",
              "      <td>...</td>\n",
              "      <td>...</td>\n",
              "      <td>...</td>\n",
              "      <td>...</td>\n",
              "      <td>...</td>\n",
              "      <td>...</td>\n",
              "      <td>...</td>\n",
              "      <td>...</td>\n",
              "      <td>...</td>\n",
              "    </tr>\n",
              "    <tr>\n",
              "      <th>3004420</th>\n",
              "      <td>2014984138414</td>\n",
              "      <td>1</td>\n",
              "      <td>9</td>\n",
              "      <td>0</td>\n",
              "      <td>5</td>\n",
              "      <td>0</td>\n",
              "      <td>6</td>\n",
              "      <td>0</td>\n",
              "      <td>0</td>\n",
              "      <td>0</td>\n",
              "      <td>...</td>\n",
              "      <td>1</td>\n",
              "      <td>2</td>\n",
              "      <td>1</td>\n",
              "      <td>27</td>\n",
              "      <td>6</td>\n",
              "      <td>1781</td>\n",
              "      <td>1</td>\n",
              "      <td>12</td>\n",
              "      <td>6</td>\n",
              "      <td>1</td>\n",
              "    </tr>\n",
              "    <tr>\n",
              "      <th>3004421</th>\n",
              "      <td>2014984138414</td>\n",
              "      <td>2</td>\n",
              "      <td>19</td>\n",
              "      <td>0</td>\n",
              "      <td>18</td>\n",
              "      <td>0</td>\n",
              "      <td>1</td>\n",
              "      <td>1</td>\n",
              "      <td>4</td>\n",
              "      <td>7</td>\n",
              "      <td>...</td>\n",
              "      <td>1</td>\n",
              "      <td>2</td>\n",
              "      <td>1</td>\n",
              "      <td>44</td>\n",
              "      <td>7</td>\n",
              "      <td>1686</td>\n",
              "      <td>2</td>\n",
              "      <td>4</td>\n",
              "      <td>1</td>\n",
              "      <td>1</td>\n",
              "    </tr>\n",
              "    <tr>\n",
              "      <th>3004422</th>\n",
              "      <td>2014984138414</td>\n",
              "      <td>3</td>\n",
              "      <td>9</td>\n",
              "      <td>0</td>\n",
              "      <td>18</td>\n",
              "      <td>0</td>\n",
              "      <td>2</td>\n",
              "      <td>1</td>\n",
              "      <td>4</td>\n",
              "      <td>1</td>\n",
              "      <td>...</td>\n",
              "      <td>1</td>\n",
              "      <td>6</td>\n",
              "      <td>1</td>\n",
              "      <td>73</td>\n",
              "      <td>10</td>\n",
              "      <td>2143</td>\n",
              "      <td>2</td>\n",
              "      <td>-1</td>\n",
              "      <td>8</td>\n",
              "      <td>3</td>\n",
              "    </tr>\n",
              "    <tr>\n",
              "      <th>3004423</th>\n",
              "      <td>2014984139614</td>\n",
              "      <td>1</td>\n",
              "      <td>11</td>\n",
              "      <td>0</td>\n",
              "      <td>9</td>\n",
              "      <td>0</td>\n",
              "      <td>8</td>\n",
              "      <td>0</td>\n",
              "      <td>0</td>\n",
              "      <td>0</td>\n",
              "      <td>...</td>\n",
              "      <td>1</td>\n",
              "      <td>1</td>\n",
              "      <td>1</td>\n",
              "      <td>40</td>\n",
              "      <td>7</td>\n",
              "      <td>4500</td>\n",
              "      <td>2</td>\n",
              "      <td>4</td>\n",
              "      <td>-1</td>\n",
              "      <td>3</td>\n",
              "    </tr>\n",
              "    <tr>\n",
              "      <th>3004424</th>\n",
              "      <td>2014984139614</td>\n",
              "      <td>2</td>\n",
              "      <td>9</td>\n",
              "      <td>0</td>\n",
              "      <td>18</td>\n",
              "      <td>0</td>\n",
              "      <td>1</td>\n",
              "      <td>0</td>\n",
              "      <td>0</td>\n",
              "      <td>0</td>\n",
              "      <td>...</td>\n",
              "      <td>1</td>\n",
              "      <td>6</td>\n",
              "      <td>1</td>\n",
              "      <td>79</td>\n",
              "      <td>11</td>\n",
              "      <td>1398</td>\n",
              "      <td>2</td>\n",
              "      <td>11</td>\n",
              "      <td>-1</td>\n",
              "      <td>3</td>\n",
              "    </tr>\n",
              "  </tbody>\n",
              "</table>\n",
              "<p>3004425 rows × 22 columns</p>\n",
              "</div>\n",
              "      <button class=\"colab-df-convert\" onclick=\"convertToInteractive('df-28630393-6274-42fc-9929-a12353e94654')\"\n",
              "              title=\"Convert this dataframe to an interactive table.\"\n",
              "              style=\"display:none;\">\n",
              "        \n",
              "  <svg xmlns=\"http://www.w3.org/2000/svg\" height=\"24px\"viewBox=\"0 0 24 24\"\n",
              "       width=\"24px\">\n",
              "    <path d=\"M0 0h24v24H0V0z\" fill=\"none\"/>\n",
              "    <path d=\"M18.56 5.44l.94 2.06.94-2.06 2.06-.94-2.06-.94-.94-2.06-.94 2.06-2.06.94zm-11 1L8.5 8.5l.94-2.06 2.06-.94-2.06-.94L8.5 2.5l-.94 2.06-2.06.94zm10 10l.94 2.06.94-2.06 2.06-.94-2.06-.94-.94-2.06-.94 2.06-2.06.94z\"/><path d=\"M17.41 7.96l-1.37-1.37c-.4-.4-.92-.59-1.43-.59-.52 0-1.04.2-1.43.59L10.3 9.45l-7.72 7.72c-.78.78-.78 2.05 0 2.83L4 21.41c.39.39.9.59 1.41.59.51 0 1.02-.2 1.41-.59l7.78-7.78 2.81-2.81c.8-.78.8-2.07 0-2.86zM5.41 20L4 18.59l7.72-7.72 1.47 1.35L5.41 20z\"/>\n",
              "  </svg>\n",
              "      </button>\n",
              "      \n",
              "  <style>\n",
              "    .colab-df-container {\n",
              "      display:flex;\n",
              "      flex-wrap:wrap;\n",
              "      gap: 12px;\n",
              "    }\n",
              "\n",
              "    .colab-df-convert {\n",
              "      background-color: #E8F0FE;\n",
              "      border: none;\n",
              "      border-radius: 50%;\n",
              "      cursor: pointer;\n",
              "      display: none;\n",
              "      fill: #1967D2;\n",
              "      height: 32px;\n",
              "      padding: 0 0 0 0;\n",
              "      width: 32px;\n",
              "    }\n",
              "\n",
              "    .colab-df-convert:hover {\n",
              "      background-color: #E2EBFA;\n",
              "      box-shadow: 0px 1px 2px rgba(60, 64, 67, 0.3), 0px 1px 3px 1px rgba(60, 64, 67, 0.15);\n",
              "      fill: #174EA6;\n",
              "    }\n",
              "\n",
              "    [theme=dark] .colab-df-convert {\n",
              "      background-color: #3B4455;\n",
              "      fill: #D2E3FC;\n",
              "    }\n",
              "\n",
              "    [theme=dark] .colab-df-convert:hover {\n",
              "      background-color: #434B5C;\n",
              "      box-shadow: 0px 1px 3px 1px rgba(0, 0, 0, 0.15);\n",
              "      filter: drop-shadow(0px 1px 2px rgba(0, 0, 0, 0.3));\n",
              "      fill: #FFFFFF;\n",
              "    }\n",
              "  </style>\n",
              "\n",
              "      <script>\n",
              "        const buttonEl =\n",
              "          document.querySelector('#df-28630393-6274-42fc-9929-a12353e94654 button.colab-df-convert');\n",
              "        buttonEl.style.display =\n",
              "          google.colab.kernel.accessAllowed ? 'block' : 'none';\n",
              "\n",
              "        async function convertToInteractive(key) {\n",
              "          const element = document.querySelector('#df-28630393-6274-42fc-9929-a12353e94654');\n",
              "          const dataTable =\n",
              "            await google.colab.kernel.invokeFunction('convertToInteractive',\n",
              "                                                     [key], {});\n",
              "          if (!dataTable) return;\n",
              "\n",
              "          const docLinkHtml = 'Like what you see? Visit the ' +\n",
              "            '<a target=\"_blank\" href=https://colab.research.google.com/notebooks/data_table.ipynb>data table notebook</a>'\n",
              "            + ' to learn more about interactive tables.';\n",
              "          element.innerHTML = '';\n",
              "          dataTable['output_type'] = 'display_data';\n",
              "          await google.colab.output.renderOutput(dataTable, element);\n",
              "          const docLink = document.createElement('div');\n",
              "          docLink.innerHTML = docLinkHtml;\n",
              "          element.appendChild(docLink);\n",
              "        }\n",
              "      </script>\n",
              "    </div>\n",
              "  </div>\n",
              "  "
            ]
          },
          "metadata": {},
          "execution_count": 12
        }
      ]
    },
    {
      "cell_type": "code",
      "source": [
        "df_victims"
      ],
      "metadata": {
        "id": "kVM3M94tumyN",
        "colab": {
          "base_uri": "https://localhost:8080/",
          "height": 487
        },
        "outputId": "ec5c91ce-a4c3-456f-88a9-c01fef9de4a5"
      },
      "execution_count": null,
      "outputs": [
        {
          "output_type": "execute_result",
          "data": {
            "text/plain": [
              "        Accident_Index  Vehicle_Reference  Casualty_Reference  Casualty_Class  \\\n",
              "0        200501BS00001                  1                   1               3   \n",
              "1        200501BS00002                  1                   1               2   \n",
              "2        200501BS00003                  2                   1               1   \n",
              "3        200501BS00004                  1                   1               3   \n",
              "4        200501BS00005                  1                   1               1   \n",
              "...                ...                ...                 ...             ...   \n",
              "2216715  2014984137714                  1                   1               2   \n",
              "2216716  2014984138414                  1                   1               1   \n",
              "2216717  2014984138414                  2                   2               1   \n",
              "2216718  2014984139614                  1                   2               2   \n",
              "2216719  2014984139614                  2                   1               1   \n",
              "\n",
              "         Sex_of_Casualty  Age_of_Casualty  Age_Band_of_Casualty  \\\n",
              "0                      1               37                     7   \n",
              "1                      1               37                     7   \n",
              "2                      1               62                     9   \n",
              "3                      1               30                     6   \n",
              "4                      1               49                     8   \n",
              "...                  ...              ...                   ...   \n",
              "2216715                2               16                     4   \n",
              "2216716                1               27                     6   \n",
              "2216717                1               44                     7   \n",
              "2216718                1               61                     9   \n",
              "2216719                1               79                    11   \n",
              "\n",
              "         Casualty_Severity  Pedestrian_Location  Pedestrian_Movement  \\\n",
              "0                        2                    1                    1   \n",
              "1                        3                    0                    0   \n",
              "2                        3                    0                    0   \n",
              "3                        3                    5                    2   \n",
              "4                        3                    0                    0   \n",
              "...                    ...                  ...                  ...   \n",
              "2216715                  3                    0                    0   \n",
              "2216716                  3                    0                    0   \n",
              "2216717                  2                    0                    0   \n",
              "2216718                  3                    0                    0   \n",
              "2216719                  3                    0                    0   \n",
              "\n",
              "         Car_Passenger  Bus_or_Coach_Passenger  \\\n",
              "0                    0                       0   \n",
              "1                    0                       4   \n",
              "2                    0                       0   \n",
              "3                    0                       0   \n",
              "4                    0                       0   \n",
              "...                ...                     ...   \n",
              "2216715              2                       0   \n",
              "2216716              0                       0   \n",
              "2216717              0                       0   \n",
              "2216718              0                       4   \n",
              "2216719              0                       0   \n",
              "\n",
              "         Pedestrian_Road_Maintenance_Worker  Casualty_Type  \\\n",
              "0                                        -1              0   \n",
              "1                                        -1             11   \n",
              "2                                        -1              9   \n",
              "3                                        -1              0   \n",
              "4                                        -1              3   \n",
              "...                                     ...            ...   \n",
              "2216715                                   0              9   \n",
              "2216716                                   0              9   \n",
              "2216717                                   0             19   \n",
              "2216718                                   0             11   \n",
              "2216719                                   0              9   \n",
              "\n",
              "         Casualty_Home_Area_Type  \n",
              "0                              1  \n",
              "1                              1  \n",
              "2                              1  \n",
              "3                              1  \n",
              "4                             -1  \n",
              "...                          ...  \n",
              "2216715                        1  \n",
              "2216716                        1  \n",
              "2216717                        1  \n",
              "2216718                        2  \n",
              "2216719                        3  \n",
              "\n",
              "[2216720 rows x 15 columns]"
            ],
            "text/html": [
              "\n",
              "  <div id=\"df-ae9e4556-cfb0-40de-a962-f0ecae5e520d\">\n",
              "    <div class=\"colab-df-container\">\n",
              "      <div>\n",
              "<style scoped>\n",
              "    .dataframe tbody tr th:only-of-type {\n",
              "        vertical-align: middle;\n",
              "    }\n",
              "\n",
              "    .dataframe tbody tr th {\n",
              "        vertical-align: top;\n",
              "    }\n",
              "\n",
              "    .dataframe thead th {\n",
              "        text-align: right;\n",
              "    }\n",
              "</style>\n",
              "<table border=\"1\" class=\"dataframe\">\n",
              "  <thead>\n",
              "    <tr style=\"text-align: right;\">\n",
              "      <th></th>\n",
              "      <th>Accident_Index</th>\n",
              "      <th>Vehicle_Reference</th>\n",
              "      <th>Casualty_Reference</th>\n",
              "      <th>Casualty_Class</th>\n",
              "      <th>Sex_of_Casualty</th>\n",
              "      <th>Age_of_Casualty</th>\n",
              "      <th>Age_Band_of_Casualty</th>\n",
              "      <th>Casualty_Severity</th>\n",
              "      <th>Pedestrian_Location</th>\n",
              "      <th>Pedestrian_Movement</th>\n",
              "      <th>Car_Passenger</th>\n",
              "      <th>Bus_or_Coach_Passenger</th>\n",
              "      <th>Pedestrian_Road_Maintenance_Worker</th>\n",
              "      <th>Casualty_Type</th>\n",
              "      <th>Casualty_Home_Area_Type</th>\n",
              "    </tr>\n",
              "  </thead>\n",
              "  <tbody>\n",
              "    <tr>\n",
              "      <th>0</th>\n",
              "      <td>200501BS00001</td>\n",
              "      <td>1</td>\n",
              "      <td>1</td>\n",
              "      <td>3</td>\n",
              "      <td>1</td>\n",
              "      <td>37</td>\n",
              "      <td>7</td>\n",
              "      <td>2</td>\n",
              "      <td>1</td>\n",
              "      <td>1</td>\n",
              "      <td>0</td>\n",
              "      <td>0</td>\n",
              "      <td>-1</td>\n",
              "      <td>0</td>\n",
              "      <td>1</td>\n",
              "    </tr>\n",
              "    <tr>\n",
              "      <th>1</th>\n",
              "      <td>200501BS00002</td>\n",
              "      <td>1</td>\n",
              "      <td>1</td>\n",
              "      <td>2</td>\n",
              "      <td>1</td>\n",
              "      <td>37</td>\n",
              "      <td>7</td>\n",
              "      <td>3</td>\n",
              "      <td>0</td>\n",
              "      <td>0</td>\n",
              "      <td>0</td>\n",
              "      <td>4</td>\n",
              "      <td>-1</td>\n",
              "      <td>11</td>\n",
              "      <td>1</td>\n",
              "    </tr>\n",
              "    <tr>\n",
              "      <th>2</th>\n",
              "      <td>200501BS00003</td>\n",
              "      <td>2</td>\n",
              "      <td>1</td>\n",
              "      <td>1</td>\n",
              "      <td>1</td>\n",
              "      <td>62</td>\n",
              "      <td>9</td>\n",
              "      <td>3</td>\n",
              "      <td>0</td>\n",
              "      <td>0</td>\n",
              "      <td>0</td>\n",
              "      <td>0</td>\n",
              "      <td>-1</td>\n",
              "      <td>9</td>\n",
              "      <td>1</td>\n",
              "    </tr>\n",
              "    <tr>\n",
              "      <th>3</th>\n",
              "      <td>200501BS00004</td>\n",
              "      <td>1</td>\n",
              "      <td>1</td>\n",
              "      <td>3</td>\n",
              "      <td>1</td>\n",
              "      <td>30</td>\n",
              "      <td>6</td>\n",
              "      <td>3</td>\n",
              "      <td>5</td>\n",
              "      <td>2</td>\n",
              "      <td>0</td>\n",
              "      <td>0</td>\n",
              "      <td>-1</td>\n",
              "      <td>0</td>\n",
              "      <td>1</td>\n",
              "    </tr>\n",
              "    <tr>\n",
              "      <th>4</th>\n",
              "      <td>200501BS00005</td>\n",
              "      <td>1</td>\n",
              "      <td>1</td>\n",
              "      <td>1</td>\n",
              "      <td>1</td>\n",
              "      <td>49</td>\n",
              "      <td>8</td>\n",
              "      <td>3</td>\n",
              "      <td>0</td>\n",
              "      <td>0</td>\n",
              "      <td>0</td>\n",
              "      <td>0</td>\n",
              "      <td>-1</td>\n",
              "      <td>3</td>\n",
              "      <td>-1</td>\n",
              "    </tr>\n",
              "    <tr>\n",
              "      <th>...</th>\n",
              "      <td>...</td>\n",
              "      <td>...</td>\n",
              "      <td>...</td>\n",
              "      <td>...</td>\n",
              "      <td>...</td>\n",
              "      <td>...</td>\n",
              "      <td>...</td>\n",
              "      <td>...</td>\n",
              "      <td>...</td>\n",
              "      <td>...</td>\n",
              "      <td>...</td>\n",
              "      <td>...</td>\n",
              "      <td>...</td>\n",
              "      <td>...</td>\n",
              "      <td>...</td>\n",
              "    </tr>\n",
              "    <tr>\n",
              "      <th>2216715</th>\n",
              "      <td>2014984137714</td>\n",
              "      <td>1</td>\n",
              "      <td>1</td>\n",
              "      <td>2</td>\n",
              "      <td>2</td>\n",
              "      <td>16</td>\n",
              "      <td>4</td>\n",
              "      <td>3</td>\n",
              "      <td>0</td>\n",
              "      <td>0</td>\n",
              "      <td>2</td>\n",
              "      <td>0</td>\n",
              "      <td>0</td>\n",
              "      <td>9</td>\n",
              "      <td>1</td>\n",
              "    </tr>\n",
              "    <tr>\n",
              "      <th>2216716</th>\n",
              "      <td>2014984138414</td>\n",
              "      <td>1</td>\n",
              "      <td>1</td>\n",
              "      <td>1</td>\n",
              "      <td>1</td>\n",
              "      <td>27</td>\n",
              "      <td>6</td>\n",
              "      <td>3</td>\n",
              "      <td>0</td>\n",
              "      <td>0</td>\n",
              "      <td>0</td>\n",
              "      <td>0</td>\n",
              "      <td>0</td>\n",
              "      <td>9</td>\n",
              "      <td>1</td>\n",
              "    </tr>\n",
              "    <tr>\n",
              "      <th>2216717</th>\n",
              "      <td>2014984138414</td>\n",
              "      <td>2</td>\n",
              "      <td>2</td>\n",
              "      <td>1</td>\n",
              "      <td>1</td>\n",
              "      <td>44</td>\n",
              "      <td>7</td>\n",
              "      <td>2</td>\n",
              "      <td>0</td>\n",
              "      <td>0</td>\n",
              "      <td>0</td>\n",
              "      <td>0</td>\n",
              "      <td>0</td>\n",
              "      <td>19</td>\n",
              "      <td>1</td>\n",
              "    </tr>\n",
              "    <tr>\n",
              "      <th>2216718</th>\n",
              "      <td>2014984139614</td>\n",
              "      <td>1</td>\n",
              "      <td>2</td>\n",
              "      <td>2</td>\n",
              "      <td>1</td>\n",
              "      <td>61</td>\n",
              "      <td>9</td>\n",
              "      <td>3</td>\n",
              "      <td>0</td>\n",
              "      <td>0</td>\n",
              "      <td>0</td>\n",
              "      <td>4</td>\n",
              "      <td>0</td>\n",
              "      <td>11</td>\n",
              "      <td>2</td>\n",
              "    </tr>\n",
              "    <tr>\n",
              "      <th>2216719</th>\n",
              "      <td>2014984139614</td>\n",
              "      <td>2</td>\n",
              "      <td>1</td>\n",
              "      <td>1</td>\n",
              "      <td>1</td>\n",
              "      <td>79</td>\n",
              "      <td>11</td>\n",
              "      <td>3</td>\n",
              "      <td>0</td>\n",
              "      <td>0</td>\n",
              "      <td>0</td>\n",
              "      <td>0</td>\n",
              "      <td>0</td>\n",
              "      <td>9</td>\n",
              "      <td>3</td>\n",
              "    </tr>\n",
              "  </tbody>\n",
              "</table>\n",
              "<p>2216720 rows × 15 columns</p>\n",
              "</div>\n",
              "      <button class=\"colab-df-convert\" onclick=\"convertToInteractive('df-ae9e4556-cfb0-40de-a962-f0ecae5e520d')\"\n",
              "              title=\"Convert this dataframe to an interactive table.\"\n",
              "              style=\"display:none;\">\n",
              "        \n",
              "  <svg xmlns=\"http://www.w3.org/2000/svg\" height=\"24px\"viewBox=\"0 0 24 24\"\n",
              "       width=\"24px\">\n",
              "    <path d=\"M0 0h24v24H0V0z\" fill=\"none\"/>\n",
              "    <path d=\"M18.56 5.44l.94 2.06.94-2.06 2.06-.94-2.06-.94-.94-2.06-.94 2.06-2.06.94zm-11 1L8.5 8.5l.94-2.06 2.06-.94-2.06-.94L8.5 2.5l-.94 2.06-2.06.94zm10 10l.94 2.06.94-2.06 2.06-.94-2.06-.94-.94-2.06-.94 2.06-2.06.94z\"/><path d=\"M17.41 7.96l-1.37-1.37c-.4-.4-.92-.59-1.43-.59-.52 0-1.04.2-1.43.59L10.3 9.45l-7.72 7.72c-.78.78-.78 2.05 0 2.83L4 21.41c.39.39.9.59 1.41.59.51 0 1.02-.2 1.41-.59l7.78-7.78 2.81-2.81c.8-.78.8-2.07 0-2.86zM5.41 20L4 18.59l7.72-7.72 1.47 1.35L5.41 20z\"/>\n",
              "  </svg>\n",
              "      </button>\n",
              "      \n",
              "  <style>\n",
              "    .colab-df-container {\n",
              "      display:flex;\n",
              "      flex-wrap:wrap;\n",
              "      gap: 12px;\n",
              "    }\n",
              "\n",
              "    .colab-df-convert {\n",
              "      background-color: #E8F0FE;\n",
              "      border: none;\n",
              "      border-radius: 50%;\n",
              "      cursor: pointer;\n",
              "      display: none;\n",
              "      fill: #1967D2;\n",
              "      height: 32px;\n",
              "      padding: 0 0 0 0;\n",
              "      width: 32px;\n",
              "    }\n",
              "\n",
              "    .colab-df-convert:hover {\n",
              "      background-color: #E2EBFA;\n",
              "      box-shadow: 0px 1px 2px rgba(60, 64, 67, 0.3), 0px 1px 3px 1px rgba(60, 64, 67, 0.15);\n",
              "      fill: #174EA6;\n",
              "    }\n",
              "\n",
              "    [theme=dark] .colab-df-convert {\n",
              "      background-color: #3B4455;\n",
              "      fill: #D2E3FC;\n",
              "    }\n",
              "\n",
              "    [theme=dark] .colab-df-convert:hover {\n",
              "      background-color: #434B5C;\n",
              "      box-shadow: 0px 1px 3px 1px rgba(0, 0, 0, 0.15);\n",
              "      filter: drop-shadow(0px 1px 2px rgba(0, 0, 0, 0.3));\n",
              "      fill: #FFFFFF;\n",
              "    }\n",
              "  </style>\n",
              "\n",
              "      <script>\n",
              "        const buttonEl =\n",
              "          document.querySelector('#df-ae9e4556-cfb0-40de-a962-f0ecae5e520d button.colab-df-convert');\n",
              "        buttonEl.style.display =\n",
              "          google.colab.kernel.accessAllowed ? 'block' : 'none';\n",
              "\n",
              "        async function convertToInteractive(key) {\n",
              "          const element = document.querySelector('#df-ae9e4556-cfb0-40de-a962-f0ecae5e520d');\n",
              "          const dataTable =\n",
              "            await google.colab.kernel.invokeFunction('convertToInteractive',\n",
              "                                                     [key], {});\n",
              "          if (!dataTable) return;\n",
              "\n",
              "          const docLinkHtml = 'Like what you see? Visit the ' +\n",
              "            '<a target=\"_blank\" href=https://colab.research.google.com/notebooks/data_table.ipynb>data table notebook</a>'\n",
              "            + ' to learn more about interactive tables.';\n",
              "          element.innerHTML = '';\n",
              "          dataTable['output_type'] = 'display_data';\n",
              "          await google.colab.output.renderOutput(dataTable, element);\n",
              "          const docLink = document.createElement('div');\n",
              "          docLink.innerHTML = docLinkHtml;\n",
              "          element.appendChild(docLink);\n",
              "        }\n",
              "      </script>\n",
              "    </div>\n",
              "  </div>\n",
              "  "
            ]
          },
          "metadata": {},
          "execution_count": 13
        }
      ]
    },
    {
      "cell_type": "markdown",
      "source": [
        "### 1.3 Datos faltantes en cada uno de los datasets"
      ],
      "metadata": {
        "id": "TtvwM42o7e4A"
      }
    },
    {
      "cell_type": "markdown",
      "source": [
        "Los datos faltantes en el dataset de estudio se encuentran reportados con un \"-1\"\n"
      ],
      "metadata": {
        "id": "n3f5MMMrGs1T"
      }
    },
    {
      "cell_type": "code",
      "source": [
        "#Se muestran los datos faltantes del Dataset de accidents\n",
        "for i in df_accidents.columns:\n",
        "\n",
        "  Nan_accidents = str((df_accidents[i]==-1).sum())\n",
        "  print(i + ': ' + Nan_accidents)"
      ],
      "metadata": {
        "id": "zwtRRpNyHOE4",
        "colab": {
          "base_uri": "https://localhost:8080/"
        },
        "outputId": "42d31224-b69d-4832-ba8e-b24e86a393ca"
      },
      "execution_count": null,
      "outputs": [
        {
          "output_type": "stream",
          "name": "stdout",
          "text": [
            "Accident_Index: 0\n",
            "Location_Easting_OSGR: 0\n",
            "Location_Northing_OSGR: 0\n",
            "Longitude: 1\n",
            "Latitude: 0\n",
            "Police_Force: 0\n",
            "Accident_Severity: 0\n",
            "Number_of_Vehicles: 0\n",
            "Number_of_Casualties: 0\n",
            "Date: 0\n",
            "Day_of_Week: 0\n",
            "Time: 0\n",
            "Local_Authority_(District): 0\n",
            "Local_Authority_(Highway): 0\n",
            "1st_Road_Class: 0\n",
            "1st_Road_Number: 2\n",
            "Road_Type: 0\n",
            "Speed_limit: 0\n",
            "Junction_Detail: 18\n",
            "Junction_Control: 585322\n",
            "2nd_Road_Class: 676268\n",
            "2nd_Road_Number: 16118\n",
            "Pedestrian_Crossing-Human_Control: 21\n",
            "Pedestrian_Crossing-Physical_Facilities: 37\n",
            "Light_Conditions: 0\n",
            "Weather_Conditions: 161\n",
            "Road_Surface_Conditions: 2155\n",
            "Special_Conditions_at_Site: 18\n",
            "Carriageway_Hazards: 32\n",
            "Urban_or_Rural_Area: 0\n",
            "Did_Police_Officer_Attend_Scene_of_Accident: 270\n",
            "LSOA_of_Accident_Location: 0\n"
          ]
        }
      ]
    },
    {
      "cell_type": "code",
      "source": [
        "#Se muestran los datos faltantes del Dataset de vehicles\n",
        "for j in df_vehicles.columns:\n",
        "\n",
        "  Nan_vehicles = str((df_vehicles[j]==-1).sum())\n",
        "  print(j + ': ' + Nan_vehicles)"
      ],
      "metadata": {
        "id": "XCq28JxgPbWQ",
        "colab": {
          "base_uri": "https://localhost:8080/"
        },
        "outputId": "944f7826-25cb-401f-cd55-5c711747da6a"
      },
      "execution_count": null,
      "outputs": [
        {
          "output_type": "stream",
          "name": "stdout",
          "text": [
            "Accident_Index: 0\n",
            "Vehicle_Reference: 0\n",
            "Vehicle_Type: 473\n",
            "Towing_and_Articulation: 184\n",
            "Vehicle_Manoeuvre: 1080\n",
            "Vehicle_Location-Restricted_Lane: 74\n",
            "Junction_Location: 9876\n",
            "Skidding_and_Overturning: 132\n",
            "Hit_Object_in_Carriageway: 87\n",
            "Vehicle_Leaving_Carriageway: 127\n",
            "Hit_Object_off_Carriageway: 54\n",
            "1st_Point_of_Impact: 565\n",
            "Was_Vehicle_Left_Hand_Drive?: 23049\n",
            "Journey_Purpose_of_Driver: 44921\n",
            "Sex_of_Driver: 33\n",
            "Age_of_Driver: 330608\n",
            "Age_Band_of_Driver: 330608\n",
            "Engine_Capacity_(CC): 788471\n",
            "Propulsion_Code: 770004\n",
            "Age_of_Vehicle: 874989\n",
            "Driver_IMD_Decile: 849921\n",
            "Driver_Home_Area_Type: 588611\n"
          ]
        }
      ]
    },
    {
      "cell_type": "code",
      "source": [
        "#Se muestran los datos faltantes del Dataset de victims\n",
        "for k in df_victims.columns:\n",
        "\n",
        "  Nan_victims = str((df_victims[k]==-1).sum())\n",
        "  print(k + ': ' + Nan_victims)"
      ],
      "metadata": {
        "id": "4Lg9Gr3RPbL1",
        "colab": {
          "base_uri": "https://localhost:8080/"
        },
        "outputId": "bb8af7b0-9443-496c-b300-68b176fba117"
      },
      "execution_count": null,
      "outputs": [
        {
          "output_type": "stream",
          "name": "stdout",
          "text": [
            "Accident_Index: 0\n",
            "Vehicle_Reference: 0\n",
            "Casualty_Reference: 0\n",
            "Casualty_Class: 0\n",
            "Sex_of_Casualty: 630\n",
            "Age_of_Casualty: 45920\n",
            "Age_Band_of_Casualty: 45920\n",
            "Casualty_Severity: 0\n",
            "Pedestrian_Location: 12\n",
            "Pedestrian_Movement: 15\n",
            "Car_Passenger: 404\n",
            "Bus_or_Coach_Passenger: 38\n",
            "Pedestrian_Road_Maintenance_Worker: 1439022\n",
            "Casualty_Type: 0\n",
            "Casualty_Home_Area_Type: 322715\n"
          ]
        }
      ]
    },
    {
      "cell_type": "markdown",
      "source": [
        "## 2. Preprocesamiento de los datos"
      ],
      "metadata": {
        "id": "rkK9LGfhXhi-"
      }
    },
    {
      "cell_type": "code",
      "source": [
        "#Se reemplazan los -1 por Nan\n",
        "\n",
        "df_accidents.replace(-1,np.nan,inplace=True) \n",
        "df_vehicles.replace(-1,np.nan,inplace=True) \n",
        "df_victims.replace(-1,np.nan,inplace=True) "
      ],
      "metadata": {
        "id": "VLfBIWWrr5oN"
      },
      "execution_count": null,
      "outputs": []
    },
    {
      "cell_type": "markdown",
      "source": [
        "### 2.1 Identificacion de las variables y sustitucion de los datos"
      ],
      "metadata": {
        "id": "pwKy4ZkGXkao"
      }
    },
    {
      "cell_type": "markdown",
      "source": [
        "**Variables numérica, se reemplazan los valores faltantes por el promedio .mean()**"
      ],
      "metadata": {
        "id": "33sjZMZDt105"
      }
    },
    {
      "cell_type": "code",
      "source": [
        "num_variables_accidents = [\"Longitude\", \"1st_Road_Number\", \"Junction_Detail\", \"2nd_Road_Number\"]\n",
        "for i in num_variables_accidents:\n",
        "  df_accidents[i] = df_accidents[i].fillna(df_accidents[i].mean()) "
      ],
      "metadata": {
        "id": "nNP2GB0ttUbM"
      },
      "execution_count": null,
      "outputs": []
    },
    {
      "cell_type": "code",
      "source": [
        "num_variables_victims = [\"Age_of_Casualty\", \"Age_Band_of_Casualty\"]\n",
        "for i in num_variables_victims:\n",
        "  df_victims[i] = df_victims[i].fillna(df_victims[i].mean())"
      ],
      "metadata": {
        "id": "xNfgF3SeQK78"
      },
      "execution_count": null,
      "outputs": []
    },
    {
      "cell_type": "markdown",
      "source": [
        "**Variables categóricas, se reemplazan los valores faltantes por la moda .mode()**"
      ],
      "metadata": {
        "id": "Zh5SebfkvB2a"
      }
    },
    {
      "cell_type": "code",
      "source": [
        "df_vehicles[\"Vehicle_Type\"].value_counts() #Ver cantidad de datos de cada valor"
      ],
      "metadata": {
        "id": "R-j3-09lU6ap",
        "colab": {
          "base_uri": "https://localhost:8080/"
        },
        "outputId": "604aa54b-1995-4e0f-9ebf-a0b868d05e30"
      },
      "execution_count": null,
      "outputs": [
        {
          "output_type": "execute_result",
          "data": {
            "text/plain": [
              "9.0     2205201\n",
              "1.0      184083\n",
              "19.0     138182\n",
              "5.0       86904\n",
              "11.0      76888\n",
              "3.0       70152\n",
              "21.0      62962\n",
              "8.0       52409\n",
              "2.0       37224\n",
              "4.0       25686\n",
              "90.0      24305\n",
              "20.0      22567\n",
              "10.0       8387\n",
              "17.0       6304\n",
              "16.0       1297\n",
              "22.0        459\n",
              "98.0        387\n",
              "97.0        286\n",
              "18.0        250\n",
              "23.0         19\n",
              "Name: Vehicle_Type, dtype: int64"
            ]
          },
          "metadata": {},
          "execution_count": 20
        }
      ]
    },
    {
      "cell_type": "code",
      "source": [
        "cat_variables_accidents = [\"Junction_Control\", \"2nd_Road_Class\", \"Pedestrian_Crossing-Human_Control\", \"Pedestrian_Crossing-Physical_Facilities\",\"Weather_Conditions\", \"Road_Surface_Conditions\", \"Special_Conditions_at_Site\", \"Carriageway_Hazards\", \"Did_Police_Officer_Attend_Scene_of_Accident\"]\n",
        "for i in cat_variables_accidents:\n",
        "  print(f\" Mode : {df_accidents[i].mode()}\")\n",
        "  df_accidents[i] = df_accidents[i].fillna(df_accidents[i].mode().iloc[0]) #En caso de que la moda sean dos categorias se elije la primera"
      ],
      "metadata": {
        "id": "Pb9t3kCrvAs4",
        "colab": {
          "base_uri": "https://localhost:8080/"
        },
        "outputId": "7f6ff57d-3950-4002-f069-0fa87690bb62"
      },
      "execution_count": null,
      "outputs": [
        {
          "output_type": "stream",
          "name": "stdout",
          "text": [
            " Mode : 0    4.0\n",
            "dtype: float64\n",
            " Mode : 0    6.0\n",
            "dtype: float64\n",
            " Mode : 0    0.0\n",
            "dtype: float64\n",
            " Mode : 0    0.0\n",
            "dtype: float64\n",
            " Mode : 0    1.0\n",
            "dtype: float64\n",
            " Mode : 0    1.0\n",
            "dtype: float64\n",
            " Mode : 0    0.0\n",
            "dtype: float64\n",
            " Mode : 0    0.0\n",
            "dtype: float64\n",
            " Mode : 0    1.0\n",
            "dtype: float64\n"
          ]
        }
      ]
    },
    {
      "cell_type": "code",
      "source": [
        "cat_variables_vehicles = [\"Vehicle_Type\", \"Towing_and_Articulation\", \"Vehicle_Manoeuvre\", \"Vehicle_Location-Restricted_Lane\", \"Junction_Location\", \"Skidding_and_Overturning\", \"Hit_Object_in_Carriageway\", \"Vehicle_Leaving_Carriageway\", \"Hit_Object_off_Carriageway\" , \"1st_Point_of_Impact\", \"Was_Vehicle_Left_Hand_Drive?\", \"Journey_Purpose_of_Driver\", \"Sex_of_Driver\", \"Age_of_Driver\", \"Age_Band_of_Driver\", \"Engine_Capacity_(CC)\", \"Propulsion_Code\", \"Age_of_Vehicle\", \"Driver_IMD_Decile\", \"Driver_Home_Area_Type\"]\n",
        "for i in cat_variables_vehicles:\n",
        "  print(f\" Mode : {df_vehicles[i].mode()}\")\n",
        "  df_vehicles[i] = df_vehicles[i].fillna(df_vehicles[i].mode().iloc[0]) #En caso de que la moda sean dos categorias se elije la primera"
      ],
      "metadata": {
        "id": "dNo4RIW4WjFk",
        "colab": {
          "base_uri": "https://localhost:8080/"
        },
        "outputId": "b7f65895-a767-4e8a-a4b0-37fd686ca3e9"
      },
      "execution_count": null,
      "outputs": [
        {
          "output_type": "stream",
          "name": "stdout",
          "text": [
            " Mode : 0    9.0\n",
            "dtype: float64\n",
            " Mode : 0    0.0\n",
            "dtype: float64\n",
            " Mode : 0    18.0\n",
            "dtype: float64\n",
            " Mode : 0    0.0\n",
            "dtype: float64\n",
            " Mode : 0    0.0\n",
            "dtype: float64\n",
            " Mode : 0    0.0\n",
            "dtype: float64\n",
            " Mode : 0    0.0\n",
            "dtype: float64\n",
            " Mode : 0    0.0\n",
            "dtype: float64\n",
            " Mode : 0    0.0\n",
            "dtype: float64\n",
            " Mode : 0    1.0\n",
            "dtype: float64\n",
            " Mode : 0    1.0\n",
            "dtype: float64\n",
            " Mode : 0    15.0\n",
            "dtype: float64\n",
            " Mode : 0    1.0\n",
            "dtype: float64\n",
            " Mode : 0    30.0\n",
            "dtype: float64\n",
            " Mode : 0    6.0\n",
            "dtype: float64\n",
            " Mode : 0    1598.0\n",
            "dtype: float64\n",
            " Mode : 0    1.0\n",
            "dtype: float64\n",
            " Mode : 0    1.0\n",
            "dtype: float64\n",
            " Mode : 0    3.0\n",
            "dtype: float64\n",
            " Mode : 0    1.0\n",
            "dtype: float64\n"
          ]
        }
      ]
    },
    {
      "cell_type": "code",
      "source": [
        "cat_variables_victims = [\"Sex_of_Casualty\", \"Pedestrian_Location\", \"Pedestrian_Movement\", \"Car_Passenger\", \"Bus_or_Coach_Passenger\", \"Pedestrian_Road_Maintenance_Worker\", \"Casualty_Home_Area_Type\"]\n",
        "for i in cat_variables_victims:\n",
        "  print(f\" Mode : {df_victims[i].mode()}\")\n",
        "  df_victims[i] = df_victims[i].fillna(df_victims[i].mode().iloc[0]) #En caso de que la moda sean dos categorias se elije la primera"
      ],
      "metadata": {
        "id": "7xo2vsS-WnUt",
        "colab": {
          "base_uri": "https://localhost:8080/"
        },
        "outputId": "8c4a3d21-3b49-432b-d046-859c94e1dc2c"
      },
      "execution_count": null,
      "outputs": [
        {
          "output_type": "stream",
          "name": "stdout",
          "text": [
            " Mode : 0    1.0\n",
            "dtype: float64\n",
            " Mode : 0    0.0\n",
            "dtype: float64\n",
            " Mode : 0    0.0\n",
            "dtype: float64\n",
            " Mode : 0    0.0\n",
            "dtype: float64\n",
            " Mode : 0    0.0\n",
            "dtype: float64\n",
            " Mode : 0    0.0\n",
            "dtype: float64\n",
            " Mode : 0    1.0\n",
            "dtype: float64\n"
          ]
        }
      ]
    },
    {
      "cell_type": "markdown",
      "source": [
        "## 3. Modelos e iteraciones "
      ],
      "metadata": {
        "id": "AjZqbo4fY9yo"
      }
    },
    {
      "cell_type": "markdown",
      "source": [
        "### 3.1 Analisis de la variable objetivo"
      ],
      "metadata": {
        "id": "swfhjBK0-Nzo"
      }
    },
    {
      "cell_type": "code",
      "source": [
        "sns.distplot(df_accidents['Accident_Severity'])"
      ],
      "metadata": {
        "id": "s-bCBg_NCjU_"
      },
      "execution_count": null,
      "outputs": []
    },
    {
      "cell_type": "markdown",
      "source": [
        "### 3.2 Generación tabla de variables finales de entrada y salida del modelo"
      ],
      "metadata": {
        "id": "Nz8WWOf1oKuR"
      }
    },
    {
      "cell_type": "code",
      "source": [
        "# df_victims[df_victims[\"Accident_Index\"] == \"20144100J0489\"]\n",
        "df_vehicles_cleaned = df_vehicles.groupby(\"Accident_Index\").first().reset_index()\n",
        "df_victims_cleaned = df_victims.groupby(\"Accident_Index\").first().reset_index()"
      ],
      "metadata": {
        "id": "crP5_F8KonGx"
      },
      "execution_count": null,
      "outputs": []
    },
    {
      "cell_type": "code",
      "source": [
        "print(df_accidents.shape)\n",
        "print(df_victims_cleaned.shape)\n",
        "print(df_vehicles_cleaned.shape)\n",
        "# \"Accident_Index\""
      ],
      "metadata": {
        "colab": {
          "base_uri": "https://localhost:8080/"
        },
        "id": "C7AJYp1-oFxv",
        "outputId": "8a68ec73-7845-497b-f7b0-19b2f3d9d087"
      },
      "execution_count": null,
      "outputs": [
        {
          "output_type": "stream",
          "name": "stdout",
          "text": [
            "(1640597, 32)\n",
            "(1640597, 15)\n",
            "(1640597, 22)\n"
          ]
        }
      ]
    },
    {
      "cell_type": "markdown",
      "source": [
        "Unimos el dataset con la primary key \"Accident_Index\" y posteriormente se eliminan las variables que no son de interés "
      ],
      "metadata": {
        "id": "c0gG6BHSyXvq"
      }
    },
    {
      "cell_type": "code",
      "source": [
        "df_model_variables = df_accidents.merge(df_victims_cleaned,how=\"inner\",on=\"Accident_Index\").merge(df_vehicles_cleaned,how=\"inner\",on=\"Accident_Index\")"
      ],
      "metadata": {
        "id": "e2m_OdQ7sNvC"
      },
      "execution_count": null,
      "outputs": []
    },
    {
      "cell_type": "code",
      "source": [
        "df_model_variables.drop(['Accident_Index','Did_Police_Officer_Attend_Scene_of_Accident','Sex_of_Casualty',\n",
        "                         'Sex_of_Driver','1st_Road_Class','2nd_Road_Number','Pedestrian_Crossing-Physical_Facilities',\n",
        "                           'Casualty_Type','Pedestrian_Crossing-Human_Control','1st_Road_Number','Junction_Control',\n",
        "                         'Bus_or_Coach_Passenger','Day_of_Week','Longitude','Was_Vehicle_Left_Hand_Drive?','Location_Easting_OSGR',\n",
        "                         'Propulsion_Code','Vehicle_Location-Restricted_Lane','Journey_Purpose_of_Driver','Car_Passenger','Driver_IMD_Decile',\n",
        "                         'Age_Band_of_Casualty','Age_Band_of_Driver','Latitude','Location_Northing_OSGR','Age_of_Driver','Age_of_Casualty',\n",
        "                         'Local_Authority_(District)','Police_Force','Pedestrian_Movement','Casualty_Home_Area_Type','Pedestrian_Location',\n",
        "                         'Casualty_Class','Driver_Home_Area_Type','2nd_Road_Class','Number_of_Vehicles','Light_Conditions',\n",
        "                         'Vehicle_Leaving_Carriageway','Casualty_Reference','Number_of_Casualties','Pedestrian_Road_Maintenance_Worker',\n",
        "                         'Local_Authority_(Highway)','Date','Time','LSOA_of_Accident_Location'],axis = 1,inplace=True)\n"
      ],
      "metadata": {
        "id": "rKhb0bwSso6y"
      },
      "execution_count": null,
      "outputs": []
    },
    {
      "cell_type": "markdown",
      "source": [
        "### 3.3 División del dataset en Train & Test\n",
        "\n",
        "Se divide el dataset con un 30% de los datos para validacion y 70% para entrenamiento"
      ],
      "metadata": {
        "id": "YQ0UAMjNcgat"
      }
    },
    {
      "cell_type": "code",
      "source": [
        "y = df_model_variables['Accident_Severity'].values\n",
        "X= df_model_variables.drop('Accident_Severity',axis=1)\n",
        "\n",
        "test_size = 0.3\n",
        "X_train, X_test, y_train , y_test = train_test_split(X, y, test_size=test_size,random_state=1)\n",
        "print(X_train.shape, X_test.shape)"
      ],
      "metadata": {
        "id": "TmbmHYD1JeOi",
        "colab": {
          "base_uri": "https://localhost:8080/"
        },
        "outputId": "cbda40b5-892e-4aa0-81a8-82ece5baba4c"
      },
      "execution_count": null,
      "outputs": [
        {
          "output_type": "stream",
          "name": "stdout",
          "text": [
            "(1148417, 21) (492180, 21)\n"
          ]
        }
      ]
    },
    {
      "cell_type": "markdown",
      "source": [
        "### 3.4 Aplicacion de los Metodos Supervisados"
      ],
      "metadata": {
        "id": "1jjkoJ9GaPRE"
      }
    },
    {
      "cell_type": "code",
      "source": [
        "estimator1 = LinearRegression()\n",
        "estimator2 = DecisionTreeRegressor(max_depth=5)\n",
        "estimator3 = RandomForestRegressor(n_estimators = 2,max_depth = 5)"
      ],
      "metadata": {
        "id": "5YqgnNz0LKuG"
      },
      "execution_count": null,
      "outputs": []
    },
    {
      "cell_type": "code",
      "source": [
        "def report_cv_score(z):\n",
        "    \n",
        "    #RMSE en prueba y entrenamiento\n",
        "    lr_ts_score = z['test_score']*(-1)\n",
        "    lr_tr_score = z['train_score']*(-1)\n",
        "    lin_rmse_ts = np.sqrt(lr_ts_score)\n",
        "    lin_rmse_tr = np.sqrt(lr_tr_score)\n",
        "    print(\"RMSLE Test: \", \"{:.5f}\".format(np.mean(lin_rmse_ts)), \"(±\", \"{:.8f}\".format(np.std(lin_rmse_ts)),\")\")\n",
        "    print(\"RMSLE Train: \", \"{:.5f}\".format(np.mean(lin_rmse_tr)), \"(±\", \"{:.8f}\".format(np.std(lin_rmse_tr)),\")\")"
      ],
      "metadata": {
        "id": "ObMB4lv3ML_2"
      },
      "execution_count": null,
      "outputs": []
    },
    {
      "cell_type": "code",
      "source": [
        "test_size = 0.3\n",
        "val_size  = test_size/(1-test_size)\n",
        "zscores = []\n",
        "estimators = [estimator1, estimator2, estimator3]\n",
        "for estimator in estimators:\n",
        "    print(\"---------\")\n",
        "    z = cross_validate(estimator, X_train, y_train, return_train_score=True, return_estimator=False,\n",
        "                       scoring=\"neg_mean_squared_error\", cv=ShuffleSplit(n_splits=10, test_size= val_size))\n",
        "    report_cv_score(z)\n",
        "    zscores.append(np.mean(np.sqrt(z['test_score']*(-1))))\n",
        "best = np.argmin(zscores)\n",
        "print (\"Seleccionado: \", best)\n",
        "best_estimator = estimators[best]\n",
        "print (\"\\n Mejor modelo: \")\n",
        "print (best_estimator)"
      ],
      "metadata": {
        "colab": {
          "base_uri": "https://localhost:8080/"
        },
        "id": "5TqBqca5LWxZ",
        "outputId": "0b46920c-6273-4cbd-eeee-0a2d8c57e903"
      },
      "execution_count": null,
      "outputs": [
        {
          "output_type": "stream",
          "name": "stdout",
          "text": [
            "---------\n",
            "RMSLE Test:  0.14096 (± 0.00069012 )\n",
            "RMSLE Train:  0.14067 (± 0.00051694 )\n",
            "---------\n",
            "RMSLE Test:  0.14062 (± 0.00064850 )\n",
            "RMSLE Train:  0.14045 (± 0.00048408 )\n",
            "---------\n",
            "RMSLE Test:  0.14050 (± 0.00071055 )\n",
            "RMSLE Train:  0.14043 (± 0.00052810 )\n",
            "Seleccionado:  2\n",
            "\n",
            " Mejor modelo: \n",
            "RandomForestRegressor(max_depth=5, n_estimators=2)\n"
          ]
        }
      ]
    },
    {
      "cell_type": "markdown",
      "source": [
        "**Se aplica el mejor modelo obtenido para el estudio: Decision TreeRegressor**"
      ],
      "metadata": {
        "id": "TGcieAdlzDqs"
      }
    },
    {
      "cell_type": "code",
      "source": [
        "parametros = {'max_depth': [2,5,8,12,15]}\n",
        "\n",
        "\n",
        "decission_tree = GridSearchCV(estimator = estimator2,\n",
        "                        param_grid = parametros,\n",
        "                        cv = ShuffleSplit(n_splits= 5, test_size=val_size), \n",
        "                        scoring = 'neg_mean_squared_error',\n",
        "                        verbose = 1,\n",
        "                        return_train_score = True,\n",
        "                        n_jobs = -1)\n",
        "\n",
        "decission_tree.fit(X_train, y_train)\n"
      ],
      "metadata": {
        "colab": {
          "base_uri": "https://localhost:8080/"
        },
        "id": "s3dngLNoy948",
        "outputId": "ea18ee60-e291-42d2-a733-821fefd7ebe3"
      },
      "execution_count": null,
      "outputs": [
        {
          "output_type": "stream",
          "name": "stdout",
          "text": [
            "Fitting 5 folds for each of 5 candidates, totalling 25 fits\n"
          ]
        },
        {
          "output_type": "execute_result",
          "data": {
            "text/plain": [
              "GridSearchCV(cv=ShuffleSplit(n_splits=5, random_state=None, test_size=0.4285714285714286,\n",
              "       train_size=None),\n",
              "             estimator=DecisionTreeRegressor(max_depth=5), n_jobs=-1,\n",
              "             param_grid={'max_depth': [2, 5, 8, 12, 15]},\n",
              "             return_train_score=True, scoring='neg_mean_squared_error',\n",
              "             verbose=1)"
            ]
          },
          "metadata": {},
          "execution_count": 33
        }
      ]
    },
    {
      "cell_type": "code",
      "source": [
        "print(\"Mejor estimador Decision Tree: \",decission_tree.best_estimator_)\n",
        "print(\"Mejores parámetros para el estimador Decision Tree: \", decission_tree.best_params_)"
      ],
      "metadata": {
        "colab": {
          "base_uri": "https://localhost:8080/"
        },
        "id": "olBYCcGGzsxn",
        "outputId": "b246b416-5065-4013-864e-5b615fc073a8"
      },
      "execution_count": null,
      "outputs": [
        {
          "output_type": "stream",
          "name": "stdout",
          "text": [
            "Mejor estimador Decision Tree:  DecisionTreeRegressor(max_depth=8)\n",
            "Mejores parámetros para el estimador Decision Tree:  {'max_depth': 8}\n"
          ]
        }
      ]
    },
    {
      "cell_type": "code",
      "source": [
        "Des_tree = DecisionTreeRegressor(max_depth=8)\n",
        "Des_tree.fit(X_train, y_train)"
      ],
      "metadata": {
        "colab": {
          "base_uri": "https://localhost:8080/"
        },
        "id": "9sHfibjIzyVt",
        "outputId": "cb656028-b27a-4220-f31d-00ce5b8010c8"
      },
      "execution_count": null,
      "outputs": [
        {
          "output_type": "execute_result",
          "data": {
            "text/plain": [
              "DecisionTreeRegressor(max_depth=8)"
            ]
          },
          "metadata": {},
          "execution_count": 35
        }
      ]
    },
    {
      "cell_type": "code",
      "source": [
        "#Función para calcular el RMSLE de los modelos implementados\n",
        "from sklearn.metrics import mean_squared_error\n",
        "def RMSLE(y_actual, y_pred):\n",
        "    \n",
        "    return np.sqrt(mean_squared_error(y_actual, y_pred))"
      ],
      "metadata": {
        "id": "0ZnsjCQJ0Fss"
      },
      "execution_count": null,
      "outputs": []
    },
    {
      "cell_type": "code",
      "source": [
        "#Resultado del RMSLE para el mejor modelo obtenido\n",
        "print('RMSLE del Decision Tree en entrenamiento: ',\"{:.5f}\".format(RMSLE((y_train) , (Des_tree.predict(X_train)))))\n",
        "print('RMSLE del Decision Tree seleccionado: ',\"{:.5f}\".format(RMSLE(y_test , Des_tree.predict(X_test))))"
      ],
      "metadata": {
        "colab": {
          "base_uri": "https://localhost:8080/"
        },
        "id": "SZJ5QJ31z77Z",
        "outputId": "bd18fe3e-ef6b-4ad1-9232-9fee48b7b34b"
      },
      "execution_count": null,
      "outputs": [
        {
          "output_type": "stream",
          "name": "stdout",
          "text": [
            "RMSLE del Decision Tree en entrenamiento:  0.14001\n",
            "RMSLE del Decision Tree seleccionado:  0.14042\n"
          ]
        }
      ]
    },
    {
      "cell_type": "markdown",
      "source": [
        "**Se anexa el analisis de la correlacion entre las variables **"
      ],
      "metadata": {
        "id": "12dbEfSscXjR"
      }
    },
    {
      "cell_type": "code",
      "source": [
        "#funcion de correlacion de las variables\n",
        "corr_matrix_train = df_model_variables.corr()"
      ],
      "metadata": {
        "id": "t7qJfdOqkh30"
      },
      "execution_count": null,
      "outputs": []
    },
    {
      "cell_type": "code",
      "source": [
        "#Gráfico de la matriz de correlaciones\n",
        "plt.figure(figsize=(18,18))\n",
        "sns.heatmap(corr_matrix_train, annot = True, vmin = -1, vmax = 1, cmap = \"YlGnBu\").set_title('Correlation Matrix')\n",
        "plt.show()"
      ],
      "metadata": {
        "id": "8ilr5RBEmxGT",
        "colab": {
          "base_uri": "https://localhost:8080/",
          "height": 1000
        },
        "outputId": "6e9fe8c3-efa0-4522-9ed3-0c8007b484f8"
      },
      "execution_count": null,
      "outputs": [
        {
          "output_type": "display_data",
          "data": {
            "text/plain": [
              "<Figure size 1296x1296 with 2 Axes>"
            ],
            "image/png": "[encoded data removed]"
          },
          "metadata": {
            "needs_background": "light"
          }
        }
      ]
    },
    {
      "cell_type": "code",
      "source": [
        "#Correlaciones de las variables con la variable objetivo\n",
        "target_corr_df = pd.DataFrame(corr_matrix_train[\"Accident_Severity\"].sort_values(ascending=False))\n",
        "target_corr_df "
      ],
      "metadata": {
        "colab": {
          "base_uri": "https://localhost:8080/",
          "height": 739
        },
        "id": "p9Z4V5IAop1R",
        "outputId": "bb0f0b34-7934-4c65-d575-b50c32901f05"
      },
      "execution_count": null,
      "outputs": [
        {
          "output_type": "execute_result",
          "data": {
            "text/plain": [
              "                            Accident_Severity\n",
              "Accident_Severity                    1.000000\n",
              "Casualty_Severity                    0.935797\n",
              "Vehicle_Reference_x                  0.110146\n",
              "Junction_Detail                      0.045987\n",
              "Junction_Location                    0.043687\n",
              "Weather_Conditions                   0.022580\n",
              "Vehicle_Type                         0.011229\n",
              "Road_Surface_Conditions              0.011197\n",
              "Special_Conditions_at_Site           0.002063\n",
              "Engine_Capacity_(CC)                 0.001557\n",
              "Carriageway_Hazards                 -0.000488\n",
              "Vehicle_Reference_y                 -0.003557\n",
              "Towing_and_Articulation             -0.009585\n",
              "1st_Point_of_Impact                 -0.010479\n",
              "Age_of_Vehicle                      -0.014989\n",
              "Hit_Object_in_Carriageway           -0.037974\n",
              "Road_Type                           -0.039412\n",
              "Skidding_and_Overturning            -0.067393\n",
              "Hit_Object_off_Carriageway          -0.071319\n",
              "Speed_limit                         -0.080267\n",
              "Urban_or_Rural_Area                 -0.083118\n",
              "Vehicle_Manoeuvre                   -0.089067"
            ],
            "text/html": [
              "\n",
              "  <div id=\"df-5270da49-f268-4bd3-b3a0-0300f48c39cf\">\n",
              "    <div class=\"colab-df-container\">\n",
              "      <div>\n",
              "<style scoped>\n",
              "    .dataframe tbody tr th:only-of-type {\n",
              "        vertical-align: middle;\n",
              "    }\n",
              "\n",
              "    .dataframe tbody tr th {\n",
              "        vertical-align: top;\n",
              "    }\n",
              "\n",
              "    .dataframe thead th {\n",
              "        text-align: right;\n",
              "    }\n",
              "</style>\n",
              "<table border=\"1\" class=\"dataframe\">\n",
              "  <thead>\n",
              "    <tr style=\"text-align: right;\">\n",
              "      <th></th>\n",
              "      <th>Accident_Severity</th>\n",
              "    </tr>\n",
              "  </thead>\n",
              "  <tbody>\n",
              "    <tr>\n",
              "      <th>Accident_Severity</th>\n",
              "      <td>1.000000</td>\n",
              "    </tr>\n",
              "    <tr>\n",
              "      <th>Casualty_Severity</th>\n",
              "      <td>0.935797</td>\n",
              "    </tr>\n",
              "    <tr>\n",
              "      <th>Vehicle_Reference_x</th>\n",
              "      <td>0.110146</td>\n",
              "    </tr>\n",
              "    <tr>\n",
              "      <th>Junction_Detail</th>\n",
              "      <td>0.045987</td>\n",
              "    </tr>\n",
              "    <tr>\n",
              "      <th>Junction_Location</th>\n",
              "      <td>0.043687</td>\n",
              "    </tr>\n",
              "    <tr>\n",
              "      <th>Weather_Conditions</th>\n",
              "      <td>0.022580</td>\n",
              "    </tr>\n",
              "    <tr>\n",
              "      <th>Vehicle_Type</th>\n",
              "      <td>0.011229</td>\n",
              "    </tr>\n",
              "    <tr>\n",
              "      <th>Road_Surface_Conditions</th>\n",
              "      <td>0.011197</td>\n",
              "    </tr>\n",
              "    <tr>\n",
              "      <th>Special_Conditions_at_Site</th>\n",
              "      <td>0.002063</td>\n",
              "    </tr>\n",
              "    <tr>\n",
              "      <th>Engine_Capacity_(CC)</th>\n",
              "      <td>0.001557</td>\n",
              "    </tr>\n",
              "    <tr>\n",
              "      <th>Carriageway_Hazards</th>\n",
              "      <td>-0.000488</td>\n",
              "    </tr>\n",
              "    <tr>\n",
              "      <th>Vehicle_Reference_y</th>\n",
              "      <td>-0.003557</td>\n",
              "    </tr>\n",
              "    <tr>\n",
              "      <th>Towing_and_Articulation</th>\n",
              "      <td>-0.009585</td>\n",
              "    </tr>\n",
              "    <tr>\n",
              "      <th>1st_Point_of_Impact</th>\n",
              "      <td>-0.010479</td>\n",
              "    </tr>\n",
              "    <tr>\n",
              "      <th>Age_of_Vehicle</th>\n",
              "      <td>-0.014989</td>\n",
              "    </tr>\n",
              "    <tr>\n",
              "      <th>Hit_Object_in_Carriageway</th>\n",
              "      <td>-0.037974</td>\n",
              "    </tr>\n",
              "    <tr>\n",
              "      <th>Road_Type</th>\n",
              "      <td>-0.039412</td>\n",
              "    </tr>\n",
              "    <tr>\n",
              "      <th>Skidding_and_Overturning</th>\n",
              "      <td>-0.067393</td>\n",
              "    </tr>\n",
              "    <tr>\n",
              "      <th>Hit_Object_off_Carriageway</th>\n",
              "      <td>-0.071319</td>\n",
              "    </tr>\n",
              "    <tr>\n",
              "      <th>Speed_limit</th>\n",
              "      <td>-0.080267</td>\n",
              "    </tr>\n",
              "    <tr>\n",
              "      <th>Urban_or_Rural_Area</th>\n",
              "      <td>-0.083118</td>\n",
              "    </tr>\n",
              "    <tr>\n",
              "      <th>Vehicle_Manoeuvre</th>\n",
              "      <td>-0.089067</td>\n",
              "    </tr>\n",
              "  </tbody>\n",
              "</table>\n",
              "</div>\n",
              "      <button class=\"colab-df-convert\" onclick=\"convertToInteractive('df-5270da49-f268-4bd3-b3a0-0300f48c39cf')\"\n",
              "              title=\"Convert this dataframe to an interactive table.\"\n",
              "              style=\"display:none;\">\n",
              "        \n",
              "  <svg xmlns=\"http://www.w3.org/2000/svg\" height=\"24px\"viewBox=\"0 0 24 24\"\n",
              "       width=\"24px\">\n",
              "    <path d=\"M0 0h24v24H0V0z\" fill=\"none\"/>\n",
              "    <path d=\"M18.56 5.44l.94 2.06.94-2.06 2.06-.94-2.06-.94-.94-2.06-.94 2.06-2.06.94zm-11 1L8.5 8.5l.94-2.06 2.06-.94-2.06-.94L8.5 2.5l-.94 2.06-2.06.94zm10 10l.94 2.06.94-2.06 2.06-.94-2.06-.94-.94-2.06-.94 2.06-2.06.94z\"/><path d=\"M17.41 7.96l-1.37-1.37c-.4-.4-.92-.59-1.43-.59-.52 0-1.04.2-1.43.59L10.3 9.45l-7.72 7.72c-.78.78-.78 2.05 0 2.83L4 21.41c.39.39.9.59 1.41.59.51 0 1.02-.2 1.41-.59l7.78-7.78 2.81-2.81c.8-.78.8-2.07 0-2.86zM5.41 20L4 18.59l7.72-7.72 1.47 1.35L5.41 20z\"/>\n",
              "  </svg>\n",
              "      </button>\n",
              "      \n",
              "  <style>\n",
              "    .colab-df-container {\n",
              "      display:flex;\n",
              "      flex-wrap:wrap;\n",
              "      gap: 12px;\n",
              "    }\n",
              "\n",
              "    .colab-df-convert {\n",
              "      background-color: #E8F0FE;\n",
              "      border: none;\n",
              "      border-radius: 50%;\n",
              "      cursor: pointer;\n",
              "      display: none;\n",
              "      fill: #1967D2;\n",
              "      height: 32px;\n",
              "      padding: 0 0 0 0;\n",
              "      width: 32px;\n",
              "    }\n",
              "\n",
              "    .colab-df-convert:hover {\n",
              "      background-color: #E2EBFA;\n",
              "      box-shadow: 0px 1px 2px rgba(60, 64, 67, 0.3), 0px 1px 3px 1px rgba(60, 64, 67, 0.15);\n",
              "      fill: #174EA6;\n",
              "    }\n",
              "\n",
              "    [theme=dark] .colab-df-convert {\n",
              "      background-color: #3B4455;\n",
              "      fill: #D2E3FC;\n",
              "    }\n",
              "\n",
              "    [theme=dark] .colab-df-convert:hover {\n",
              "      background-color: #434B5C;\n",
              "      box-shadow: 0px 1px 3px 1px rgba(0, 0, 0, 0.15);\n",
              "      filter: drop-shadow(0px 1px 2px rgba(0, 0, 0, 0.3));\n",
              "      fill: #FFFFFF;\n",
              "    }\n",
              "  </style>\n",
              "\n",
              "      <script>\n",
              "        const buttonEl =\n",
              "          document.querySelector('#df-5270da49-f268-4bd3-b3a0-0300f48c39cf button.colab-df-convert');\n",
              "        buttonEl.style.display =\n",
              "          google.colab.kernel.accessAllowed ? 'block' : 'none';\n",
              "\n",
              "        async function convertToInteractive(key) {\n",
              "          const element = document.querySelector('#df-5270da49-f268-4bd3-b3a0-0300f48c39cf');\n",
              "          const dataTable =\n",
              "            await google.colab.kernel.invokeFunction('convertToInteractive',\n",
              "                                                     [key], {});\n",
              "          if (!dataTable) return;\n",
              "\n",
              "          const docLinkHtml = 'Like what you see? Visit the ' +\n",
              "            '<a target=\"_blank\" href=https://colab.research.google.com/notebooks/data_table.ipynb>data table notebook</a>'\n",
              "            + ' to learn more about interactive tables.';\n",
              "          element.innerHTML = '';\n",
              "          dataTable['output_type'] = 'display_data';\n",
              "          await google.colab.output.renderOutput(dataTable, element);\n",
              "          const docLink = document.createElement('div');\n",
              "          docLink.innerHTML = docLinkHtml;\n",
              "          element.appendChild(docLink);\n",
              "        }\n",
              "      </script>\n",
              "    </div>\n",
              "  </div>\n",
              "  "
            ]
          },
          "metadata": {},
          "execution_count": 40
        }
      ]
    }
  ]
}