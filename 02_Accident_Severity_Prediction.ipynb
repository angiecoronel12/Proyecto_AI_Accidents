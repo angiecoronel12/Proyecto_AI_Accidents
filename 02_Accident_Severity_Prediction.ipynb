{
  "nbformat": 4,
  "nbformat_minor": 0,
  "metadata": {
    "colab": {
      "provenance": [],
      "collapsed_sections": [],
      "include_colab_link": true
    },
    "kernelspec": {
      "name": "python3",
      "display_name": "Python 3"
    },
    "language_info": {
      "name": "python"
    }
  },
  "cells": [
    {
      "cell_type": "markdown",
      "metadata": {
        "id": "view-in-github",
        "colab_type": "text"
      },
      "source": [
        "<a href=\"https://colab.research.google.com/github/angiecoronel12/Proyecto_AI_Accidents/blob/main/02_Accident_Severity_Prediction.ipynb\" target=\"_parent\"><img src=\"https://colab.research.google.com/assets/colab-badge.svg\" alt=\"Open In Colab\"/></a>"
      ]
    },
    {
      "cell_type": "markdown",
      "source": [
        "# ENTREGA 2 DEL PROYECTO IA\n",
        "\n",
        "PREDICCIÓN DE LA SEVERIDAD DE UN ACCIDENTE DE TRÁNSITO EN FUNCIÓN DEL TIPO DE VEHÍCULO\n",
        "\n",
        "Presentado por: \n",
        "\n",
        "LIZETH GIRALDO VELEZ\n",
        "CC:1001237603\n",
        "\n",
        "ANGIE LISETH CORONEL YELA \n",
        "CC: 1085333292\n"
      ],
      "metadata": {
        "id": "3crE1i3sWahw"
      }
    },
    {
      "cell_type": "markdown",
      "source": [
        "## 1. EXPLORACIÓN DE LOS DATOS "
      ],
      "metadata": {
        "id": "UMI5jIIIWvTQ"
      }
    },
    {
      "cell_type": "markdown",
      "source": [
        "### 1.1 Carga de los datos desde Kaggle"
      ],
      "metadata": {
        "id": "PBDAQ961W4RO"
      }
    },
    {
      "cell_type": "code",
      "execution_count": null,
      "metadata": {
        "id": "BPZhO7D2lQ-9"
      },
      "outputs": [],
      "source": [
        " !pip install -q kaggle"
      ]
    },
    {
      "cell_type": "code",
      "source": [
        "from google.colab import files"
      ],
      "metadata": {
        "id": "kc2rRhAllUDD"
      },
      "execution_count": null,
      "outputs": []
    },
    {
      "cell_type": "code",
      "source": [
        "files.upload()"
      ],
      "metadata": {
        "colab": {
          "base_uri": "https://localhost:8080/",
          "height": 90
        },
        "id": "dqyPvXKulXBL",
        "outputId": "29e60bc0-f512-4dee-b51c-afe7ba1d58bd"
      },
      "execution_count": null,
      "outputs": [
        {
          "output_type": "display_data",
          "data": {
            "text/plain": [
              "<IPython.core.display.HTML object>"
            ],
            "text/html": [
              "\n",
              "     <input type=\"file\" id=\"files-165b0502-721b-4676-89e4-e9289842a644\" name=\"files[]\" multiple disabled\n",
              "        style=\"border:none\" />\n",
              "     <output id=\"result-165b0502-721b-4676-89e4-e9289842a644\">\n",
              "      Upload widget is only available when the cell has been executed in the\n",
              "      current browser session. Please rerun this cell to enable.\n",
              "      </output>\n",
              "      <script>// Copyright 2017 Google LLC\n",
              "//\n",
              "// Licensed under the Apache License, Version 2.0 (the \"License\");\n",
              "// you may not use this file except in compliance with the License.\n",
              "// You may obtain a copy of the License at\n",
              "//\n",
              "//      http://www.apache.org/licenses/LICENSE-2.0\n",
              "//\n",
              "// Unless required by applicable law or agreed to in writing, software\n",
              "// distributed under the License is distributed on an \"AS IS\" BASIS,\n",
              "// WITHOUT WARRANTIES OR CONDITIONS OF ANY KIND, either express or implied.\n",
              "// See the License for the specific language governing permissions and\n",
              "// limitations under the License.\n",
              "\n",
              "/**\n",
              " * @fileoverview Helpers for google.colab Python module.\n",
              " */\n",
              "(function(scope) {\n",
              "function span(text, styleAttributes = {}) {\n",
              "  const element = document.createElement('span');\n",
              "  element.textContent = text;\n",
              "  for (const key of Object.keys(styleAttributes)) {\n",
              "    element.style[key] = styleAttributes[key];\n",
              "  }\n",
              "  return element;\n",
              "}\n",
              "\n",
              "// Max number of bytes which will be uploaded at a time.\n",
              "const MAX_PAYLOAD_SIZE = 100 * 1024;\n",
              "\n",
              "function _uploadFiles(inputId, outputId) {\n",
              "  const steps = uploadFilesStep(inputId, outputId);\n",
              "  const outputElement = document.getElementById(outputId);\n",
              "  // Cache steps on the outputElement to make it available for the next call\n",
              "  // to uploadFilesContinue from Python.\n",
              "  outputElement.steps = steps;\n",
              "\n",
              "  return _uploadFilesContinue(outputId);\n",
              "}\n",
              "\n",
              "// This is roughly an async generator (not supported in the browser yet),\n",
              "// where there are multiple asynchronous steps and the Python side is going\n",
              "// to poll for completion of each step.\n",
              "// This uses a Promise to block the python side on completion of each step,\n",
              "// then passes the result of the previous step as the input to the next step.\n",
              "function _uploadFilesContinue(outputId) {\n",
              "  const outputElement = document.getElementById(outputId);\n",
              "  const steps = outputElement.steps;\n",
              "\n",
              "  const next = steps.next(outputElement.lastPromiseValue);\n",
              "  return Promise.resolve(next.value.promise).then((value) => {\n",
              "    // Cache the last promise value to make it available to the next\n",
              "    // step of the generator.\n",
              "    outputElement.lastPromiseValue = value;\n",
              "    return next.value.response;\n",
              "  });\n",
              "}\n",
              "\n",
              "/**\n",
              " * Generator function which is called between each async step of the upload\n",
              " * process.\n",
              " * @param {string} inputId Element ID of the input file picker element.\n",
              " * @param {string} outputId Element ID of the output display.\n",
              " * @return {!Iterable<!Object>} Iterable of next steps.\n",
              " */\n",
              "function* uploadFilesStep(inputId, outputId) {\n",
              "  const inputElement = document.getElementById(inputId);\n",
              "  inputElement.disabled = false;\n",
              "\n",
              "  const outputElement = document.getElementById(outputId);\n",
              "  outputElement.innerHTML = '';\n",
              "\n",
              "  const pickedPromise = new Promise((resolve) => {\n",
              "    inputElement.addEventListener('change', (e) => {\n",
              "      resolve(e.target.files);\n",
              "    });\n",
              "  });\n",
              "\n",
              "  const cancel = document.createElement('button');\n",
              "  inputElement.parentElement.appendChild(cancel);\n",
              "  cancel.textContent = 'Cancel upload';\n",
              "  const cancelPromise = new Promise((resolve) => {\n",
              "    cancel.onclick = () => {\n",
              "      resolve(null);\n",
              "    };\n",
              "  });\n",
              "\n",
              "  // Wait for the user to pick the files.\n",
              "  const files = yield {\n",
              "    promise: Promise.race([pickedPromise, cancelPromise]),\n",
              "    response: {\n",
              "      action: 'starting',\n",
              "    }\n",
              "  };\n",
              "\n",
              "  cancel.remove();\n",
              "\n",
              "  // Disable the input element since further picks are not allowed.\n",
              "  inputElement.disabled = true;\n",
              "\n",
              "  if (!files) {\n",
              "    return {\n",
              "      response: {\n",
              "        action: 'complete',\n",
              "      }\n",
              "    };\n",
              "  }\n",
              "\n",
              "  for (const file of files) {\n",
              "    const li = document.createElement('li');\n",
              "    li.append(span(file.name, {fontWeight: 'bold'}));\n",
              "    li.append(span(\n",
              "        `(${file.type || 'n/a'}) - ${file.size} bytes, ` +\n",
              "        `last modified: ${\n",
              "            file.lastModifiedDate ? file.lastModifiedDate.toLocaleDateString() :\n",
              "                                    'n/a'} - `));\n",
              "    const percent = span('0% done');\n",
              "    li.appendChild(percent);\n",
              "\n",
              "    outputElement.appendChild(li);\n",
              "\n",
              "    const fileDataPromise = new Promise((resolve) => {\n",
              "      const reader = new FileReader();\n",
              "      reader.onload = (e) => {\n",
              "        resolve(e.target.result);\n",
              "      };\n",
              "      reader.readAsArrayBuffer(file);\n",
              "    });\n",
              "    // Wait for the data to be ready.\n",
              "    let fileData = yield {\n",
              "      promise: fileDataPromise,\n",
              "      response: {\n",
              "        action: 'continue',\n",
              "      }\n",
              "    };\n",
              "\n",
              "    // Use a chunked sending to avoid message size limits. See b/62115660.\n",
              "    let position = 0;\n",
              "    do {\n",
              "      const length = Math.min(fileData.byteLength - position, MAX_PAYLOAD_SIZE);\n",
              "      const chunk = new Uint8Array(fileData, position, length);\n",
              "      position += length;\n",
              "\n",
              "      const base64 = btoa(String.fromCharCode.apply(null, chunk));\n",
              "      yield {\n",
              "        response: {\n",
              "          action: 'append',\n",
              "          file: file.name,\n",
              "          data: base64,\n",
              "        },\n",
              "      };\n",
              "\n",
              "      let percentDone = fileData.byteLength === 0 ?\n",
              "          100 :\n",
              "          Math.round((position / fileData.byteLength) * 100);\n",
              "      percent.textContent = `${percentDone}% done`;\n",
              "\n",
              "    } while (position < fileData.byteLength);\n",
              "  }\n",
              "\n",
              "  // All done.\n",
              "  yield {\n",
              "    response: {\n",
              "      action: 'complete',\n",
              "    }\n",
              "  };\n",
              "}\n",
              "\n",
              "scope.google = scope.google || {};\n",
              "scope.google.colab = scope.google.colab || {};\n",
              "scope.google.colab._files = {\n",
              "  _uploadFiles,\n",
              "  _uploadFilesContinue,\n",
              "};\n",
              "})(self);\n",
              "</script> "
            ]
          },
          "metadata": {}
        },
        {
          "output_type": "stream",
          "name": "stdout",
          "text": [
            "Saving kaggle.json to kaggle (4).json\n"
          ]
        },
        {
          "output_type": "execute_result",
          "data": {
            "text/plain": [
              "{'kaggle.json': b'{\"username\":\"lizethgiraldovelez\",\"key\":\"6229669b0ff403256c82a8cd6c8ebf5a\"}'}"
            ]
          },
          "metadata": {},
          "execution_count": 119
        }
      ]
    },
    {
      "cell_type": "code",
      "source": [
        "!mkdir ~/.kaggle\n",
        "!cp kaggle.json ~/.kaggle/\n",
        "!chmod 600 ~/.kaggle/kaggle.json"
      ],
      "metadata": {
        "id": "G26FyJ8qlYry",
        "colab": {
          "base_uri": "https://localhost:8080/"
        },
        "outputId": "cbb837d9-a463-403d-96d5-cbda82f6aef3"
      },
      "execution_count": null,
      "outputs": [
        {
          "output_type": "stream",
          "name": "stdout",
          "text": [
            "mkdir: cannot create directory ‘/root/.kaggle’: File exists\n"
          ]
        }
      ]
    },
    {
      "cell_type": "code",
      "source": [
        "!kaggle datasets download -d benoit72/uk-accidents-10-years-history-with-many-variables"
      ],
      "metadata": {
        "colab": {
          "base_uri": "https://localhost:8080/"
        },
        "id": "M71eEtcelZmt",
        "outputId": "8fad3754-fd9a-460f-cebf-e41381600ddb"
      },
      "execution_count": null,
      "outputs": [
        {
          "output_type": "stream",
          "name": "stdout",
          "text": [
            "uk-accidents-10-years-history-with-many-variables.zip: Skipping, found more recently modified local copy (use --force to force download)\n"
          ]
        }
      ]
    },
    {
      "cell_type": "code",
      "source": [
        "!unzip uk-accidents-10-years-history-with-many-variables;"
      ],
      "metadata": {
        "colab": {
          "base_uri": "https://localhost:8080/"
        },
        "id": "GHezAmN5mWCm",
        "outputId": "5e6c3949-ce01-4c0f-f53c-a6efc75b1150"
      },
      "execution_count": null,
      "outputs": [
        {
          "output_type": "stream",
          "name": "stdout",
          "text": [
            "Archive:  uk-accidents-10-years-history-with-many-variables.zip\n",
            "replace Accidents0514.csv? [y]es, [n]o, [A]ll, [N]one, [r]ename: y\n",
            "  inflating: Accidents0514.csv       \n",
            "replace Casualties0514.csv? [y]es, [n]o, [A]ll, [N]one, [r]ename: y\n",
            "  inflating: Casualties0514.csv      \n",
            "replace Road-Accident-Safety-Data-Guide.xls? [y]es, [n]o, [A]ll, [N]one, [r]ename: y\n",
            "  inflating: Road-Accident-Safety-Data-Guide.xls  \n",
            "replace Vehicles0514.csv? [y]es, [n]o, [A]ll, [N]one, [r]ename: y\n",
            "  inflating: Vehicles0514.csv        \n"
          ]
        }
      ]
    },
    {
      "cell_type": "code",
      "source": [
        "# Se importan las librerias necesarias para este trabajo \n",
        "import pandas as pd\n",
        "import numpy as np\n",
        "import matplotlib.pyplot as plt\n",
        "import seaborn as sns\n",
        "from sklearn.linear_model import LinearRegression\n",
        "from sklearn.tree import DecisionTreeRegressor\n",
        "from sklearn.ensemble import RandomForestRegressor,RandomForestClassifier\n",
        "from sklearn.model_selection import cross_validate, ShuffleSplit\n",
        "from sklearn.model_selection import train_test_split\n",
        "from sklearn.model_selection import GridSearchCV\n",
        "from sklearn import metrics"
      ],
      "metadata": {
        "id": "Sn-w6Sz6tgTE"
      },
      "execution_count": null,
      "outputs": []
    },
    {
      "cell_type": "markdown",
      "source": [
        "### 1.2 Lectura y primer análisis de los Dataset"
      ],
      "metadata": {
        "id": "7oCPd7M4s0cz"
      }
    },
    {
      "cell_type": "code",
      "source": [
        "#Cargar los datos\n",
        "df_accidents = pd.read_csv(\"Accidents0514.csv\")\n",
        "df_accidents = df_accidents.copy()\n",
        "\n",
        "df_vehicles = pd.read_csv(\"Vehicles0514.csv\")\n",
        "df_vehicles = df_vehicles.copy()\n",
        "\n",
        "df_victims = pd.read_csv(\"Casualties0514.csv\")\n",
        "df_victims = df_victims.copy()"
      ],
      "metadata": {
        "id": "zDaKo9__spXx"
      },
      "execution_count": null,
      "outputs": []
    },
    {
      "cell_type": "code",
      "source": [
        "df_accidents"
      ],
      "metadata": {
        "id": "yA_-hTDquiXG",
        "colab": {
          "base_uri": "https://localhost:8080/",
          "height": 505
        },
        "outputId": "e7dc2680-6543-4c5f-d3f7-5a16eeb22363"
      },
      "execution_count": null,
      "outputs": [
        {
          "output_type": "execute_result",
          "data": {
            "text/plain": [
              "        Accident_Index  Location_Easting_OSGR  Location_Northing_OSGR  \\\n",
              "0        200501BS00001               525680.0                178240.0   \n",
              "1        200501BS00002               524170.0                181650.0   \n",
              "2        200501BS00003               524520.0                182240.0   \n",
              "3        200501BS00004               526900.0                177530.0   \n",
              "4        200501BS00005               528060.0                179040.0   \n",
              "...                ...                    ...                     ...   \n",
              "1640592  2014984136414               310037.0                597647.0   \n",
              "1640593  2014984137514               321509.0                574063.0   \n",
              "1640594  2014984137714               321337.0                566365.0   \n",
              "1640595  2014984138414               323869.0                566853.0   \n",
              "1640596  2014984139614               314072.0                579971.0   \n",
              "\n",
              "         Longitude   Latitude  Police_Force  Accident_Severity  \\\n",
              "0        -0.191170  51.489096             1                  2   \n",
              "1        -0.211708  51.520075             1                  3   \n",
              "2        -0.206458  51.525301             1                  3   \n",
              "3        -0.173862  51.482442             1                  3   \n",
              "4        -0.156618  51.495752             1                  3   \n",
              "...            ...        ...           ...                ...   \n",
              "1640592  -3.417278  55.264773            98                  2   \n",
              "1640593  -3.230255  55.054855            98                  3   \n",
              "1640594  -3.230826  54.985668            98                  3   \n",
              "1640595  -3.191397  54.990446            98                  2   \n",
              "1640596  -3.348426  55.106700            98                  3   \n",
              "\n",
              "         Number_of_Vehicles  Number_of_Casualties        Date  ...  \\\n",
              "0                         1                     1  04/01/2005  ...   \n",
              "1                         1                     1  05/01/2005  ...   \n",
              "2                         2                     1  06/01/2005  ...   \n",
              "3                         1                     1  07/01/2005  ...   \n",
              "4                         1                     1  10/01/2005  ...   \n",
              "...                     ...                   ...         ...  ...   \n",
              "1640592                   2                     1  07/12/2014  ...   \n",
              "1640593                   2                     2  11/12/2014  ...   \n",
              "1640594                   1                     1  09/12/2014  ...   \n",
              "1640595                   3                     2  17/12/2014  ...   \n",
              "1640596                   2                     2  24/12/2014  ...   \n",
              "\n",
              "         Pedestrian_Crossing-Human_Control  \\\n",
              "0                                        0   \n",
              "1                                        0   \n",
              "2                                        0   \n",
              "3                                        0   \n",
              "4                                        0   \n",
              "...                                    ...   \n",
              "1640592                                  0   \n",
              "1640593                                  0   \n",
              "1640594                                  0   \n",
              "1640595                                  0   \n",
              "1640596                                  0   \n",
              "\n",
              "        Pedestrian_Crossing-Physical_Facilities  Light_Conditions  \\\n",
              "0                                             1                 1   \n",
              "1                                             5                 4   \n",
              "2                                             0                 4   \n",
              "3                                             0                 1   \n",
              "4                                             0                 7   \n",
              "...                                         ...               ...   \n",
              "1640592                                       0                 6   \n",
              "1640593                                       0                 6   \n",
              "1640594                                       0                 4   \n",
              "1640595                                       0                 6   \n",
              "1640596                                       0                 1   \n",
              "\n",
              "        Weather_Conditions  Road_Surface_Conditions  \\\n",
              "0                        2                        2   \n",
              "1                        1                        1   \n",
              "2                        1                        1   \n",
              "3                        1                        1   \n",
              "4                        1                        2   \n",
              "...                    ...                      ...   \n",
              "1640592                  3                        3   \n",
              "1640593                  1                        3   \n",
              "1640594                  1                        4   \n",
              "1640595                  2                        2   \n",
              "1640596                  1                        2   \n",
              "\n",
              "         Special_Conditions_at_Site  Carriageway_Hazards  Urban_or_Rural_Area  \\\n",
              "0                                 0                    0                    1   \n",
              "1                                 0                    0                    1   \n",
              "2                                 0                    0                    1   \n",
              "3                                 0                    0                    1   \n",
              "4                                 0                    0                    1   \n",
              "...                             ...                  ...                  ...   \n",
              "1640592                           0                    0                    2   \n",
              "1640593                           0                    0                    2   \n",
              "1640594                           0                    0                    2   \n",
              "1640595                           0                    0                    2   \n",
              "1640596                           0                    0                    2   \n",
              "\n",
              "         Did_Police_Officer_Attend_Scene_of_Accident  \\\n",
              "0                                                  1   \n",
              "1                                                  1   \n",
              "2                                                  1   \n",
              "3                                                  1   \n",
              "4                                                  1   \n",
              "...                                              ...   \n",
              "1640592                                            1   \n",
              "1640593                                            1   \n",
              "1640594                                            1   \n",
              "1640595                                            1   \n",
              "1640596                                            1   \n",
              "\n",
              "         LSOA_of_Accident_Location  \n",
              "0                        E01002849  \n",
              "1                        E01002909  \n",
              "2                        E01002857  \n",
              "3                        E01002840  \n",
              "4                        E01002863  \n",
              "...                            ...  \n",
              "1640592                        NaN  \n",
              "1640593                        NaN  \n",
              "1640594                        NaN  \n",
              "1640595                        NaN  \n",
              "1640596                        NaN  \n",
              "\n",
              "[1640597 rows x 32 columns]"
            ],
            "text/html": [
              "\n",
              "  <div id=\"df-5d31d7cd-3dc7-4834-9fb9-903f4186a7ac\">\n",
              "    <div class=\"colab-df-container\">\n",
              "      <div>\n",
              "<style scoped>\n",
              "    .dataframe tbody tr th:only-of-type {\n",
              "        vertical-align: middle;\n",
              "    }\n",
              "\n",
              "    .dataframe tbody tr th {\n",
              "        vertical-align: top;\n",
              "    }\n",
              "\n",
              "    .dataframe thead th {\n",
              "        text-align: right;\n",
              "    }\n",
              "</style>\n",
              "<table border=\"1\" class=\"dataframe\">\n",
              "  <thead>\n",
              "    <tr style=\"text-align: right;\">\n",
              "      <th></th>\n",
              "      <th>Accident_Index</th>\n",
              "      <th>Location_Easting_OSGR</th>\n",
              "      <th>Location_Northing_OSGR</th>\n",
              "      <th>Longitude</th>\n",
              "      <th>Latitude</th>\n",
              "      <th>Police_Force</th>\n",
              "      <th>Accident_Severity</th>\n",
              "      <th>Number_of_Vehicles</th>\n",
              "      <th>Number_of_Casualties</th>\n",
              "      <th>Date</th>\n",
              "      <th>...</th>\n",
              "      <th>Pedestrian_Crossing-Human_Control</th>\n",
              "      <th>Pedestrian_Crossing-Physical_Facilities</th>\n",
              "      <th>Light_Conditions</th>\n",
              "      <th>Weather_Conditions</th>\n",
              "      <th>Road_Surface_Conditions</th>\n",
              "      <th>Special_Conditions_at_Site</th>\n",
              "      <th>Carriageway_Hazards</th>\n",
              "      <th>Urban_or_Rural_Area</th>\n",
              "      <th>Did_Police_Officer_Attend_Scene_of_Accident</th>\n",
              "      <th>LSOA_of_Accident_Location</th>\n",
              "    </tr>\n",
              "  </thead>\n",
              "  <tbody>\n",
              "    <tr>\n",
              "      <th>0</th>\n",
              "      <td>200501BS00001</td>\n",
              "      <td>525680.0</td>\n",
              "      <td>178240.0</td>\n",
              "      <td>-0.191170</td>\n",
              "      <td>51.489096</td>\n",
              "      <td>1</td>\n",
              "      <td>2</td>\n",
              "      <td>1</td>\n",
              "      <td>1</td>\n",
              "      <td>04/01/2005</td>\n",
              "      <td>...</td>\n",
              "      <td>0</td>\n",
              "      <td>1</td>\n",
              "      <td>1</td>\n",
              "      <td>2</td>\n",
              "      <td>2</td>\n",
              "      <td>0</td>\n",
              "      <td>0</td>\n",
              "      <td>1</td>\n",
              "      <td>1</td>\n",
              "      <td>E01002849</td>\n",
              "    </tr>\n",
              "    <tr>\n",
              "      <th>1</th>\n",
              "      <td>200501BS00002</td>\n",
              "      <td>524170.0</td>\n",
              "      <td>181650.0</td>\n",
              "      <td>-0.211708</td>\n",
              "      <td>51.520075</td>\n",
              "      <td>1</td>\n",
              "      <td>3</td>\n",
              "      <td>1</td>\n",
              "      <td>1</td>\n",
              "      <td>05/01/2005</td>\n",
              "      <td>...</td>\n",
              "      <td>0</td>\n",
              "      <td>5</td>\n",
              "      <td>4</td>\n",
              "      <td>1</td>\n",
              "      <td>1</td>\n",
              "      <td>0</td>\n",
              "      <td>0</td>\n",
              "      <td>1</td>\n",
              "      <td>1</td>\n",
              "      <td>E01002909</td>\n",
              "    </tr>\n",
              "    <tr>\n",
              "      <th>2</th>\n",
              "      <td>200501BS00003</td>\n",
              "      <td>524520.0</td>\n",
              "      <td>182240.0</td>\n",
              "      <td>-0.206458</td>\n",
              "      <td>51.525301</td>\n",
              "      <td>1</td>\n",
              "      <td>3</td>\n",
              "      <td>2</td>\n",
              "      <td>1</td>\n",
              "      <td>06/01/2005</td>\n",
              "      <td>...</td>\n",
              "      <td>0</td>\n",
              "      <td>0</td>\n",
              "      <td>4</td>\n",
              "      <td>1</td>\n",
              "      <td>1</td>\n",
              "      <td>0</td>\n",
              "      <td>0</td>\n",
              "      <td>1</td>\n",
              "      <td>1</td>\n",
              "      <td>E01002857</td>\n",
              "    </tr>\n",
              "    <tr>\n",
              "      <th>3</th>\n",
              "      <td>200501BS00004</td>\n",
              "      <td>526900.0</td>\n",
              "      <td>177530.0</td>\n",
              "      <td>-0.173862</td>\n",
              "      <td>51.482442</td>\n",
              "      <td>1</td>\n",
              "      <td>3</td>\n",
              "      <td>1</td>\n",
              "      <td>1</td>\n",
              "      <td>07/01/2005</td>\n",
              "      <td>...</td>\n",
              "      <td>0</td>\n",
              "      <td>0</td>\n",
              "      <td>1</td>\n",
              "      <td>1</td>\n",
              "      <td>1</td>\n",
              "      <td>0</td>\n",
              "      <td>0</td>\n",
              "      <td>1</td>\n",
              "      <td>1</td>\n",
              "      <td>E01002840</td>\n",
              "    </tr>\n",
              "    <tr>\n",
              "      <th>4</th>\n",
              "      <td>200501BS00005</td>\n",
              "      <td>528060.0</td>\n",
              "      <td>179040.0</td>\n",
              "      <td>-0.156618</td>\n",
              "      <td>51.495752</td>\n",
              "      <td>1</td>\n",
              "      <td>3</td>\n",
              "      <td>1</td>\n",
              "      <td>1</td>\n",
              "      <td>10/01/2005</td>\n",
              "      <td>...</td>\n",
              "      <td>0</td>\n",
              "      <td>0</td>\n",
              "      <td>7</td>\n",
              "      <td>1</td>\n",
              "      <td>2</td>\n",
              "      <td>0</td>\n",
              "      <td>0</td>\n",
              "      <td>1</td>\n",
              "      <td>1</td>\n",
              "      <td>E01002863</td>\n",
              "    </tr>\n",
              "    <tr>\n",
              "      <th>...</th>\n",
              "      <td>...</td>\n",
              "      <td>...</td>\n",
              "      <td>...</td>\n",
              "      <td>...</td>\n",
              "      <td>...</td>\n",
              "      <td>...</td>\n",
              "      <td>...</td>\n",
              "      <td>...</td>\n",
              "      <td>...</td>\n",
              "      <td>...</td>\n",
              "      <td>...</td>\n",
              "      <td>...</td>\n",
              "      <td>...</td>\n",
              "      <td>...</td>\n",
              "      <td>...</td>\n",
              "      <td>...</td>\n",
              "      <td>...</td>\n",
              "      <td>...</td>\n",
              "      <td>...</td>\n",
              "      <td>...</td>\n",
              "      <td>...</td>\n",
              "    </tr>\n",
              "    <tr>\n",
              "      <th>1640592</th>\n",
              "      <td>2014984136414</td>\n",
              "      <td>310037.0</td>\n",
              "      <td>597647.0</td>\n",
              "      <td>-3.417278</td>\n",
              "      <td>55.264773</td>\n",
              "      <td>98</td>\n",
              "      <td>2</td>\n",
              "      <td>2</td>\n",
              "      <td>1</td>\n",
              "      <td>07/12/2014</td>\n",
              "      <td>...</td>\n",
              "      <td>0</td>\n",
              "      <td>0</td>\n",
              "      <td>6</td>\n",
              "      <td>3</td>\n",
              "      <td>3</td>\n",
              "      <td>0</td>\n",
              "      <td>0</td>\n",
              "      <td>2</td>\n",
              "      <td>1</td>\n",
              "      <td>NaN</td>\n",
              "    </tr>\n",
              "    <tr>\n",
              "      <th>1640593</th>\n",
              "      <td>2014984137514</td>\n",
              "      <td>321509.0</td>\n",
              "      <td>574063.0</td>\n",
              "      <td>-3.230255</td>\n",
              "      <td>55.054855</td>\n",
              "      <td>98</td>\n",
              "      <td>3</td>\n",
              "      <td>2</td>\n",
              "      <td>2</td>\n",
              "      <td>11/12/2014</td>\n",
              "      <td>...</td>\n",
              "      <td>0</td>\n",
              "      <td>0</td>\n",
              "      <td>6</td>\n",
              "      <td>1</td>\n",
              "      <td>3</td>\n",
              "      <td>0</td>\n",
              "      <td>0</td>\n",
              "      <td>2</td>\n",
              "      <td>1</td>\n",
              "      <td>NaN</td>\n",
              "    </tr>\n",
              "    <tr>\n",
              "      <th>1640594</th>\n",
              "      <td>2014984137714</td>\n",
              "      <td>321337.0</td>\n",
              "      <td>566365.0</td>\n",
              "      <td>-3.230826</td>\n",
              "      <td>54.985668</td>\n",
              "      <td>98</td>\n",
              "      <td>3</td>\n",
              "      <td>1</td>\n",
              "      <td>1</td>\n",
              "      <td>09/12/2014</td>\n",
              "      <td>...</td>\n",
              "      <td>0</td>\n",
              "      <td>0</td>\n",
              "      <td>4</td>\n",
              "      <td>1</td>\n",
              "      <td>4</td>\n",
              "      <td>0</td>\n",
              "      <td>0</td>\n",
              "      <td>2</td>\n",
              "      <td>1</td>\n",
              "      <td>NaN</td>\n",
              "    </tr>\n",
              "    <tr>\n",
              "      <th>1640595</th>\n",
              "      <td>2014984138414</td>\n",
              "      <td>323869.0</td>\n",
              "      <td>566853.0</td>\n",
              "      <td>-3.191397</td>\n",
              "      <td>54.990446</td>\n",
              "      <td>98</td>\n",
              "      <td>2</td>\n",
              "      <td>3</td>\n",
              "      <td>2</td>\n",
              "      <td>17/12/2014</td>\n",
              "      <td>...</td>\n",
              "      <td>0</td>\n",
              "      <td>0</td>\n",
              "      <td>6</td>\n",
              "      <td>2</td>\n",
              "      <td>2</td>\n",
              "      <td>0</td>\n",
              "      <td>0</td>\n",
              "      <td>2</td>\n",
              "      <td>1</td>\n",
              "      <td>NaN</td>\n",
              "    </tr>\n",
              "    <tr>\n",
              "      <th>1640596</th>\n",
              "      <td>2014984139614</td>\n",
              "      <td>314072.0</td>\n",
              "      <td>579971.0</td>\n",
              "      <td>-3.348426</td>\n",
              "      <td>55.106700</td>\n",
              "      <td>98</td>\n",
              "      <td>3</td>\n",
              "      <td>2</td>\n",
              "      <td>2</td>\n",
              "      <td>24/12/2014</td>\n",
              "      <td>...</td>\n",
              "      <td>0</td>\n",
              "      <td>0</td>\n",
              "      <td>1</td>\n",
              "      <td>1</td>\n",
              "      <td>2</td>\n",
              "      <td>0</td>\n",
              "      <td>0</td>\n",
              "      <td>2</td>\n",
              "      <td>1</td>\n",
              "      <td>NaN</td>\n",
              "    </tr>\n",
              "  </tbody>\n",
              "</table>\n",
              "<p>1640597 rows × 32 columns</p>\n",
              "</div>\n",
              "      <button class=\"colab-df-convert\" onclick=\"convertToInteractive('df-5d31d7cd-3dc7-4834-9fb9-903f4186a7ac')\"\n",
              "              title=\"Convert this dataframe to an interactive table.\"\n",
              "              style=\"display:none;\">\n",
              "        \n",
              "  <svg xmlns=\"http://www.w3.org/2000/svg\" height=\"24px\"viewBox=\"0 0 24 24\"\n",
              "       width=\"24px\">\n",
              "    <path d=\"M0 0h24v24H0V0z\" fill=\"none\"/>\n",
              "    <path d=\"M18.56 5.44l.94 2.06.94-2.06 2.06-.94-2.06-.94-.94-2.06-.94 2.06-2.06.94zm-11 1L8.5 8.5l.94-2.06 2.06-.94-2.06-.94L8.5 2.5l-.94 2.06-2.06.94zm10 10l.94 2.06.94-2.06 2.06-.94-2.06-.94-.94-2.06-.94 2.06-2.06.94z\"/><path d=\"M17.41 7.96l-1.37-1.37c-.4-.4-.92-.59-1.43-.59-.52 0-1.04.2-1.43.59L10.3 9.45l-7.72 7.72c-.78.78-.78 2.05 0 2.83L4 21.41c.39.39.9.59 1.41.59.51 0 1.02-.2 1.41-.59l7.78-7.78 2.81-2.81c.8-.78.8-2.07 0-2.86zM5.41 20L4 18.59l7.72-7.72 1.47 1.35L5.41 20z\"/>\n",
              "  </svg>\n",
              "      </button>\n",
              "      \n",
              "  <style>\n",
              "    .colab-df-container {\n",
              "      display:flex;\n",
              "      flex-wrap:wrap;\n",
              "      gap: 12px;\n",
              "    }\n",
              "\n",
              "    .colab-df-convert {\n",
              "      background-color: #E8F0FE;\n",
              "      border: none;\n",
              "      border-radius: 50%;\n",
              "      cursor: pointer;\n",
              "      display: none;\n",
              "      fill: #1967D2;\n",
              "      height: 32px;\n",
              "      padding: 0 0 0 0;\n",
              "      width: 32px;\n",
              "    }\n",
              "\n",
              "    .colab-df-convert:hover {\n",
              "      background-color: #E2EBFA;\n",
              "      box-shadow: 0px 1px 2px rgba(60, 64, 67, 0.3), 0px 1px 3px 1px rgba(60, 64, 67, 0.15);\n",
              "      fill: #174EA6;\n",
              "    }\n",
              "\n",
              "    [theme=dark] .colab-df-convert {\n",
              "      background-color: #3B4455;\n",
              "      fill: #D2E3FC;\n",
              "    }\n",
              "\n",
              "    [theme=dark] .colab-df-convert:hover {\n",
              "      background-color: #434B5C;\n",
              "      box-shadow: 0px 1px 3px 1px rgba(0, 0, 0, 0.15);\n",
              "      filter: drop-shadow(0px 1px 2px rgba(0, 0, 0, 0.3));\n",
              "      fill: #FFFFFF;\n",
              "    }\n",
              "  </style>\n",
              "\n",
              "      <script>\n",
              "        const buttonEl =\n",
              "          document.querySelector('#df-5d31d7cd-3dc7-4834-9fb9-903f4186a7ac button.colab-df-convert');\n",
              "        buttonEl.style.display =\n",
              "          google.colab.kernel.accessAllowed ? 'block' : 'none';\n",
              "\n",
              "        async function convertToInteractive(key) {\n",
              "          const element = document.querySelector('#df-5d31d7cd-3dc7-4834-9fb9-903f4186a7ac');\n",
              "          const dataTable =\n",
              "            await google.colab.kernel.invokeFunction('convertToInteractive',\n",
              "                                                     [key], {});\n",
              "          if (!dataTable) return;\n",
              "\n",
              "          const docLinkHtml = 'Like what you see? Visit the ' +\n",
              "            '<a target=\"_blank\" href=https://colab.research.google.com/notebooks/data_table.ipynb>data table notebook</a>'\n",
              "            + ' to learn more about interactive tables.';\n",
              "          element.innerHTML = '';\n",
              "          dataTable['output_type'] = 'display_data';\n",
              "          await google.colab.output.renderOutput(dataTable, element);\n",
              "          const docLink = document.createElement('div');\n",
              "          docLink.innerHTML = docLinkHtml;\n",
              "          element.appendChild(docLink);\n",
              "        }\n",
              "      </script>\n",
              "    </div>\n",
              "  </div>\n",
              "  "
            ]
          },
          "metadata": {},
          "execution_count": 9
        }
      ]
    },
    {
      "cell_type": "code",
      "source": [
        "df_vehicles"
      ],
      "metadata": {
        "id": "TSUPHti7ukpx",
        "colab": {
          "base_uri": "https://localhost:8080/",
          "height": 505
        },
        "outputId": "1db170a5-f3aa-4399-d978-1e64ba9fdaeb"
      },
      "execution_count": null,
      "outputs": [
        {
          "output_type": "execute_result",
          "data": {
            "text/plain": [
              "        Accident_Index  Vehicle_Reference  Vehicle_Type  \\\n",
              "0        200501BS00001                  1             9   \n",
              "1        200501BS00002                  1            11   \n",
              "2        200501BS00003                  1            11   \n",
              "3        200501BS00003                  2             9   \n",
              "4        200501BS00004                  1             9   \n",
              "...                ...                ...           ...   \n",
              "3004420  2014984138414                  1             9   \n",
              "3004421  2014984138414                  2            19   \n",
              "3004422  2014984138414                  3             9   \n",
              "3004423  2014984139614                  1            11   \n",
              "3004424  2014984139614                  2             9   \n",
              "\n",
              "         Towing_and_Articulation  Vehicle_Manoeuvre  \\\n",
              "0                              0                 18   \n",
              "1                              0                  4   \n",
              "2                              0                 17   \n",
              "3                              0                  2   \n",
              "4                              0                 18   \n",
              "...                          ...                ...   \n",
              "3004420                        0                  5   \n",
              "3004421                        0                 18   \n",
              "3004422                        0                 18   \n",
              "3004423                        0                  9   \n",
              "3004424                        0                 18   \n",
              "\n",
              "         Vehicle_Location-Restricted_Lane  Junction_Location  \\\n",
              "0                                       0                  0   \n",
              "1                                       0                  3   \n",
              "2                                       0                  0   \n",
              "3                                       0                  0   \n",
              "4                                       0                  0   \n",
              "...                                   ...                ...   \n",
              "3004420                                 0                  6   \n",
              "3004421                                 0                  1   \n",
              "3004422                                 0                  2   \n",
              "3004423                                 0                  8   \n",
              "3004424                                 0                  1   \n",
              "\n",
              "         Skidding_and_Overturning  Hit_Object_in_Carriageway  \\\n",
              "0                               0                          0   \n",
              "1                               0                          0   \n",
              "2                               0                          4   \n",
              "3                               0                          0   \n",
              "4                               0                          0   \n",
              "...                           ...                        ...   \n",
              "3004420                         0                          0   \n",
              "3004421                         1                          4   \n",
              "3004422                         1                          4   \n",
              "3004423                         0                          0   \n",
              "3004424                         0                          0   \n",
              "\n",
              "         Vehicle_Leaving_Carriageway  ...  Was_Vehicle_Left_Hand_Drive?  \\\n",
              "0                                  0  ...                             1   \n",
              "1                                  0  ...                             1   \n",
              "2                                  0  ...                             1   \n",
              "3                                  0  ...                             1   \n",
              "4                                  0  ...                             1   \n",
              "...                              ...  ...                           ...   \n",
              "3004420                            0  ...                             1   \n",
              "3004421                            7  ...                             1   \n",
              "3004422                            1  ...                             1   \n",
              "3004423                            0  ...                             1   \n",
              "3004424                            0  ...                             1   \n",
              "\n",
              "         Journey_Purpose_of_Driver  Sex_of_Driver  Age_of_Driver  \\\n",
              "0                               15              2             74   \n",
              "1                                1              1             42   \n",
              "2                                1              1             35   \n",
              "3                               15              1             62   \n",
              "4                               15              2             49   \n",
              "...                            ...            ...            ...   \n",
              "3004420                          2              1             27   \n",
              "3004421                          2              1             44   \n",
              "3004422                          6              1             73   \n",
              "3004423                          1              1             40   \n",
              "3004424                          6              1             79   \n",
              "\n",
              "         Age_Band_of_Driver  Engine_Capacity_(CC)  Propulsion_Code  \\\n",
              "0                        10                    -1               -1   \n",
              "1                         7                  8268                2   \n",
              "2                         6                  8300                2   \n",
              "3                         9                  1762                1   \n",
              "4                         8                  1769                1   \n",
              "...                     ...                   ...              ...   \n",
              "3004420                   6                  1781                1   \n",
              "3004421                   7                  1686                2   \n",
              "3004422                  10                  2143                2   \n",
              "3004423                   7                  4500                2   \n",
              "3004424                  11                  1398                2   \n",
              "\n",
              "         Age_of_Vehicle  Driver_IMD_Decile  Driver_Home_Area_Type  \n",
              "0                    -1                  7                      1  \n",
              "1                     3                 -1                     -1  \n",
              "2                     5                  2                      1  \n",
              "3                     6                  1                      1  \n",
              "4                     4                  2                      1  \n",
              "...                 ...                ...                    ...  \n",
              "3004420              12                  6                      1  \n",
              "3004421               4                  1                      1  \n",
              "3004422              -1                  8                      3  \n",
              "3004423               4                 -1                      3  \n",
              "3004424              11                 -1                      3  \n",
              "\n",
              "[3004425 rows x 22 columns]"
            ],
            "text/html": [
              "\n",
              "  <div id=\"df-aea65ab8-a6ac-4603-85a3-f172cc346068\">\n",
              "    <div class=\"colab-df-container\">\n",
              "      <div>\n",
              "<style scoped>\n",
              "    .dataframe tbody tr th:only-of-type {\n",
              "        vertical-align: middle;\n",
              "    }\n",
              "\n",
              "    .dataframe tbody tr th {\n",
              "        vertical-align: top;\n",
              "    }\n",
              "\n",
              "    .dataframe thead th {\n",
              "        text-align: right;\n",
              "    }\n",
              "</style>\n",
              "<table border=\"1\" class=\"dataframe\">\n",
              "  <thead>\n",
              "    <tr style=\"text-align: right;\">\n",
              "      <th></th>\n",
              "      <th>Accident_Index</th>\n",
              "      <th>Vehicle_Reference</th>\n",
              "      <th>Vehicle_Type</th>\n",
              "      <th>Towing_and_Articulation</th>\n",
              "      <th>Vehicle_Manoeuvre</th>\n",
              "      <th>Vehicle_Location-Restricted_Lane</th>\n",
              "      <th>Junction_Location</th>\n",
              "      <th>Skidding_and_Overturning</th>\n",
              "      <th>Hit_Object_in_Carriageway</th>\n",
              "      <th>Vehicle_Leaving_Carriageway</th>\n",
              "      <th>...</th>\n",
              "      <th>Was_Vehicle_Left_Hand_Drive?</th>\n",
              "      <th>Journey_Purpose_of_Driver</th>\n",
              "      <th>Sex_of_Driver</th>\n",
              "      <th>Age_of_Driver</th>\n",
              "      <th>Age_Band_of_Driver</th>\n",
              "      <th>Engine_Capacity_(CC)</th>\n",
              "      <th>Propulsion_Code</th>\n",
              "      <th>Age_of_Vehicle</th>\n",
              "      <th>Driver_IMD_Decile</th>\n",
              "      <th>Driver_Home_Area_Type</th>\n",
              "    </tr>\n",
              "  </thead>\n",
              "  <tbody>\n",
              "    <tr>\n",
              "      <th>0</th>\n",
              "      <td>200501BS00001</td>\n",
              "      <td>1</td>\n",
              "      <td>9</td>\n",
              "      <td>0</td>\n",
              "      <td>18</td>\n",
              "      <td>0</td>\n",
              "      <td>0</td>\n",
              "      <td>0</td>\n",
              "      <td>0</td>\n",
              "      <td>0</td>\n",
              "      <td>...</td>\n",
              "      <td>1</td>\n",
              "      <td>15</td>\n",
              "      <td>2</td>\n",
              "      <td>74</td>\n",
              "      <td>10</td>\n",
              "      <td>-1</td>\n",
              "      <td>-1</td>\n",
              "      <td>-1</td>\n",
              "      <td>7</td>\n",
              "      <td>1</td>\n",
              "    </tr>\n",
              "    <tr>\n",
              "      <th>1</th>\n",
              "      <td>200501BS00002</td>\n",
              "      <td>1</td>\n",
              "      <td>11</td>\n",
              "      <td>0</td>\n",
              "      <td>4</td>\n",
              "      <td>0</td>\n",
              "      <td>3</td>\n",
              "      <td>0</td>\n",
              "      <td>0</td>\n",
              "      <td>0</td>\n",
              "      <td>...</td>\n",
              "      <td>1</td>\n",
              "      <td>1</td>\n",
              "      <td>1</td>\n",
              "      <td>42</td>\n",
              "      <td>7</td>\n",
              "      <td>8268</td>\n",
              "      <td>2</td>\n",
              "      <td>3</td>\n",
              "      <td>-1</td>\n",
              "      <td>-1</td>\n",
              "    </tr>\n",
              "    <tr>\n",
              "      <th>2</th>\n",
              "      <td>200501BS00003</td>\n",
              "      <td>1</td>\n",
              "      <td>11</td>\n",
              "      <td>0</td>\n",
              "      <td>17</td>\n",
              "      <td>0</td>\n",
              "      <td>0</td>\n",
              "      <td>0</td>\n",
              "      <td>4</td>\n",
              "      <td>0</td>\n",
              "      <td>...</td>\n",
              "      <td>1</td>\n",
              "      <td>1</td>\n",
              "      <td>1</td>\n",
              "      <td>35</td>\n",
              "      <td>6</td>\n",
              "      <td>8300</td>\n",
              "      <td>2</td>\n",
              "      <td>5</td>\n",
              "      <td>2</td>\n",
              "      <td>1</td>\n",
              "    </tr>\n",
              "    <tr>\n",
              "      <th>3</th>\n",
              "      <td>200501BS00003</td>\n",
              "      <td>2</td>\n",
              "      <td>9</td>\n",
              "      <td>0</td>\n",
              "      <td>2</td>\n",
              "      <td>0</td>\n",
              "      <td>0</td>\n",
              "      <td>0</td>\n",
              "      <td>0</td>\n",
              "      <td>0</td>\n",
              "      <td>...</td>\n",
              "      <td>1</td>\n",
              "      <td>15</td>\n",
              "      <td>1</td>\n",
              "      <td>62</td>\n",
              "      <td>9</td>\n",
              "      <td>1762</td>\n",
              "      <td>1</td>\n",
              "      <td>6</td>\n",
              "      <td>1</td>\n",
              "      <td>1</td>\n",
              "    </tr>\n",
              "    <tr>\n",
              "      <th>4</th>\n",
              "      <td>200501BS00004</td>\n",
              "      <td>1</td>\n",
              "      <td>9</td>\n",
              "      <td>0</td>\n",
              "      <td>18</td>\n",
              "      <td>0</td>\n",
              "      <td>0</td>\n",
              "      <td>0</td>\n",
              "      <td>0</td>\n",
              "      <td>0</td>\n",
              "      <td>...</td>\n",
              "      <td>1</td>\n",
              "      <td>15</td>\n",
              "      <td>2</td>\n",
              "      <td>49</td>\n",
              "      <td>8</td>\n",
              "      <td>1769</td>\n",
              "      <td>1</td>\n",
              "      <td>4</td>\n",
              "      <td>2</td>\n",
              "      <td>1</td>\n",
              "    </tr>\n",
              "    <tr>\n",
              "      <th>...</th>\n",
              "      <td>...</td>\n",
              "      <td>...</td>\n",
              "      <td>...</td>\n",
              "      <td>...</td>\n",
              "      <td>...</td>\n",
              "      <td>...</td>\n",
              "      <td>...</td>\n",
              "      <td>...</td>\n",
              "      <td>...</td>\n",
              "      <td>...</td>\n",
              "      <td>...</td>\n",
              "      <td>...</td>\n",
              "      <td>...</td>\n",
              "      <td>...</td>\n",
              "      <td>...</td>\n",
              "      <td>...</td>\n",
              "      <td>...</td>\n",
              "      <td>...</td>\n",
              "      <td>...</td>\n",
              "      <td>...</td>\n",
              "      <td>...</td>\n",
              "    </tr>\n",
              "    <tr>\n",
              "      <th>3004420</th>\n",
              "      <td>2014984138414</td>\n",
              "      <td>1</td>\n",
              "      <td>9</td>\n",
              "      <td>0</td>\n",
              "      <td>5</td>\n",
              "      <td>0</td>\n",
              "      <td>6</td>\n",
              "      <td>0</td>\n",
              "      <td>0</td>\n",
              "      <td>0</td>\n",
              "      <td>...</td>\n",
              "      <td>1</td>\n",
              "      <td>2</td>\n",
              "      <td>1</td>\n",
              "      <td>27</td>\n",
              "      <td>6</td>\n",
              "      <td>1781</td>\n",
              "      <td>1</td>\n",
              "      <td>12</td>\n",
              "      <td>6</td>\n",
              "      <td>1</td>\n",
              "    </tr>\n",
              "    <tr>\n",
              "      <th>3004421</th>\n",
              "      <td>2014984138414</td>\n",
              "      <td>2</td>\n",
              "      <td>19</td>\n",
              "      <td>0</td>\n",
              "      <td>18</td>\n",
              "      <td>0</td>\n",
              "      <td>1</td>\n",
              "      <td>1</td>\n",
              "      <td>4</td>\n",
              "      <td>7</td>\n",
              "      <td>...</td>\n",
              "      <td>1</td>\n",
              "      <td>2</td>\n",
              "      <td>1</td>\n",
              "      <td>44</td>\n",
              "      <td>7</td>\n",
              "      <td>1686</td>\n",
              "      <td>2</td>\n",
              "      <td>4</td>\n",
              "      <td>1</td>\n",
              "      <td>1</td>\n",
              "    </tr>\n",
              "    <tr>\n",
              "      <th>3004422</th>\n",
              "      <td>2014984138414</td>\n",
              "      <td>3</td>\n",
              "      <td>9</td>\n",
              "      <td>0</td>\n",
              "      <td>18</td>\n",
              "      <td>0</td>\n",
              "      <td>2</td>\n",
              "      <td>1</td>\n",
              "      <td>4</td>\n",
              "      <td>1</td>\n",
              "      <td>...</td>\n",
              "      <td>1</td>\n",
              "      <td>6</td>\n",
              "      <td>1</td>\n",
              "      <td>73</td>\n",
              "      <td>10</td>\n",
              "      <td>2143</td>\n",
              "      <td>2</td>\n",
              "      <td>-1</td>\n",
              "      <td>8</td>\n",
              "      <td>3</td>\n",
              "    </tr>\n",
              "    <tr>\n",
              "      <th>3004423</th>\n",
              "      <td>2014984139614</td>\n",
              "      <td>1</td>\n",
              "      <td>11</td>\n",
              "      <td>0</td>\n",
              "      <td>9</td>\n",
              "      <td>0</td>\n",
              "      <td>8</td>\n",
              "      <td>0</td>\n",
              "      <td>0</td>\n",
              "      <td>0</td>\n",
              "      <td>...</td>\n",
              "      <td>1</td>\n",
              "      <td>1</td>\n",
              "      <td>1</td>\n",
              "      <td>40</td>\n",
              "      <td>7</td>\n",
              "      <td>4500</td>\n",
              "      <td>2</td>\n",
              "      <td>4</td>\n",
              "      <td>-1</td>\n",
              "      <td>3</td>\n",
              "    </tr>\n",
              "    <tr>\n",
              "      <th>3004424</th>\n",
              "      <td>2014984139614</td>\n",
              "      <td>2</td>\n",
              "      <td>9</td>\n",
              "      <td>0</td>\n",
              "      <td>18</td>\n",
              "      <td>0</td>\n",
              "      <td>1</td>\n",
              "      <td>0</td>\n",
              "      <td>0</td>\n",
              "      <td>0</td>\n",
              "      <td>...</td>\n",
              "      <td>1</td>\n",
              "      <td>6</td>\n",
              "      <td>1</td>\n",
              "      <td>79</td>\n",
              "      <td>11</td>\n",
              "      <td>1398</td>\n",
              "      <td>2</td>\n",
              "      <td>11</td>\n",
              "      <td>-1</td>\n",
              "      <td>3</td>\n",
              "    </tr>\n",
              "  </tbody>\n",
              "</table>\n",
              "<p>3004425 rows × 22 columns</p>\n",
              "</div>\n",
              "      <button class=\"colab-df-convert\" onclick=\"convertToInteractive('df-aea65ab8-a6ac-4603-85a3-f172cc346068')\"\n",
              "              title=\"Convert this dataframe to an interactive table.\"\n",
              "              style=\"display:none;\">\n",
              "        \n",
              "  <svg xmlns=\"http://www.w3.org/2000/svg\" height=\"24px\"viewBox=\"0 0 24 24\"\n",
              "       width=\"24px\">\n",
              "    <path d=\"M0 0h24v24H0V0z\" fill=\"none\"/>\n",
              "    <path d=\"M18.56 5.44l.94 2.06.94-2.06 2.06-.94-2.06-.94-.94-2.06-.94 2.06-2.06.94zm-11 1L8.5 8.5l.94-2.06 2.06-.94-2.06-.94L8.5 2.5l-.94 2.06-2.06.94zm10 10l.94 2.06.94-2.06 2.06-.94-2.06-.94-.94-2.06-.94 2.06-2.06.94z\"/><path d=\"M17.41 7.96l-1.37-1.37c-.4-.4-.92-.59-1.43-.59-.52 0-1.04.2-1.43.59L10.3 9.45l-7.72 7.72c-.78.78-.78 2.05 0 2.83L4 21.41c.39.39.9.59 1.41.59.51 0 1.02-.2 1.41-.59l7.78-7.78 2.81-2.81c.8-.78.8-2.07 0-2.86zM5.41 20L4 18.59l7.72-7.72 1.47 1.35L5.41 20z\"/>\n",
              "  </svg>\n",
              "      </button>\n",
              "      \n",
              "  <style>\n",
              "    .colab-df-container {\n",
              "      display:flex;\n",
              "      flex-wrap:wrap;\n",
              "      gap: 12px;\n",
              "    }\n",
              "\n",
              "    .colab-df-convert {\n",
              "      background-color: #E8F0FE;\n",
              "      border: none;\n",
              "      border-radius: 50%;\n",
              "      cursor: pointer;\n",
              "      display: none;\n",
              "      fill: #1967D2;\n",
              "      height: 32px;\n",
              "      padding: 0 0 0 0;\n",
              "      width: 32px;\n",
              "    }\n",
              "\n",
              "    .colab-df-convert:hover {\n",
              "      background-color: #E2EBFA;\n",
              "      box-shadow: 0px 1px 2px rgba(60, 64, 67, 0.3), 0px 1px 3px 1px rgba(60, 64, 67, 0.15);\n",
              "      fill: #174EA6;\n",
              "    }\n",
              "\n",
              "    [theme=dark] .colab-df-convert {\n",
              "      background-color: #3B4455;\n",
              "      fill: #D2E3FC;\n",
              "    }\n",
              "\n",
              "    [theme=dark] .colab-df-convert:hover {\n",
              "      background-color: #434B5C;\n",
              "      box-shadow: 0px 1px 3px 1px rgba(0, 0, 0, 0.15);\n",
              "      filter: drop-shadow(0px 1px 2px rgba(0, 0, 0, 0.3));\n",
              "      fill: #FFFFFF;\n",
              "    }\n",
              "  </style>\n",
              "\n",
              "      <script>\n",
              "        const buttonEl =\n",
              "          document.querySelector('#df-aea65ab8-a6ac-4603-85a3-f172cc346068 button.colab-df-convert');\n",
              "        buttonEl.style.display =\n",
              "          google.colab.kernel.accessAllowed ? 'block' : 'none';\n",
              "\n",
              "        async function convertToInteractive(key) {\n",
              "          const element = document.querySelector('#df-aea65ab8-a6ac-4603-85a3-f172cc346068');\n",
              "          const dataTable =\n",
              "            await google.colab.kernel.invokeFunction('convertToInteractive',\n",
              "                                                     [key], {});\n",
              "          if (!dataTable) return;\n",
              "\n",
              "          const docLinkHtml = 'Like what you see? Visit the ' +\n",
              "            '<a target=\"_blank\" href=https://colab.research.google.com/notebooks/data_table.ipynb>data table notebook</a>'\n",
              "            + ' to learn more about interactive tables.';\n",
              "          element.innerHTML = '';\n",
              "          dataTable['output_type'] = 'display_data';\n",
              "          await google.colab.output.renderOutput(dataTable, element);\n",
              "          const docLink = document.createElement('div');\n",
              "          docLink.innerHTML = docLinkHtml;\n",
              "          element.appendChild(docLink);\n",
              "        }\n",
              "      </script>\n",
              "    </div>\n",
              "  </div>\n",
              "  "
            ]
          },
          "metadata": {},
          "execution_count": 10
        }
      ]
    },
    {
      "cell_type": "code",
      "source": [
        "df_victims"
      ],
      "metadata": {
        "id": "kVM3M94tumyN",
        "colab": {
          "base_uri": "https://localhost:8080/",
          "height": 488
        },
        "outputId": "d5f274b2-8f48-437d-c1a0-42c20c5da190"
      },
      "execution_count": null,
      "outputs": [
        {
          "output_type": "execute_result",
          "data": {
            "text/plain": [
              "        Accident_Index  Vehicle_Reference  Casualty_Reference  Casualty_Class  \\\n",
              "0        200501BS00001                  1                   1               3   \n",
              "1        200501BS00002                  1                   1               2   \n",
              "2        200501BS00003                  2                   1               1   \n",
              "3        200501BS00004                  1                   1               3   \n",
              "4        200501BS00005                  1                   1               1   \n",
              "...                ...                ...                 ...             ...   \n",
              "2216715  2014984137714                  1                   1               2   \n",
              "2216716  2014984138414                  1                   1               1   \n",
              "2216717  2014984138414                  2                   2               1   \n",
              "2216718  2014984139614                  1                   2               2   \n",
              "2216719  2014984139614                  2                   1               1   \n",
              "\n",
              "         Sex_of_Casualty  Age_of_Casualty  Age_Band_of_Casualty  \\\n",
              "0                      1               37                     7   \n",
              "1                      1               37                     7   \n",
              "2                      1               62                     9   \n",
              "3                      1               30                     6   \n",
              "4                      1               49                     8   \n",
              "...                  ...              ...                   ...   \n",
              "2216715                2               16                     4   \n",
              "2216716                1               27                     6   \n",
              "2216717                1               44                     7   \n",
              "2216718                1               61                     9   \n",
              "2216719                1               79                    11   \n",
              "\n",
              "         Casualty_Severity  Pedestrian_Location  Pedestrian_Movement  \\\n",
              "0                        2                    1                    1   \n",
              "1                        3                    0                    0   \n",
              "2                        3                    0                    0   \n",
              "3                        3                    5                    2   \n",
              "4                        3                    0                    0   \n",
              "...                    ...                  ...                  ...   \n",
              "2216715                  3                    0                    0   \n",
              "2216716                  3                    0                    0   \n",
              "2216717                  2                    0                    0   \n",
              "2216718                  3                    0                    0   \n",
              "2216719                  3                    0                    0   \n",
              "\n",
              "         Car_Passenger  Bus_or_Coach_Passenger  \\\n",
              "0                    0                       0   \n",
              "1                    0                       4   \n",
              "2                    0                       0   \n",
              "3                    0                       0   \n",
              "4                    0                       0   \n",
              "...                ...                     ...   \n",
              "2216715              2                       0   \n",
              "2216716              0                       0   \n",
              "2216717              0                       0   \n",
              "2216718              0                       4   \n",
              "2216719              0                       0   \n",
              "\n",
              "         Pedestrian_Road_Maintenance_Worker  Casualty_Type  \\\n",
              "0                                        -1              0   \n",
              "1                                        -1             11   \n",
              "2                                        -1              9   \n",
              "3                                        -1              0   \n",
              "4                                        -1              3   \n",
              "...                                     ...            ...   \n",
              "2216715                                   0              9   \n",
              "2216716                                   0              9   \n",
              "2216717                                   0             19   \n",
              "2216718                                   0             11   \n",
              "2216719                                   0              9   \n",
              "\n",
              "         Casualty_Home_Area_Type  \n",
              "0                              1  \n",
              "1                              1  \n",
              "2                              1  \n",
              "3                              1  \n",
              "4                             -1  \n",
              "...                          ...  \n",
              "2216715                        1  \n",
              "2216716                        1  \n",
              "2216717                        1  \n",
              "2216718                        2  \n",
              "2216719                        3  \n",
              "\n",
              "[2216720 rows x 15 columns]"
            ],
            "text/html": [
              "\n",
              "  <div id=\"df-14c50141-1e7c-4472-ab6c-4c608f286eae\">\n",
              "    <div class=\"colab-df-container\">\n",
              "      <div>\n",
              "<style scoped>\n",
              "    .dataframe tbody tr th:only-of-type {\n",
              "        vertical-align: middle;\n",
              "    }\n",
              "\n",
              "    .dataframe tbody tr th {\n",
              "        vertical-align: top;\n",
              "    }\n",
              "\n",
              "    .dataframe thead th {\n",
              "        text-align: right;\n",
              "    }\n",
              "</style>\n",
              "<table border=\"1\" class=\"dataframe\">\n",
              "  <thead>\n",
              "    <tr style=\"text-align: right;\">\n",
              "      <th></th>\n",
              "      <th>Accident_Index</th>\n",
              "      <th>Vehicle_Reference</th>\n",
              "      <th>Casualty_Reference</th>\n",
              "      <th>Casualty_Class</th>\n",
              "      <th>Sex_of_Casualty</th>\n",
              "      <th>Age_of_Casualty</th>\n",
              "      <th>Age_Band_of_Casualty</th>\n",
              "      <th>Casualty_Severity</th>\n",
              "      <th>Pedestrian_Location</th>\n",
              "      <th>Pedestrian_Movement</th>\n",
              "      <th>Car_Passenger</th>\n",
              "      <th>Bus_or_Coach_Passenger</th>\n",
              "      <th>Pedestrian_Road_Maintenance_Worker</th>\n",
              "      <th>Casualty_Type</th>\n",
              "      <th>Casualty_Home_Area_Type</th>\n",
              "    </tr>\n",
              "  </thead>\n",
              "  <tbody>\n",
              "    <tr>\n",
              "      <th>0</th>\n",
              "      <td>200501BS00001</td>\n",
              "      <td>1</td>\n",
              "      <td>1</td>\n",
              "      <td>3</td>\n",
              "      <td>1</td>\n",
              "      <td>37</td>\n",
              "      <td>7</td>\n",
              "      <td>2</td>\n",
              "      <td>1</td>\n",
              "      <td>1</td>\n",
              "      <td>0</td>\n",
              "      <td>0</td>\n",
              "      <td>-1</td>\n",
              "      <td>0</td>\n",
              "      <td>1</td>\n",
              "    </tr>\n",
              "    <tr>\n",
              "      <th>1</th>\n",
              "      <td>200501BS00002</td>\n",
              "      <td>1</td>\n",
              "      <td>1</td>\n",
              "      <td>2</td>\n",
              "      <td>1</td>\n",
              "      <td>37</td>\n",
              "      <td>7</td>\n",
              "      <td>3</td>\n",
              "      <td>0</td>\n",
              "      <td>0</td>\n",
              "      <td>0</td>\n",
              "      <td>4</td>\n",
              "      <td>-1</td>\n",
              "      <td>11</td>\n",
              "      <td>1</td>\n",
              "    </tr>\n",
              "    <tr>\n",
              "      <th>2</th>\n",
              "      <td>200501BS00003</td>\n",
              "      <td>2</td>\n",
              "      <td>1</td>\n",
              "      <td>1</td>\n",
              "      <td>1</td>\n",
              "      <td>62</td>\n",
              "      <td>9</td>\n",
              "      <td>3</td>\n",
              "      <td>0</td>\n",
              "      <td>0</td>\n",
              "      <td>0</td>\n",
              "      <td>0</td>\n",
              "      <td>-1</td>\n",
              "      <td>9</td>\n",
              "      <td>1</td>\n",
              "    </tr>\n",
              "    <tr>\n",
              "      <th>3</th>\n",
              "      <td>200501BS00004</td>\n",
              "      <td>1</td>\n",
              "      <td>1</td>\n",
              "      <td>3</td>\n",
              "      <td>1</td>\n",
              "      <td>30</td>\n",
              "      <td>6</td>\n",
              "      <td>3</td>\n",
              "      <td>5</td>\n",
              "      <td>2</td>\n",
              "      <td>0</td>\n",
              "      <td>0</td>\n",
              "      <td>-1</td>\n",
              "      <td>0</td>\n",
              "      <td>1</td>\n",
              "    </tr>\n",
              "    <tr>\n",
              "      <th>4</th>\n",
              "      <td>200501BS00005</td>\n",
              "      <td>1</td>\n",
              "      <td>1</td>\n",
              "      <td>1</td>\n",
              "      <td>1</td>\n",
              "      <td>49</td>\n",
              "      <td>8</td>\n",
              "      <td>3</td>\n",
              "      <td>0</td>\n",
              "      <td>0</td>\n",
              "      <td>0</td>\n",
              "      <td>0</td>\n",
              "      <td>-1</td>\n",
              "      <td>3</td>\n",
              "      <td>-1</td>\n",
              "    </tr>\n",
              "    <tr>\n",
              "      <th>...</th>\n",
              "      <td>...</td>\n",
              "      <td>...</td>\n",
              "      <td>...</td>\n",
              "      <td>...</td>\n",
              "      <td>...</td>\n",
              "      <td>...</td>\n",
              "      <td>...</td>\n",
              "      <td>...</td>\n",
              "      <td>...</td>\n",
              "      <td>...</td>\n",
              "      <td>...</td>\n",
              "      <td>...</td>\n",
              "      <td>...</td>\n",
              "      <td>...</td>\n",
              "      <td>...</td>\n",
              "    </tr>\n",
              "    <tr>\n",
              "      <th>2216715</th>\n",
              "      <td>2014984137714</td>\n",
              "      <td>1</td>\n",
              "      <td>1</td>\n",
              "      <td>2</td>\n",
              "      <td>2</td>\n",
              "      <td>16</td>\n",
              "      <td>4</td>\n",
              "      <td>3</td>\n",
              "      <td>0</td>\n",
              "      <td>0</td>\n",
              "      <td>2</td>\n",
              "      <td>0</td>\n",
              "      <td>0</td>\n",
              "      <td>9</td>\n",
              "      <td>1</td>\n",
              "    </tr>\n",
              "    <tr>\n",
              "      <th>2216716</th>\n",
              "      <td>2014984138414</td>\n",
              "      <td>1</td>\n",
              "      <td>1</td>\n",
              "      <td>1</td>\n",
              "      <td>1</td>\n",
              "      <td>27</td>\n",
              "      <td>6</td>\n",
              "      <td>3</td>\n",
              "      <td>0</td>\n",
              "      <td>0</td>\n",
              "      <td>0</td>\n",
              "      <td>0</td>\n",
              "      <td>0</td>\n",
              "      <td>9</td>\n",
              "      <td>1</td>\n",
              "    </tr>\n",
              "    <tr>\n",
              "      <th>2216717</th>\n",
              "      <td>2014984138414</td>\n",
              "      <td>2</td>\n",
              "      <td>2</td>\n",
              "      <td>1</td>\n",
              "      <td>1</td>\n",
              "      <td>44</td>\n",
              "      <td>7</td>\n",
              "      <td>2</td>\n",
              "      <td>0</td>\n",
              "      <td>0</td>\n",
              "      <td>0</td>\n",
              "      <td>0</td>\n",
              "      <td>0</td>\n",
              "      <td>19</td>\n",
              "      <td>1</td>\n",
              "    </tr>\n",
              "    <tr>\n",
              "      <th>2216718</th>\n",
              "      <td>2014984139614</td>\n",
              "      <td>1</td>\n",
              "      <td>2</td>\n",
              "      <td>2</td>\n",
              "      <td>1</td>\n",
              "      <td>61</td>\n",
              "      <td>9</td>\n",
              "      <td>3</td>\n",
              "      <td>0</td>\n",
              "      <td>0</td>\n",
              "      <td>0</td>\n",
              "      <td>4</td>\n",
              "      <td>0</td>\n",
              "      <td>11</td>\n",
              "      <td>2</td>\n",
              "    </tr>\n",
              "    <tr>\n",
              "      <th>2216719</th>\n",
              "      <td>2014984139614</td>\n",
              "      <td>2</td>\n",
              "      <td>1</td>\n",
              "      <td>1</td>\n",
              "      <td>1</td>\n",
              "      <td>79</td>\n",
              "      <td>11</td>\n",
              "      <td>3</td>\n",
              "      <td>0</td>\n",
              "      <td>0</td>\n",
              "      <td>0</td>\n",
              "      <td>0</td>\n",
              "      <td>0</td>\n",
              "      <td>9</td>\n",
              "      <td>3</td>\n",
              "    </tr>\n",
              "  </tbody>\n",
              "</table>\n",
              "<p>2216720 rows × 15 columns</p>\n",
              "</div>\n",
              "      <button class=\"colab-df-convert\" onclick=\"convertToInteractive('df-14c50141-1e7c-4472-ab6c-4c608f286eae')\"\n",
              "              title=\"Convert this dataframe to an interactive table.\"\n",
              "              style=\"display:none;\">\n",
              "        \n",
              "  <svg xmlns=\"http://www.w3.org/2000/svg\" height=\"24px\"viewBox=\"0 0 24 24\"\n",
              "       width=\"24px\">\n",
              "    <path d=\"M0 0h24v24H0V0z\" fill=\"none\"/>\n",
              "    <path d=\"M18.56 5.44l.94 2.06.94-2.06 2.06-.94-2.06-.94-.94-2.06-.94 2.06-2.06.94zm-11 1L8.5 8.5l.94-2.06 2.06-.94-2.06-.94L8.5 2.5l-.94 2.06-2.06.94zm10 10l.94 2.06.94-2.06 2.06-.94-2.06-.94-.94-2.06-.94 2.06-2.06.94z\"/><path d=\"M17.41 7.96l-1.37-1.37c-.4-.4-.92-.59-1.43-.59-.52 0-1.04.2-1.43.59L10.3 9.45l-7.72 7.72c-.78.78-.78 2.05 0 2.83L4 21.41c.39.39.9.59 1.41.59.51 0 1.02-.2 1.41-.59l7.78-7.78 2.81-2.81c.8-.78.8-2.07 0-2.86zM5.41 20L4 18.59l7.72-7.72 1.47 1.35L5.41 20z\"/>\n",
              "  </svg>\n",
              "      </button>\n",
              "      \n",
              "  <style>\n",
              "    .colab-df-container {\n",
              "      display:flex;\n",
              "      flex-wrap:wrap;\n",
              "      gap: 12px;\n",
              "    }\n",
              "\n",
              "    .colab-df-convert {\n",
              "      background-color: #E8F0FE;\n",
              "      border: none;\n",
              "      border-radius: 50%;\n",
              "      cursor: pointer;\n",
              "      display: none;\n",
              "      fill: #1967D2;\n",
              "      height: 32px;\n",
              "      padding: 0 0 0 0;\n",
              "      width: 32px;\n",
              "    }\n",
              "\n",
              "    .colab-df-convert:hover {\n",
              "      background-color: #E2EBFA;\n",
              "      box-shadow: 0px 1px 2px rgba(60, 64, 67, 0.3), 0px 1px 3px 1px rgba(60, 64, 67, 0.15);\n",
              "      fill: #174EA6;\n",
              "    }\n",
              "\n",
              "    [theme=dark] .colab-df-convert {\n",
              "      background-color: #3B4455;\n",
              "      fill: #D2E3FC;\n",
              "    }\n",
              "\n",
              "    [theme=dark] .colab-df-convert:hover {\n",
              "      background-color: #434B5C;\n",
              "      box-shadow: 0px 1px 3px 1px rgba(0, 0, 0, 0.15);\n",
              "      filter: drop-shadow(0px 1px 2px rgba(0, 0, 0, 0.3));\n",
              "      fill: #FFFFFF;\n",
              "    }\n",
              "  </style>\n",
              "\n",
              "      <script>\n",
              "        const buttonEl =\n",
              "          document.querySelector('#df-14c50141-1e7c-4472-ab6c-4c608f286eae button.colab-df-convert');\n",
              "        buttonEl.style.display =\n",
              "          google.colab.kernel.accessAllowed ? 'block' : 'none';\n",
              "\n",
              "        async function convertToInteractive(key) {\n",
              "          const element = document.querySelector('#df-14c50141-1e7c-4472-ab6c-4c608f286eae');\n",
              "          const dataTable =\n",
              "            await google.colab.kernel.invokeFunction('convertToInteractive',\n",
              "                                                     [key], {});\n",
              "          if (!dataTable) return;\n",
              "\n",
              "          const docLinkHtml = 'Like what you see? Visit the ' +\n",
              "            '<a target=\"_blank\" href=https://colab.research.google.com/notebooks/data_table.ipynb>data table notebook</a>'\n",
              "            + ' to learn more about interactive tables.';\n",
              "          element.innerHTML = '';\n",
              "          dataTable['output_type'] = 'display_data';\n",
              "          await google.colab.output.renderOutput(dataTable, element);\n",
              "          const docLink = document.createElement('div');\n",
              "          docLink.innerHTML = docLinkHtml;\n",
              "          element.appendChild(docLink);\n",
              "        }\n",
              "      </script>\n",
              "    </div>\n",
              "  </div>\n",
              "  "
            ]
          },
          "metadata": {},
          "execution_count": 11
        }
      ]
    },
    {
      "cell_type": "markdown",
      "source": [
        "### 1.3 Datos faltantes en cada uno de los datasets"
      ],
      "metadata": {
        "id": "TtvwM42o7e4A"
      }
    },
    {
      "cell_type": "markdown",
      "source": [
        "Los datos faltantes en el dataset de estudio se encuentran reportados con un \"-1\"\n"
      ],
      "metadata": {
        "id": "n3f5MMMrGs1T"
      }
    },
    {
      "cell_type": "code",
      "source": [
        "#Se muestran los datos faltantes del Dataset de accidents\n",
        "for i in df_accidents.columns:\n",
        "\n",
        "  Nan_accidents = str((df_accidents[i]==-1).sum())\n",
        "  print(i + ': ' + Nan_accidents)"
      ],
      "metadata": {
        "id": "zwtRRpNyHOE4",
        "colab": {
          "base_uri": "https://localhost:8080/"
        },
        "outputId": "a1bde97c-e267-4c35-bc3e-dfb3b7084d57"
      },
      "execution_count": null,
      "outputs": [
        {
          "output_type": "stream",
          "name": "stdout",
          "text": [
            "Accident_Index: 0\n",
            "Location_Easting_OSGR: 0\n",
            "Location_Northing_OSGR: 0\n",
            "Longitude: 1\n",
            "Latitude: 0\n",
            "Police_Force: 0\n",
            "Accident_Severity: 0\n",
            "Number_of_Vehicles: 0\n",
            "Number_of_Casualties: 0\n",
            "Date: 0\n",
            "Day_of_Week: 0\n",
            "Time: 0\n",
            "Local_Authority_(District): 0\n",
            "Local_Authority_(Highway): 0\n",
            "1st_Road_Class: 0\n",
            "1st_Road_Number: 2\n",
            "Road_Type: 0\n",
            "Speed_limit: 0\n",
            "Junction_Detail: 18\n",
            "Junction_Control: 585322\n",
            "2nd_Road_Class: 676268\n",
            "2nd_Road_Number: 16118\n",
            "Pedestrian_Crossing-Human_Control: 21\n",
            "Pedestrian_Crossing-Physical_Facilities: 37\n",
            "Light_Conditions: 0\n",
            "Weather_Conditions: 161\n",
            "Road_Surface_Conditions: 2155\n",
            "Special_Conditions_at_Site: 18\n",
            "Carriageway_Hazards: 32\n",
            "Urban_or_Rural_Area: 0\n",
            "Did_Police_Officer_Attend_Scene_of_Accident: 270\n",
            "LSOA_of_Accident_Location: 0\n"
          ]
        }
      ]
    },
    {
      "cell_type": "code",
      "source": [
        "#Se muestran los datos faltantes del Dataset de vehicles\n",
        "for j in df_vehicles.columns:\n",
        "\n",
        "  Nan_vehicles = str((df_vehicles[j]==-1).sum())\n",
        "  print(j + ': ' + Nan_vehicles)"
      ],
      "metadata": {
        "id": "XCq28JxgPbWQ",
        "colab": {
          "base_uri": "https://localhost:8080/"
        },
        "outputId": "1ed3404b-e921-443e-a0b1-db7a929ab3aa"
      },
      "execution_count": null,
      "outputs": [
        {
          "output_type": "stream",
          "name": "stdout",
          "text": [
            "Accident_Index: 0\n",
            "Vehicle_Reference: 0\n",
            "Vehicle_Type: 473\n",
            "Towing_and_Articulation: 184\n",
            "Vehicle_Manoeuvre: 1080\n",
            "Vehicle_Location-Restricted_Lane: 74\n",
            "Junction_Location: 9876\n",
            "Skidding_and_Overturning: 132\n",
            "Hit_Object_in_Carriageway: 87\n",
            "Vehicle_Leaving_Carriageway: 127\n",
            "Hit_Object_off_Carriageway: 54\n",
            "1st_Point_of_Impact: 565\n",
            "Was_Vehicle_Left_Hand_Drive?: 23049\n",
            "Journey_Purpose_of_Driver: 44921\n",
            "Sex_of_Driver: 33\n",
            "Age_of_Driver: 330608\n",
            "Age_Band_of_Driver: 330608\n",
            "Engine_Capacity_(CC): 788471\n",
            "Propulsion_Code: 770004\n",
            "Age_of_Vehicle: 874989\n",
            "Driver_IMD_Decile: 849921\n",
            "Driver_Home_Area_Type: 588611\n"
          ]
        }
      ]
    },
    {
      "cell_type": "code",
      "source": [
        "#Se muestran los datos faltantes del Dataset de victims\n",
        "for k in df_victims.columns:\n",
        "\n",
        "  Nan_victims = str((df_victims[k]==-1).sum())\n",
        "  print(k + ': ' + Nan_victims)"
      ],
      "metadata": {
        "id": "4Lg9Gr3RPbL1",
        "colab": {
          "base_uri": "https://localhost:8080/"
        },
        "outputId": "17f215ec-6357-4386-e8ba-0f0f34f3bad2"
      },
      "execution_count": null,
      "outputs": [
        {
          "output_type": "stream",
          "name": "stdout",
          "text": [
            "Accident_Index: 0\n",
            "Vehicle_Reference: 0\n",
            "Casualty_Reference: 0\n",
            "Casualty_Class: 0\n",
            "Sex_of_Casualty: 630\n",
            "Age_of_Casualty: 45920\n",
            "Age_Band_of_Casualty: 45920\n",
            "Casualty_Severity: 0\n",
            "Pedestrian_Location: 12\n",
            "Pedestrian_Movement: 15\n",
            "Car_Passenger: 404\n",
            "Bus_or_Coach_Passenger: 38\n",
            "Pedestrian_Road_Maintenance_Worker: 1439022\n",
            "Casualty_Type: 0\n",
            "Casualty_Home_Area_Type: 322715\n"
          ]
        }
      ]
    },
    {
      "cell_type": "markdown",
      "source": [
        "## 2. PREPROCESAMIENTO DE LOS DATOS "
      ],
      "metadata": {
        "id": "rkK9LGfhXhi-"
      }
    },
    {
      "cell_type": "markdown",
      "source": [
        "### 2.1 Identificación de las variables y sustitución de los datos"
      ],
      "metadata": {
        "id": "pwKy4ZkGXkao"
      }
    },
    {
      "cell_type": "code",
      "source": [
        "#Se reemplazan los -1 por Nan\n",
        "\n",
        "df_accidents.replace(-1,np.nan,inplace=True) \n",
        "df_vehicles.replace(-1,np.nan,inplace=True) \n",
        "df_victims.replace(-1,np.nan,inplace=True) "
      ],
      "metadata": {
        "id": "VLfBIWWrr5oN"
      },
      "execution_count": null,
      "outputs": []
    },
    {
      "cell_type": "markdown",
      "source": [
        "### 2.2 Variables numéricas"
      ],
      "metadata": {
        "id": "sZ3CG2WGYdGj"
      }
    },
    {
      "cell_type": "markdown",
      "source": [
        "**Variables numérica, se reemplazan los valores faltantes por el promedio .mean()**"
      ],
      "metadata": {
        "id": "33sjZMZDt105"
      }
    },
    {
      "cell_type": "code",
      "source": [
        "num_variables_accidents = [\"Longitude\", \"1st_Road_Number\", \"Junction_Detail\", \"2nd_Road_Number\"]\n",
        "for i in num_variables_accidents:\n",
        "  df_accidents[i] = df_accidents[i].fillna(df_accidents[i].mean()) "
      ],
      "metadata": {
        "id": "nNP2GB0ttUbM"
      },
      "execution_count": null,
      "outputs": []
    },
    {
      "cell_type": "code",
      "source": [
        "num_variables_accidents"
      ],
      "metadata": {
        "colab": {
          "base_uri": "https://localhost:8080/"
        },
        "id": "eTjBUn1U_XV2",
        "outputId": "d78912b5-ac8c-4ac6-97d4-1cb5570d6d27"
      },
      "execution_count": null,
      "outputs": [
        {
          "output_type": "execute_result",
          "data": {
            "text/plain": [
              "['Longitude', '1st_Road_Number', 'Junction_Detail', '2nd_Road_Number']"
            ]
          },
          "metadata": {},
          "execution_count": 130
        }
      ]
    },
    {
      "cell_type": "code",
      "source": [
        "num_variables_victims = [\"Age_of_Casualty\", \"Age_Band_of_Casualty\"]\n",
        "for i in num_variables_victims:\n",
        "  df_victims[i] = df_victims[i].fillna(df_victims[i].mean())"
      ],
      "metadata": {
        "id": "xNfgF3SeQK78"
      },
      "execution_count": null,
      "outputs": []
    },
    {
      "cell_type": "code",
      "source": [
        "num_variables_victims"
      ],
      "metadata": {
        "colab": {
          "base_uri": "https://localhost:8080/"
        },
        "id": "UFSU0CO0_aAh",
        "outputId": "4fb50108-5ec4-4f38-d67a-28ebc2def12d"
      },
      "execution_count": null,
      "outputs": [
        {
          "output_type": "execute_result",
          "data": {
            "text/plain": [
              "['Age_of_Casualty', 'Age_Band_of_Casualty']"
            ]
          },
          "metadata": {},
          "execution_count": 132
        }
      ]
    },
    {
      "cell_type": "markdown",
      "source": [
        "### 2.3 Variables categóricas"
      ],
      "metadata": {
        "id": "zcTfjSMiYjMa"
      }
    },
    {
      "cell_type": "markdown",
      "source": [
        "**Variables categóricas, se reemplazan los valores faltantes por la moda .mode()**"
      ],
      "metadata": {
        "id": "Zh5SebfkvB2a"
      }
    },
    {
      "cell_type": "code",
      "source": [
        "df_vehicles[\"Vehicle_Type\"].value_counts() #Ver cantidad de datos de cada valor"
      ],
      "metadata": {
        "id": "R-j3-09lU6ap",
        "colab": {
          "base_uri": "https://localhost:8080/"
        },
        "outputId": "b066dc79-8787-4821-f054-c0c73215c5e9"
      },
      "execution_count": null,
      "outputs": [
        {
          "output_type": "execute_result",
          "data": {
            "text/plain": [
              "9.0     2205201\n",
              "1.0      184083\n",
              "19.0     138182\n",
              "5.0       86904\n",
              "11.0      76888\n",
              "3.0       70152\n",
              "21.0      62962\n",
              "8.0       52409\n",
              "2.0       37224\n",
              "4.0       25686\n",
              "90.0      24305\n",
              "20.0      22567\n",
              "10.0       8387\n",
              "17.0       6304\n",
              "16.0       1297\n",
              "22.0        459\n",
              "98.0        387\n",
              "97.0        286\n",
              "18.0        250\n",
              "23.0         19\n",
              "Name: Vehicle_Type, dtype: int64"
            ]
          },
          "metadata": {},
          "execution_count": 133
        }
      ]
    },
    {
      "cell_type": "code",
      "source": [
        "cat_variables_accidents = [\"Junction_Control\", \"2nd_Road_Class\", \"Pedestrian_Crossing-Human_Control\", \"Pedestrian_Crossing-Physical_Facilities\",\"Weather_Conditions\", \"Road_Surface_Conditions\", \"Special_Conditions_at_Site\", \"Carriageway_Hazards\", \"Did_Police_Officer_Attend_Scene_of_Accident\"]\n",
        "for i in cat_variables_accidents:\n",
        "  print(f\" Mode : {df_accidents[i].mode()}\")\n",
        "  df_accidents[i] = df_accidents[i].fillna(df_accidents[i].mode().iloc[0]) #En caso de que la moda sean dos categorias se elije la primera"
      ],
      "metadata": {
        "id": "Pb9t3kCrvAs4",
        "colab": {
          "base_uri": "https://localhost:8080/"
        },
        "outputId": "194bac51-91e4-4b2d-bac7-7cd9125575c9"
      },
      "execution_count": null,
      "outputs": [
        {
          "output_type": "stream",
          "name": "stdout",
          "text": [
            " Mode : 0    4.0\n",
            "dtype: float64\n",
            " Mode : 0    6.0\n",
            "dtype: float64\n",
            " Mode : 0    0.0\n",
            "dtype: float64\n",
            " Mode : 0    0.0\n",
            "dtype: float64\n",
            " Mode : 0    1.0\n",
            "dtype: float64\n",
            " Mode : 0    1.0\n",
            "dtype: float64\n",
            " Mode : 0    0.0\n",
            "dtype: float64\n",
            " Mode : 0    0.0\n",
            "dtype: float64\n",
            " Mode : 0    1.0\n",
            "dtype: float64\n"
          ]
        }
      ]
    },
    {
      "cell_type": "code",
      "source": [
        "cat_variables_vehicles = [\"Vehicle_Type\", \"Towing_and_Articulation\", \"Vehicle_Manoeuvre\", \"Vehicle_Location-Restricted_Lane\", \"Junction_Location\", \"Skidding_and_Overturning\", \"Hit_Object_in_Carriageway\", \"Vehicle_Leaving_Carriageway\", \"Hit_Object_off_Carriageway\" , \"1st_Point_of_Impact\", \"Was_Vehicle_Left_Hand_Drive?\", \"Journey_Purpose_of_Driver\", \"Sex_of_Driver\", \"Age_of_Driver\", \"Age_Band_of_Driver\", \"Engine_Capacity_(CC)\", \"Propulsion_Code\", \"Age_of_Vehicle\", \"Driver_IMD_Decile\", \"Driver_Home_Area_Type\"]\n",
        "for i in cat_variables_vehicles:\n",
        "  print(f\" Mode : {df_vehicles[i].mode()}\")\n",
        "  df_vehicles[i] = df_vehicles[i].fillna(df_vehicles[i].mode().iloc[0]) #En caso de que la moda sean dos categorias se elije la primera"
      ],
      "metadata": {
        "id": "dNo4RIW4WjFk",
        "colab": {
          "base_uri": "https://localhost:8080/"
        },
        "outputId": "450eea47-fe32-4c7f-b0f5-468fdd1fb84c"
      },
      "execution_count": null,
      "outputs": [
        {
          "output_type": "stream",
          "name": "stdout",
          "text": [
            " Mode : 0    9.0\n",
            "dtype: float64\n",
            " Mode : 0    0.0\n",
            "dtype: float64\n",
            " Mode : 0    18.0\n",
            "dtype: float64\n",
            " Mode : 0    0.0\n",
            "dtype: float64\n",
            " Mode : 0    0.0\n",
            "dtype: float64\n",
            " Mode : 0    0.0\n",
            "dtype: float64\n",
            " Mode : 0    0.0\n",
            "dtype: float64\n",
            " Mode : 0    0.0\n",
            "dtype: float64\n",
            " Mode : 0    0.0\n",
            "dtype: float64\n",
            " Mode : 0    1.0\n",
            "dtype: float64\n",
            " Mode : 0    1.0\n",
            "dtype: float64\n",
            " Mode : 0    15.0\n",
            "dtype: float64\n",
            " Mode : 0    1.0\n",
            "dtype: float64\n",
            " Mode : 0    30.0\n",
            "dtype: float64\n",
            " Mode : 0    6.0\n",
            "dtype: float64\n",
            " Mode : 0    1598.0\n",
            "dtype: float64\n",
            " Mode : 0    1.0\n",
            "dtype: float64\n",
            " Mode : 0    1.0\n",
            "dtype: float64\n",
            " Mode : 0    3.0\n",
            "dtype: float64\n",
            " Mode : 0    1.0\n",
            "dtype: float64\n"
          ]
        }
      ]
    },
    {
      "cell_type": "code",
      "source": [
        "cat_variables_victims = [\"Sex_of_Casualty\", \"Pedestrian_Location\", \"Pedestrian_Movement\", \"Car_Passenger\", \"Bus_or_Coach_Passenger\", \"Pedestrian_Road_Maintenance_Worker\", \"Casualty_Home_Area_Type\"]\n",
        "for i in cat_variables_victims:\n",
        "  print(f\" Mode : {df_victims[i].mode()}\")\n",
        "  df_victims[i] = df_victims[i].fillna(df_victims[i].mode().iloc[0]) #En caso de que la moda sean dos categorias se elije la primera"
      ],
      "metadata": {
        "id": "7xo2vsS-WnUt",
        "colab": {
          "base_uri": "https://localhost:8080/"
        },
        "outputId": "03e37394-7518-4695-d42c-ab03ffcd9e25"
      },
      "execution_count": null,
      "outputs": [
        {
          "output_type": "stream",
          "name": "stdout",
          "text": [
            " Mode : 0    1.0\n",
            "dtype: float64\n",
            " Mode : 0    0.0\n",
            "dtype: float64\n",
            " Mode : 0    0.0\n",
            "dtype: float64\n",
            " Mode : 0    0.0\n",
            "dtype: float64\n",
            " Mode : 0    0.0\n",
            "dtype: float64\n",
            " Mode : 0    0.0\n",
            "dtype: float64\n",
            " Mode : 0    1.0\n",
            "dtype: float64\n"
          ]
        }
      ]
    },
    {
      "cell_type": "code",
      "source": [
        "cat_variables_victims, cat_variables_vehicles, cat_variables_accidents"
      ],
      "metadata": {
        "colab": {
          "base_uri": "https://localhost:8080/"
        },
        "id": "b5h2W16zAFAl",
        "outputId": "4c4ea6e1-e0d1-49b9-90db-578f9f17ddb4"
      },
      "execution_count": null,
      "outputs": [
        {
          "output_type": "execute_result",
          "data": {
            "text/plain": [
              "(['Sex_of_Casualty',\n",
              "  'Pedestrian_Location',\n",
              "  'Pedestrian_Movement',\n",
              "  'Car_Passenger',\n",
              "  'Bus_or_Coach_Passenger',\n",
              "  'Pedestrian_Road_Maintenance_Worker',\n",
              "  'Casualty_Home_Area_Type'],\n",
              " ['Vehicle_Type',\n",
              "  'Towing_and_Articulation',\n",
              "  'Vehicle_Manoeuvre',\n",
              "  'Vehicle_Location-Restricted_Lane',\n",
              "  'Junction_Location',\n",
              "  'Skidding_and_Overturning',\n",
              "  'Hit_Object_in_Carriageway',\n",
              "  'Vehicle_Leaving_Carriageway',\n",
              "  'Hit_Object_off_Carriageway',\n",
              "  '1st_Point_of_Impact',\n",
              "  'Was_Vehicle_Left_Hand_Drive?',\n",
              "  'Journey_Purpose_of_Driver',\n",
              "  'Sex_of_Driver',\n",
              "  'Age_of_Driver',\n",
              "  'Age_Band_of_Driver',\n",
              "  'Engine_Capacity_(CC)',\n",
              "  'Propulsion_Code',\n",
              "  'Age_of_Vehicle',\n",
              "  'Driver_IMD_Decile',\n",
              "  'Driver_Home_Area_Type'],\n",
              " ['Junction_Control',\n",
              "  '2nd_Road_Class',\n",
              "  'Pedestrian_Crossing-Human_Control',\n",
              "  'Pedestrian_Crossing-Physical_Facilities',\n",
              "  'Weather_Conditions',\n",
              "  'Road_Surface_Conditions',\n",
              "  'Special_Conditions_at_Site',\n",
              "  'Carriageway_Hazards',\n",
              "  'Did_Police_Officer_Attend_Scene_of_Accident'])"
            ]
          },
          "metadata": {},
          "execution_count": 137
        }
      ]
    },
    {
      "cell_type": "markdown",
      "source": [
        "## 3. MODELOS E ITERACIONES"
      ],
      "metadata": {
        "id": "AjZqbo4fY9yo"
      }
    },
    {
      "cell_type": "markdown",
      "source": [
        "### 3.1 Análisis de la variable objetivo"
      ],
      "metadata": {
        "id": "swfhjBK0-Nzo"
      }
    },
    {
      "cell_type": "code",
      "source": [
        "sns.distplot(df_accidents['Accident_Severity'])"
      ],
      "metadata": {
        "id": "s-bCBg_NCjU_",
        "outputId": "62eb61e4-5e84-450c-ab82-eab7fe509c78",
        "colab": {
          "base_uri": "https://localhost:8080/",
          "height": 352
        }
      },
      "execution_count": null,
      "outputs": [
        {
          "output_type": "stream",
          "name": "stderr",
          "text": [
            "/usr/local/lib/python3.7/dist-packages/seaborn/distributions.py:2619: FutureWarning: `distplot` is a deprecated function and will be removed in a future version. Please adapt your code to use either `displot` (a figure-level function with similar flexibility) or `histplot` (an axes-level function for histograms).\n",
            "  warnings.warn(msg, FutureWarning)\n"
          ]
        },
        {
          "output_type": "execute_result",
          "data": {
            "text/plain": [
              "<matplotlib.axes._subplots.AxesSubplot at 0x7f6ab0b3b410>"
            ]
          },
          "metadata": {},
          "execution_count": 19
        },
        {
          "output_type": "display_data",
          "data": {
            "text/plain": [
              "<Figure size 432x288 with 1 Axes>"
            ],
            "image/png": "[encoded data removed]"
          },
          "metadata": {
            "needs_background": "light"
          }
        }
      ]
    },
    {
      "cell_type": "markdown",
      "source": [
        "### 3.2 Generación tabla de variables finales de entrada y salida del modelo"
      ],
      "metadata": {
        "id": "Nz8WWOf1oKuR"
      }
    },
    {
      "cell_type": "code",
      "source": [
        "# df_victims[df_victims[\"Accident_Index\"] == \"20144100J0489\"]\n",
        "df_vehicles_cleaned = df_vehicles.groupby(\"Accident_Index\").first().reset_index()\n",
        "df_victims_cleaned = df_victims.groupby(\"Accident_Index\").first().reset_index()"
      ],
      "metadata": {
        "id": "crP5_F8KonGx"
      },
      "execution_count": null,
      "outputs": []
    },
    {
      "cell_type": "code",
      "source": [
        "print(df_accidents.shape)\n",
        "print(df_victims_cleaned.shape)\n",
        "print(df_vehicles_cleaned.shape)\n",
        "# \"Accident_Index\""
      ],
      "metadata": {
        "colab": {
          "base_uri": "https://localhost:8080/"
        },
        "id": "C7AJYp1-oFxv",
        "outputId": "dfdb0912-ec0a-43c1-b2b4-e50f0d3eaa04"
      },
      "execution_count": null,
      "outputs": [
        {
          "output_type": "stream",
          "name": "stdout",
          "text": [
            "(1640597, 32)\n",
            "(1640597, 15)\n",
            "(1640597, 22)\n"
          ]
        }
      ]
    },
    {
      "cell_type": "markdown",
      "source": [
        "Unimos el dataset con la primary key \"Accident_Index\" y posteriormente se eliminan las variables que no son de interés "
      ],
      "metadata": {
        "id": "c0gG6BHSyXvq"
      }
    },
    {
      "cell_type": "code",
      "source": [
        "df_model_variables = df_accidents.merge(df_victims_cleaned,how=\"inner\",on=\"Accident_Index\").merge(df_vehicles_cleaned,how=\"inner\",on=\"Accident_Index\")"
      ],
      "metadata": {
        "id": "e2m_OdQ7sNvC"
      },
      "execution_count": null,
      "outputs": []
    },
    {
      "cell_type": "code",
      "source": [
        "df_model_variables.drop(['Accident_Index','Did_Police_Officer_Attend_Scene_of_Accident','Sex_of_Casualty',\n",
        "                         'Sex_of_Driver','1st_Road_Class','2nd_Road_Number','Pedestrian_Crossing-Physical_Facilities',\n",
        "                           'Casualty_Type','Pedestrian_Crossing-Human_Control','1st_Road_Number','Junction_Control',\n",
        "                         'Bus_or_Coach_Passenger','Day_of_Week','Longitude','Was_Vehicle_Left_Hand_Drive?','Location_Easting_OSGR',\n",
        "                         'Propulsion_Code','Vehicle_Location-Restricted_Lane','Journey_Purpose_of_Driver','Car_Passenger','Driver_IMD_Decile',\n",
        "                         'Age_Band_of_Casualty','Age_Band_of_Driver','Latitude','Location_Northing_OSGR','Age_of_Driver','Age_of_Casualty',\n",
        "                         'Local_Authority_(District)','Police_Force','Pedestrian_Movement','Casualty_Home_Area_Type','Pedestrian_Location',\n",
        "                         'Casualty_Class','Driver_Home_Area_Type','2nd_Road_Class','Number_of_Vehicles','Light_Conditions',\n",
        "                         'Vehicle_Leaving_Carriageway','Casualty_Reference','Number_of_Casualties','Pedestrian_Road_Maintenance_Worker',\n",
        "                         'Local_Authority_(Highway)','Date','Time','LSOA_of_Accident_Location'],axis = 1,inplace=True)\n"
      ],
      "metadata": {
        "id": "rKhb0bwSso6y"
      },
      "execution_count": null,
      "outputs": []
    },
    {
      "cell_type": "markdown",
      "source": [
        "### 3.3 División del dataset en Train & Test\n",
        "\n",
        "Se divide el dataset con un 30% de los datos para validacion y 70% para entrenamiento"
      ],
      "metadata": {
        "id": "YQ0UAMjNcgat"
      }
    },
    {
      "cell_type": "code",
      "source": [
        "y = df_model_variables['Accident_Severity'].values\n",
        "X= df_model_variables.drop('Accident_Severity',axis=1)\n",
        "\n",
        "test_size = 0.3\n",
        "X_train, X_test, y_train , y_test = train_test_split(X, y, test_size=test_size,random_state=1)\n",
        "print(X_train.shape, X_test.shape)"
      ],
      "metadata": {
        "id": "TmbmHYD1JeOi",
        "colab": {
          "base_uri": "https://localhost:8080/"
        },
        "outputId": "957aa7ac-39d5-42b6-d544-a994c45aecdc"
      },
      "execution_count": null,
      "outputs": [
        {
          "output_type": "stream",
          "name": "stdout",
          "text": [
            "(1148417, 21) (492180, 21)\n"
          ]
        }
      ]
    },
    {
      "cell_type": "markdown",
      "source": [
        "grafica de severidad vs prediccion del modelo estblecer los umbrales, 3 hisotogramas con cada valor, randomforest clasiffier(class weight con este le doy mayor importancia a las clases menos frecuentes, o poner balance), \n"
      ],
      "metadata": {
        "id": "-bYUwkhWf30_"
      }
    },
    {
      "cell_type": "markdown",
      "source": [
        "### 3.4 Aplicacion de los Metodos Supervisados"
      ],
      "metadata": {
        "id": "1jjkoJ9GaPRE"
      }
    },
    {
      "cell_type": "code",
      "source": [
        "estimator1 = LinearRegression()\n",
        "estimator2 = DecisionTreeRegressor(max_depth=5)\n",
        "estimator3 = RandomForestRegressor(n_estimators = 2,max_depth = 5)"
      ],
      "metadata": {
        "id": "5YqgnNz0LKuG"
      },
      "execution_count": null,
      "outputs": []
    },
    {
      "cell_type": "code",
      "source": [
        "def report_cv_score(z):\n",
        "    \n",
        "    #RMSE en prueba y entrenamiento\n",
        "    lr_ts_score = z['test_score']*(-1)\n",
        "    lr_tr_score = z['train_score']*(-1)\n",
        "    lin_rmse_ts = np.sqrt(lr_ts_score)\n",
        "    lin_rmse_tr = np.sqrt(lr_tr_score)\n",
        "    print(\"RMSLE Test: \", \"{:.5f}\".format(np.mean(lin_rmse_ts)), \"(±\", \"{:.8f}\".format(np.std(lin_rmse_ts)),\")\")\n",
        "    print(\"RMSLE Train: \", \"{:.5f}\".format(np.mean(lin_rmse_tr)), \"(±\", \"{:.8f}\".format(np.std(lin_rmse_tr)),\")\")"
      ],
      "metadata": {
        "id": "ObMB4lv3ML_2"
      },
      "execution_count": null,
      "outputs": []
    },
    {
      "cell_type": "code",
      "source": [
        "test_size = 0.3\n",
        "val_size  = test_size/(1-test_size)\n",
        "zscores = []\n",
        "estimators = [estimator1, estimator2, estimator3]\n",
        "for estimator in estimators:\n",
        "    print(\"---------\")\n",
        "    z = cross_validate(estimator, X_train, y_train, return_train_score=True, return_estimator=False,\n",
        "                       scoring=\"neg_mean_squared_error\", cv=ShuffleSplit(n_splits=10, test_size= val_size,random_state=1))\n",
        "    report_cv_score(z)\n",
        "    zscores.append(np.mean(np.sqrt(z['test_score']*(-1))))\n",
        "best = np.argmin(zscores)\n",
        "print (\"Seleccionado: \", best)\n",
        "best_estimator = estimators[best]\n",
        "print (\"\\n Mejor modelo: \")\n",
        "print (best_estimator)"
      ],
      "metadata": {
        "colab": {
          "base_uri": "https://localhost:8080/"
        },
        "id": "5TqBqca5LWxZ",
        "outputId": "2a6a1755-49e4-4ce7-c755-78e1bed3ac1b"
      },
      "execution_count": null,
      "outputs": [
        {
          "output_type": "stream",
          "name": "stdout",
          "text": [
            "---------\n",
            "RMSLE Test:  0.14100 (± 0.00071041 )\n",
            "RMSLE Train:  0.14064 (± 0.00053239 )\n",
            "---------\n",
            "RMSLE Test:  0.14078 (± 0.00066575 )\n",
            "RMSLE Train:  0.14033 (± 0.00052300 )\n",
            "---------\n",
            "RMSLE Test:  0.14070 (± 0.00068746 )\n",
            "RMSLE Train:  0.14028 (± 0.00052825 )\n",
            "Seleccionado:  2\n",
            "\n",
            " Mejor modelo: \n",
            "RandomForestRegressor(max_depth=5, n_estimators=2)\n"
          ]
        }
      ]
    },
    {
      "cell_type": "markdown",
      "source": [
        "**Se aplica el mejor modelo obtenido para el estudio: Random Forest**"
      ],
      "metadata": {
        "id": "TGcieAdlzDqs"
      }
    },
    {
      "cell_type": "code",
      "source": [
        "parametros = {'max_depth': [2,5,8,12,15]}\n",
        "\n",
        "\n",
        "model = GridSearchCV(estimator = estimator3,\n",
        "                        param_grid = parametros,\n",
        "                        cv = ShuffleSplit(n_splits= 5, test_size=val_size,random_state=1), # random state sirve para la selección aleatoria basado en una semilla, asegura que los resultados no cambien en cada corrida\n",
        "                        scoring = 'neg_mean_squared_error',\n",
        "                        verbose = 1,\n",
        "                        return_train_score = True,\n",
        "                        n_jobs = -1)\n",
        "\n",
        "model.fit(X_train, y_train)\n"
      ],
      "metadata": {
        "colab": {
          "base_uri": "https://localhost:8080/"
        },
        "id": "s3dngLNoy948",
        "outputId": "8de6a461-e815-43c8-c230-cc9209ff6ef7"
      },
      "execution_count": null,
      "outputs": [
        {
          "output_type": "stream",
          "name": "stdout",
          "text": [
            "Fitting 5 folds for each of 5 candidates, totalling 25 fits\n"
          ]
        },
        {
          "output_type": "execute_result",
          "data": {
            "text/plain": [
              "GridSearchCV(cv=ShuffleSplit(n_splits=5, random_state=1, test_size=0.4285714285714286,\n",
              "       train_size=None),\n",
              "             estimator=RandomForestRegressor(max_depth=5, n_estimators=2),\n",
              "             n_jobs=-1, param_grid={'max_depth': [2, 5, 8, 12, 15]},\n",
              "             return_train_score=True, scoring='neg_mean_squared_error',\n",
              "             verbose=1)"
            ]
          },
          "metadata": {},
          "execution_count": 146
        }
      ]
    },
    {
      "cell_type": "code",
      "source": [
        "print(\"Mejor estimador: \",model.best_estimator_)\n",
        "print(\"Mejores parámetros para el estimador: \", model.best_params_)"
      ],
      "metadata": {
        "colab": {
          "base_uri": "https://localhost:8080/"
        },
        "id": "olBYCcGGzsxn",
        "outputId": "d5b0ec83-a9ce-42cb-c043-426e25374e7a"
      },
      "execution_count": null,
      "outputs": [
        {
          "output_type": "stream",
          "name": "stdout",
          "text": [
            "Mejor estimador:  RandomForestRegressor(max_depth=8, n_estimators=2)\n",
            "Mejores parámetros para el estimador:  {'max_depth': 8}\n"
          ]
        }
      ]
    },
    {
      "cell_type": "markdown",
      "source": [
        "### 3.5 Mejora del modelo con RandomForestClassifier"
      ],
      "metadata": {
        "id": "GvRVdTWJQ7vG"
      }
    },
    {
      "cell_type": "code",
      "source": [
        "model_selected = RandomForestClassifier(max_depth=8,n_estimators=2,class_weight=\"balanced\")\n",
        "model_selected.fit(X_train, y_train)"
      ],
      "metadata": {
        "colab": {
          "base_uri": "https://localhost:8080/"
        },
        "id": "9sHfibjIzyVt",
        "outputId": "931d9e35-b566-46b6-bc92-161e65477489"
      },
      "execution_count": null,
      "outputs": [
        {
          "output_type": "execute_result",
          "data": {
            "text/plain": [
              "RandomForestClassifier(class_weight='balanced', max_depth=8, n_estimators=2)"
            ]
          },
          "metadata": {},
          "execution_count": 148
        }
      ]
    },
    {
      "cell_type": "code",
      "source": [
        "y_pred_train = model_selected.predict(X_train)\n",
        "y_pred_test = model_selected.predict(X_test)"
      ],
      "metadata": {
        "id": "WKD9mVuarRRq"
      },
      "execution_count": null,
      "outputs": []
    },
    {
      "cell_type": "markdown",
      "source": [
        "### 3.7 Aplicación de los Metodos Supervisados"
      ],
      "metadata": {
        "id": "5Mdi9c7OwP5Q"
      }
    },
    {
      "cell_type": "markdown",
      "source": [
        "**Matriz de confusión**\n",
        "\n"
      ],
      "metadata": {
        "id": "U4eAgaDJGSS8"
      }
    },
    {
      "cell_type": "code",
      "source": [
        "# Función para graficar la matriz de confusion para cada salida\n",
        "def graficarMatrizConf(cm,target_names,title='Confusion matrix',cmap=None,normalize=True):\n",
        "\n",
        "    \"\"\"\n",
        "    given a sklearn confusion matrix (cm), make a nice plot\n",
        "\n",
        "    Arguments\n",
        "    ---------\n",
        "    cm:           confusion matrix from sklearn.metrics.confusion_matrix\n",
        "\n",
        "    target_names: given classification classes such as [0, 1, 2]\n",
        "                  the class names, for example: ['high', 'medium', 'low']\n",
        "\n",
        "    title:        the text to display at the top of the matrix\n",
        "\n",
        "    cmap:         the gradient of the values displayed from matplotlib.pyplot.cm\n",
        "                  see http://matplotlib.org/examples/color/colormaps_reference.html\n",
        "                  plt.get_cmap('jet') or plt.cm.Blues\n",
        "\n",
        "    normalize:    If False, plot the raw numbers\n",
        "                  If True, plot the proportions\n",
        "\n",
        "    Usage\n",
        "    -----\n",
        "    plot_confusion_matrix(cm           = cm,                  # confusion matrix created by\n",
        "                                                              # sklearn.metrics.confusion_matrix\n",
        "                          normalize    = True,                # show proportions\n",
        "                          target_names = y_labels_vals,       # list of names of the classes\n",
        "                          title        = best_estimator_name) # title of graph\n",
        "\n",
        "    Citiation\n",
        "    ---------\n",
        "    http://scikit-learn.org/stable/auto_examples/model_selection/plot_confusion_matrix.html\n",
        "\n",
        "    \"\"\"\n",
        "    import itertools\n",
        "\n",
        "    accuracy = np.trace(cm) / np.sum(cm).astype('float')\n",
        "    misclass = 1 - accuracy\n",
        "\n",
        "    if cmap is None:\n",
        "        cmap = plt.get_cmap('Blues')\n",
        "\n",
        "    plt.figure(figsize=(8, 6))\n",
        "    plt.imshow(cm, interpolation='nearest', cmap=cmap)\n",
        "    plt.title(title)\n",
        "    plt.colorbar()\n",
        "\n",
        "    if target_names is not None:\n",
        "        tick_marks = np.arange(len(target_names))\n",
        "        plt.xticks(tick_marks, target_names, rotation=45)\n",
        "        plt.yticks(tick_marks, target_names)\n",
        "\n",
        "    if normalize:\n",
        "        cm = cm.astype('float') / cm.sum(axis=1)[:, np.newaxis]\n",
        "\n",
        "\n",
        "    thresh = cm.max() / 1.5 if normalize else cm.max() / 2\n",
        "    for i, j in itertools.product(range(cm.shape[0]), range(cm.shape[1])):\n",
        "        if normalize:\n",
        "            plt.text(j, i, \"{:0.2f}%\".format(cm[i, j]*100),\n",
        "                     horizontalalignment=\"center\",\n",
        "                     color=\"white\" if cm[i, j] > thresh else \"black\")\n",
        "        else:\n",
        "            plt.text(j, i, \"{:,}\".format(cm[i, j]),\n",
        "                     horizontalalignment=\"center\",\n",
        "                     color=\"white\" if cm[i, j] > thresh else \"black\")\n",
        "\n",
        "\n",
        "    plt.tight_layout()\n",
        "    plt.ylabel('True label')\n",
        "    plt.xlabel('Predicted label\\naccuracy={:0.4f}; misclass={:0.4f}'.format(accuracy, misclass))"
      ],
      "metadata": {
        "id": "yUHjgj2h1vPk"
      },
      "execution_count": null,
      "outputs": []
    },
    {
      "cell_type": "markdown",
      "source": [
        "**Interpretación de una matriz de confusión**\n",
        "\n",
        "![matriz.PNG](data:image/png;base64,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)"
      ],
      "metadata": {
        "id": "fy4KRzL0Xb18"
      }
    },
    {
      "cell_type": "code",
      "source": [
        "# Grafico de la matriz de confusión multinivel\n",
        "matrices = metrics.multilabel_confusion_matrix(y_test,y_pred_test)\n",
        "for i in range(3):\n",
        "  print(matrices[i])\n",
        "  graficarMatrizConf(matrices[i],[\"Negativo\", \"Positivo\"],f\"Matriz de confusión para categoria {i+1}\",None,False)"
      ],
      "metadata": {
        "colab": {
          "base_uri": "https://localhost:8080/",
          "height": 1000
        },
        "id": "bvgYs9Jqzhxa",
        "outputId": "97f7c586-d568-4ece-8d19-ac44b7db57ff"
      },
      "execution_count": null,
      "outputs": [
        {
          "output_type": "stream",
          "name": "stdout",
          "text": [
            "[[467749  18108]\n",
            " [  1974   4349]]\n",
            "[[421962   3877]\n",
            " [ 10089  56252]]\n",
            "[[ 65548   7116]\n",
            " [ 17038 402478]]\n"
          ]
        },
        {
          "output_type": "display_data",
          "data": {
            "text/plain": [
              "<Figure size 576x432 with 2 Axes>"
            ],
            "image/png": "[encoded data removed]"
          },
          "metadata": {
            "needs_background": "light"
          }
        },
        {
          "output_type": "display_data",
          "data": {
            "text/plain": [
              "<Figure size 576x432 with 2 Axes>"
            ],
            "image/png": "[encoded data removed]"
          },
          "metadata": {
            "needs_background": "light"
          }
        },
        {
          "output_type": "display_data",
          "data": {
            "text/plain": [
              "<Figure size 576x432 with 2 Axes>"
            ],
            "image/png": "[encoded data removed]"
          },
          "metadata": {
            "needs_background": "light"
          }
        }
      ]
    },
    {
      "cell_type": "markdown",
      "source": [
        "**Calculo de True Positive Rate TPR**\n",
        "\n",
        "TPR = TP/TP + FN"
      ],
      "metadata": {
        "id": "7YMUNJ_eHuez"
      }
    },
    {
      "cell_type": "code",
      "source": [
        "TPR_severity_1 = 4349/(4349+1974)\n",
        "TPR_severity_2 = 56252/(56252+10089)\n",
        "TPR_severity_3 = 402478/(402478+17038)\n",
        "TPR_severity_1, TPR_severity_2, TPR_severity_3"
      ],
      "metadata": {
        "colab": {
          "base_uri": "https://localhost:8080/"
        },
        "id": "qMl9L4j8H2FM",
        "outputId": "baf2cc4e-44c2-4feb-8262-5c64adba3355"
      },
      "execution_count": null,
      "outputs": [
        {
          "output_type": "execute_result",
          "data": {
            "text/plain": [
              "(0.6878064210026886, 0.8479220994558417, 0.9593865311454152)"
            ]
          },
          "metadata": {},
          "execution_count": 6
        }
      ]
    },
    {
      "cell_type": "markdown",
      "source": [
        "**Calculo de False Positive Rate FPR**\n",
        "\n",
        "FPR = FP/FP + TN"
      ],
      "metadata": {
        "id": "wx03ZxOxIf7s"
      }
    },
    {
      "cell_type": "code",
      "source": [
        "FPR_severity_1 = 18108/(18108+467749)\n",
        "FPR_severity_2 = 3877/(3877+421962)\n",
        "FPR_severity_3 = 7116/(7116+65548)\n",
        "FPR_severity_1,FPR_severity_2,FPR_severity_3"
      ],
      "metadata": {
        "colab": {
          "base_uri": "https://localhost:8080/"
        },
        "id": "u1UiXixsJ_VI",
        "outputId": "0d0207fc-237e-4afa-b406-8312e19441ee"
      },
      "execution_count": null,
      "outputs": [
        {
          "output_type": "execute_result",
          "data": {
            "text/plain": [
              "(0.03727022560136007, 0.009104379824299794, 0.09793019927336782)"
            ]
          },
          "metadata": {},
          "execution_count": 7
        }
      ]
    },
    {
      "cell_type": "markdown",
      "source": [
        "**Metricas etapa de validación del modelo**"
      ],
      "metadata": {
        "id": "mi-yZRPs5706"
      }
    },
    {
      "cell_type": "code",
      "source": [
        "# Accuracy del modelo \n",
        "metrics.accuracy_score(y_test,y_pred_test)"
      ],
      "metadata": {
        "colab": {
          "base_uri": "https://localhost:8080/"
        },
        "id": "hl5Y-SHb5T-s",
        "outputId": "17381ec0-85f8-4145-fa43-3afc05e88a80"
      },
      "execution_count": null,
      "outputs": [
        {
          "output_type": "execute_result",
          "data": {
            "text/plain": [
              "0.9408732577512292"
            ]
          },
          "metadata": {},
          "execution_count": 162
        }
      ]
    },
    {
      "cell_type": "markdown",
      "source": [
        "**Curva ROC**"
      ],
      "metadata": {
        "id": "QWDiyaNIGFd5"
      }
    },
    {
      "cell_type": "code",
      "source": [
        "#curva ROC\n",
        "def graficar_curvaROC(y_test,y_predicted_proba,model_class,titulo=\"Curva ROC y AUC\"):\n",
        "\n",
        "    fpr = {}\n",
        "    tpr = {}\n",
        "    threshold = {}\n",
        "    roc_auc = {}\n",
        "    for i in range(len(model_class)):\n",
        "        fpr[i], tpr[i], threshold[i] = metrics.roc_curve(y_test[:,i],y_predicted_proba[:,i])\n",
        "        roc_auc[i] = metrics.auc(fpr[i], tpr[i])\n",
        "\n",
        "    #from itertools import cycle\n",
        "    plt.figure(figsize=(15,7))\n",
        "    #cycle(['green','']) # Python puede crear ciclos infinitos con los valores dentro de la lista ingresada a cycle\n",
        "    for i in range(len(model_class)): # Zip permite crear tuplas tomando los elementos con el mismo index de cada una de las listas o rangos\n",
        "        plt.plot(fpr[i],tpr[i],lw=1,label=f\"Curva ROC para la clase {model_class[i]} (AUC = {roc_auc[i].round(3)})\")\n",
        "\n",
        "    plt.plot([0,1],[0,1],'k--',lw=1)\n",
        "    plt.title(titulo)\n",
        "    plt.xlabel(\"Tasa de falsos positivos\")\n",
        "    plt.ylabel(\"Tasa de verdaderos positivos\")\n",
        "    plt.legend(loc=\"lower right\")\n",
        "    plt.show()"
      ],
      "metadata": {
        "id": "6SyQC6WK6ho6"
      },
      "execution_count": null,
      "outputs": []
    },
    {
      "cell_type": "code",
      "source": [
        "y_predicted_proba = model_selected.predict_proba(X_test)\n",
        "y_test_bin = pd.get_dummies(y_test).values #1 es la categoria y 0 no one hot one hot encoding consultar\n",
        "\n",
        "graficar_curvaROC(y_test_bin,y_predicted_proba,[1,2,3])"
      ],
      "metadata": {
        "colab": {
          "base_uri": "https://localhost:8080/",
          "height": 458
        },
        "id": "r44fHZ6z68aV",
        "outputId": "0946937b-f66b-463a-e40a-20ac4c7ffd96"
      },
      "execution_count": null,
      "outputs": [
        {
          "output_type": "display_data",
          "data": {
            "text/plain": [
              "<Figure size 1080x504 with 1 Axes>"
            ],
            "image/png": "[encoded data removed]"
          },
          "metadata": {
            "needs_background": "light"
          }
        }
      ]
    },
    {
      "cell_type": "markdown",
      "source": [
        "### 3.7 Evaluación de las variables con FeatureImportances()\n"
      ],
      "metadata": {
        "id": "vRHDF2WRWHVr"
      }
    },
    {
      "cell_type": "markdown",
      "source": [
        "para mejorar el error se usa feature importances para evaluar que variables tienen mas peso para la prediccion del modelo en funcion de la variable de salida\n"
      ],
      "metadata": {
        "id": "KQcW1bgnSaI4"
      }
    },
    {
      "cell_type": "code",
      "source": [
        "X.columns"
      ],
      "metadata": {
        "colab": {
          "base_uri": "https://localhost:8080/"
        },
        "id": "4MtTZbHaRKOg",
        "outputId": "cafa328c-c6f2-486e-c6ba-7ab0c7cee84c"
      },
      "execution_count": null,
      "outputs": [
        {
          "output_type": "execute_result",
          "data": {
            "text/plain": [
              "Index(['Road_Type', 'Speed_limit', 'Junction_Detail', 'Weather_Conditions',\n",
              "       'Road_Surface_Conditions', 'Special_Conditions_at_Site',\n",
              "       'Carriageway_Hazards', 'Urban_or_Rural_Area', 'Vehicle_Reference_x',\n",
              "       'Casualty_Severity', 'Vehicle_Reference_y', 'Vehicle_Type',\n",
              "       'Towing_and_Articulation', 'Vehicle_Manoeuvre', 'Junction_Location',\n",
              "       'Skidding_and_Overturning', 'Hit_Object_in_Carriageway',\n",
              "       'Hit_Object_off_Carriageway', '1st_Point_of_Impact',\n",
              "       'Engine_Capacity_(CC)', 'Age_of_Vehicle'],\n",
              "      dtype='object')"
            ]
          },
          "metadata": {},
          "execution_count": 39
        }
      ]
    },
    {
      "cell_type": "code",
      "source": [
        "importances = model_selected.feature_importances_\n",
        "feature_names = X.columns\n",
        "std = np.std([tree.feature_importances_ for tree in model_selected.estimators_], axis=0)\n",
        "forest_importances = pd.Series(importances, index=feature_names)\n",
        "fig, ax = plt.subplots(figsize=(12,6))\n",
        "forest_importances.plot.bar(yerr=std, ax=ax)\n",
        "ax.set_title(\"Feature importances using MDI\")\n",
        "ax.set_ylabel(\"Mean decrease in impurity\")\n",
        "fig.tight_layout()"
      ],
      "metadata": {
        "colab": {
          "base_uri": "https://localhost:8080/",
          "height": 441
        },
        "id": "DCfqQUpyQhko",
        "outputId": "d57717ac-751d-41e8-9a39-89a5f5457a9a"
      },
      "execution_count": null,
      "outputs": [
        {
          "output_type": "display_data",
          "data": {
            "text/plain": [
              "<Figure size 864x432 with 1 Axes>"
            ],
            "image/png": "[encoded data removed]"
          },
          "metadata": {
            "needs_background": "light"
          }
        }
      ]
    },
    {
      "cell_type": "markdown",
      "source": [
        "### 3.8 Visualización de ypred vs ytest"
      ],
      "metadata": {
        "id": "tBy9WkFmLVXq"
      }
    },
    {
      "cell_type": "code",
      "source": [
        "sns.distplot(y_test)"
      ],
      "metadata": {
        "colab": {
          "base_uri": "https://localhost:8080/",
          "height": 337
        },
        "id": "LNPIV97wLTJI",
        "outputId": "4cbd8e6a-ebc7-4b97-a986-b5a5a3960c74"
      },
      "execution_count": null,
      "outputs": [
        {
          "output_type": "stream",
          "name": "stderr",
          "text": [
            "/usr/local/lib/python3.7/dist-packages/seaborn/distributions.py:2619: FutureWarning: `distplot` is a deprecated function and will be removed in a future version. Please adapt your code to use either `displot` (a figure-level function with similar flexibility) or `histplot` (an axes-level function for histograms).\n",
            "  warnings.warn(msg, FutureWarning)\n"
          ]
        },
        {
          "output_type": "execute_result",
          "data": {
            "text/plain": [
              "<matplotlib.axes._subplots.AxesSubplot at 0x7f722daca890>"
            ]
          },
          "metadata": {},
          "execution_count": 157
        },
        {
          "output_type": "display_data",
          "data": {
            "text/plain": [
              "<Figure size 432x288 with 1 Axes>"
            ],
            "image/png": "[encoded data removed]"
          },
          "metadata": {
            "needs_background": "light"
          }
        }
      ]
    },
    {
      "cell_type": "code",
      "source": [
        "sns.distplot(y_pred_test)"
      ],
      "metadata": {
        "colab": {
          "base_uri": "https://localhost:8080/",
          "height": 337
        },
        "id": "pwtRPBxOMj4q",
        "outputId": "90d8ba91-b93d-4ce6-a125-6a195ae13ae6"
      },
      "execution_count": null,
      "outputs": [
        {
          "output_type": "stream",
          "name": "stderr",
          "text": [
            "/usr/local/lib/python3.7/dist-packages/seaborn/distributions.py:2619: FutureWarning: `distplot` is a deprecated function and will be removed in a future version. Please adapt your code to use either `displot` (a figure-level function with similar flexibility) or `histplot` (an axes-level function for histograms).\n",
            "  warnings.warn(msg, FutureWarning)\n"
          ]
        },
        {
          "output_type": "execute_result",
          "data": {
            "text/plain": [
              "<matplotlib.axes._subplots.AxesSubplot at 0x7f722c80b690>"
            ]
          },
          "metadata": {},
          "execution_count": 158
        },
        {
          "output_type": "display_data",
          "data": {
            "text/plain": [
              "<Figure size 432x288 with 1 Axes>"
            ],
            "image/png": "[encoded data removed]"
          },
          "metadata": {
            "needs_background": "light"
          }
        }
      ]
    }
  ]
}